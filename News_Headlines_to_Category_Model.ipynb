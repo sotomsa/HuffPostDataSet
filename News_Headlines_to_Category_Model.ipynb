{
 "cells": [
  {
   "cell_type": "markdown",
   "metadata": {},
   "source": [
    "# Loading Libraries"
   ]
  },
  {
   "cell_type": "markdown",
   "metadata": {},
   "source": [
    "Bse libraries and current path"
   ]
  },
  {
   "cell_type": "code",
   "execution_count": 1,
   "metadata": {
    "ExecuteTime": {
     "end_time": "2020-12-13T00:29:55.821511Z",
     "start_time": "2020-12-13T00:29:55.797511Z"
    }
   },
   "outputs": [
    {
     "name": "stdout",
     "output_type": "stream",
     "text": [
      "C:\\Users\\mauricio\\Desktop\\PruebaTecnicaWandJ\n"
     ]
    }
   ],
   "source": [
    "import os\n",
    "print(os.getcwd())"
   ]
  },
  {
   "cell_type": "markdown",
   "metadata": {},
   "source": [
    "Third party libraries"
   ]
  },
  {
   "cell_type": "code",
   "execution_count": 2,
   "metadata": {
    "ExecuteTime": {
     "end_time": "2020-12-13T00:30:00.371231Z",
     "start_time": "2020-12-13T00:29:55.829508Z"
    }
   },
   "outputs": [],
   "source": [
    "import numpy as np\n",
    "import pandas as pd\n",
    "import altair as alt\n",
    "import matplotlib.pyplot as plt\n",
    "from joblib import load, dump\n",
    "\n",
    "import nltk\n",
    "#nltk.download('punkt') # download punkt in order to use word tokenizer\n",
    "#nltk.download('stopwords') # download stopwords\n",
    "from nltk.tokenize import word_tokenize\n",
    "from nltk.stem import SnowballStemmer\n",
    "\n",
    "from sklearn.model_selection import train_test_split, GridSearchCV\n",
    "from sklearn.pipeline import Pipeline\n",
    "from sklearn.feature_extraction.text import CountVectorizer, TfidfTransformer\n",
    "from sklearn.naive_bayes import MultinomialNB \n",
    "from sklearn import metrics\n",
    "from sklearn.metrics import plot_confusion_matrix, classification_report"
   ]
  },
  {
   "cell_type": "markdown",
   "metadata": {},
   "source": [
    "Code flow flags"
   ]
  },
  {
   "cell_type": "code",
   "execution_count": 220,
   "metadata": {
    "ExecuteTime": {
     "end_time": "2020-12-13T17:48:40.864268Z",
     "start_time": "2020-12-13T17:48:40.848269Z"
    }
   },
   "outputs": [],
   "source": [
    "create_ETL_data = False\n",
    "rewrite = True"
   ]
  },
  {
   "cell_type": "markdown",
   "metadata": {},
   "source": [
    "# ETL"
   ]
  },
  {
   "cell_type": "code",
   "execution_count": 60,
   "metadata": {
    "ExecuteTime": {
     "end_time": "2020-12-13T02:06:10.659438Z",
     "start_time": "2020-12-13T02:06:06.927590Z"
    }
   },
   "outputs": [
    {
     "data": {
      "text/html": [
       "<div>\n",
       "<style scoped>\n",
       "    .dataframe tbody tr th:only-of-type {\n",
       "        vertical-align: middle;\n",
       "    }\n",
       "\n",
       "    .dataframe tbody tr th {\n",
       "        vertical-align: top;\n",
       "    }\n",
       "\n",
       "    .dataframe thead th {\n",
       "        text-align: right;\n",
       "    }\n",
       "</style>\n",
       "<table border=\"1\" class=\"dataframe\">\n",
       "  <thead>\n",
       "    <tr style=\"text-align: right;\">\n",
       "      <th></th>\n",
       "      <th>category</th>\n",
       "      <th>headline</th>\n",
       "      <th>authors</th>\n",
       "      <th>link</th>\n",
       "      <th>short_description</th>\n",
       "      <th>date</th>\n",
       "    </tr>\n",
       "    <tr>\n",
       "      <th>id</th>\n",
       "      <th></th>\n",
       "      <th></th>\n",
       "      <th></th>\n",
       "      <th></th>\n",
       "      <th></th>\n",
       "      <th></th>\n",
       "    </tr>\n",
       "  </thead>\n",
       "  <tbody>\n",
       "    <tr>\n",
       "      <th>0</th>\n",
       "      <td>CRIME</td>\n",
       "      <td>There Were 2 Mass Shootings In Texas Last Week...</td>\n",
       "      <td>Melissa Jeltsen</td>\n",
       "      <td>https://www.huffingtonpost.com/entry/texas-ama...</td>\n",
       "      <td>She left her husband. He killed their children...</td>\n",
       "      <td>2018-05-26</td>\n",
       "    </tr>\n",
       "    <tr>\n",
       "      <th>1</th>\n",
       "      <td>ENTERTAINMENT</td>\n",
       "      <td>Will Smith Joins Diplo And Nicky Jam For The 2...</td>\n",
       "      <td>Andy McDonald</td>\n",
       "      <td>https://www.huffingtonpost.com/entry/will-smit...</td>\n",
       "      <td>Of course it has a song.</td>\n",
       "      <td>2018-05-26</td>\n",
       "    </tr>\n",
       "    <tr>\n",
       "      <th>2</th>\n",
       "      <td>ENTERTAINMENT</td>\n",
       "      <td>Hugh Grant Marries For The First Time At Age 57</td>\n",
       "      <td>Ron Dicker</td>\n",
       "      <td>https://www.huffingtonpost.com/entry/hugh-gran...</td>\n",
       "      <td>The actor and his longtime girlfriend Anna Ebe...</td>\n",
       "      <td>2018-05-26</td>\n",
       "    </tr>\n",
       "    <tr>\n",
       "      <th>3</th>\n",
       "      <td>ENTERTAINMENT</td>\n",
       "      <td>Jim Carrey Blasts 'Castrato' Adam Schiff And D...</td>\n",
       "      <td>Ron Dicker</td>\n",
       "      <td>https://www.huffingtonpost.com/entry/jim-carre...</td>\n",
       "      <td>The actor gives Dems an ass-kicking for not fi...</td>\n",
       "      <td>2018-05-26</td>\n",
       "    </tr>\n",
       "    <tr>\n",
       "      <th>4</th>\n",
       "      <td>ENTERTAINMENT</td>\n",
       "      <td>Julianna Margulies Uses Donald Trump Poop Bags...</td>\n",
       "      <td>Ron Dicker</td>\n",
       "      <td>https://www.huffingtonpost.com/entry/julianna-...</td>\n",
       "      <td>The \"Dietland\" actress said using the bags is ...</td>\n",
       "      <td>2018-05-26</td>\n",
       "    </tr>\n",
       "    <tr>\n",
       "      <th>...</th>\n",
       "      <td>...</td>\n",
       "      <td>...</td>\n",
       "      <td>...</td>\n",
       "      <td>...</td>\n",
       "      <td>...</td>\n",
       "      <td>...</td>\n",
       "    </tr>\n",
       "    <tr>\n",
       "      <th>200848</th>\n",
       "      <td>TECH</td>\n",
       "      <td>RIM CEO Thorsten Heins' 'Significant' Plans Fo...</td>\n",
       "      <td>Reuters, Reuters</td>\n",
       "      <td>https://www.huffingtonpost.com/entry/rim-ceo-t...</td>\n",
       "      <td>Verizon Wireless and AT&amp;T are already promotin...</td>\n",
       "      <td>2012-01-28</td>\n",
       "    </tr>\n",
       "    <tr>\n",
       "      <th>200849</th>\n",
       "      <td>SPORTS</td>\n",
       "      <td>Maria Sharapova Stunned By Victoria Azarenka I...</td>\n",
       "      <td></td>\n",
       "      <td>https://www.huffingtonpost.com/entry/maria-sha...</td>\n",
       "      <td>Afterward, Azarenka, more effusive with the pr...</td>\n",
       "      <td>2012-01-28</td>\n",
       "    </tr>\n",
       "    <tr>\n",
       "      <th>200850</th>\n",
       "      <td>SPORTS</td>\n",
       "      <td>Giants Over Patriots, Jets Over Colts Among  M...</td>\n",
       "      <td></td>\n",
       "      <td>https://www.huffingtonpost.com/entry/super-bow...</td>\n",
       "      <td>Leading up to Super Bowl XLVI, the most talked...</td>\n",
       "      <td>2012-01-28</td>\n",
       "    </tr>\n",
       "    <tr>\n",
       "      <th>200851</th>\n",
       "      <td>SPORTS</td>\n",
       "      <td>Aldon Smith Arrested: 49ers Linebacker Busted ...</td>\n",
       "      <td></td>\n",
       "      <td>https://www.huffingtonpost.com/entry/aldon-smi...</td>\n",
       "      <td>CORRECTION: An earlier version of this story i...</td>\n",
       "      <td>2012-01-28</td>\n",
       "    </tr>\n",
       "    <tr>\n",
       "      <th>200852</th>\n",
       "      <td>SPORTS</td>\n",
       "      <td>Dwight Howard Rips Teammates After Magic Loss ...</td>\n",
       "      <td></td>\n",
       "      <td>https://www.huffingtonpost.com/entry/dwight-ho...</td>\n",
       "      <td>The five-time all-star center tore into his te...</td>\n",
       "      <td>2012-01-28</td>\n",
       "    </tr>\n",
       "  </tbody>\n",
       "</table>\n",
       "<p>200853 rows × 6 columns</p>\n",
       "</div>"
      ],
      "text/plain": [
       "             category                                           headline  \\\n",
       "id                                                                         \n",
       "0               CRIME  There Were 2 Mass Shootings In Texas Last Week...   \n",
       "1       ENTERTAINMENT  Will Smith Joins Diplo And Nicky Jam For The 2...   \n",
       "2       ENTERTAINMENT    Hugh Grant Marries For The First Time At Age 57   \n",
       "3       ENTERTAINMENT  Jim Carrey Blasts 'Castrato' Adam Schiff And D...   \n",
       "4       ENTERTAINMENT  Julianna Margulies Uses Donald Trump Poop Bags...   \n",
       "...               ...                                                ...   \n",
       "200848           TECH  RIM CEO Thorsten Heins' 'Significant' Plans Fo...   \n",
       "200849         SPORTS  Maria Sharapova Stunned By Victoria Azarenka I...   \n",
       "200850         SPORTS  Giants Over Patriots, Jets Over Colts Among  M...   \n",
       "200851         SPORTS  Aldon Smith Arrested: 49ers Linebacker Busted ...   \n",
       "200852         SPORTS  Dwight Howard Rips Teammates After Magic Loss ...   \n",
       "\n",
       "                 authors                                               link  \\\n",
       "id                                                                            \n",
       "0        Melissa Jeltsen  https://www.huffingtonpost.com/entry/texas-ama...   \n",
       "1          Andy McDonald  https://www.huffingtonpost.com/entry/will-smit...   \n",
       "2             Ron Dicker  https://www.huffingtonpost.com/entry/hugh-gran...   \n",
       "3             Ron Dicker  https://www.huffingtonpost.com/entry/jim-carre...   \n",
       "4             Ron Dicker  https://www.huffingtonpost.com/entry/julianna-...   \n",
       "...                  ...                                                ...   \n",
       "200848  Reuters, Reuters  https://www.huffingtonpost.com/entry/rim-ceo-t...   \n",
       "200849                    https://www.huffingtonpost.com/entry/maria-sha...   \n",
       "200850                    https://www.huffingtonpost.com/entry/super-bow...   \n",
       "200851                    https://www.huffingtonpost.com/entry/aldon-smi...   \n",
       "200852                    https://www.huffingtonpost.com/entry/dwight-ho...   \n",
       "\n",
       "                                        short_description       date  \n",
       "id                                                                    \n",
       "0       She left her husband. He killed their children... 2018-05-26  \n",
       "1                                Of course it has a song. 2018-05-26  \n",
       "2       The actor and his longtime girlfriend Anna Ebe... 2018-05-26  \n",
       "3       The actor gives Dems an ass-kicking for not fi... 2018-05-26  \n",
       "4       The \"Dietland\" actress said using the bags is ... 2018-05-26  \n",
       "...                                                   ...        ...  \n",
       "200848  Verizon Wireless and AT&T are already promotin... 2012-01-28  \n",
       "200849  Afterward, Azarenka, more effusive with the pr... 2012-01-28  \n",
       "200850  Leading up to Super Bowl XLVI, the most talked... 2012-01-28  \n",
       "200851  CORRECTION: An earlier version of this story i... 2012-01-28  \n",
       "200852  The five-time all-star center tore into his te... 2012-01-28  \n",
       "\n",
       "[200853 rows x 6 columns]"
      ]
     },
     "execution_count": 60,
     "metadata": {},
     "output_type": "execute_result"
    }
   ],
   "source": [
    "df_org = pd.read_json('Data/News_Category_Dataset_v2.json',lines=True)\n",
    "# Rename index as id since it will help to build the data after token explotion\n",
    "df_org.index.rename('id',inplace= True)\n",
    "df_org"
   ]
  },
  {
   "cell_type": "code",
   "execution_count": 5,
   "metadata": {
    "ExecuteTime": {
     "end_time": "2020-12-13T00:30:05.712645Z",
     "start_time": "2020-12-13T00:30:05.296379Z"
    }
   },
   "outputs": [
    {
     "data": {
      "text/html": [
       "\n",
       "<div id=\"altair-viz-13f81d1bf8024c79834eb847b74da3c7\"></div>\n",
       "<script type=\"text/javascript\">\n",
       "  (function(spec, embedOpt){\n",
       "    let outputDiv = document.currentScript.previousElementSibling;\n",
       "    if (outputDiv.id !== \"altair-viz-13f81d1bf8024c79834eb847b74da3c7\") {\n",
       "      outputDiv = document.getElementById(\"altair-viz-13f81d1bf8024c79834eb847b74da3c7\");\n",
       "    }\n",
       "    const paths = {\n",
       "      \"vega\": \"https://cdn.jsdelivr.net/npm//vega@5?noext\",\n",
       "      \"vega-lib\": \"https://cdn.jsdelivr.net/npm//vega-lib?noext\",\n",
       "      \"vega-lite\": \"https://cdn.jsdelivr.net/npm//vega-lite@4.8.1?noext\",\n",
       "      \"vega-embed\": \"https://cdn.jsdelivr.net/npm//vega-embed@6?noext\",\n",
       "    };\n",
       "\n",
       "    function loadScript(lib) {\n",
       "      return new Promise(function(resolve, reject) {\n",
       "        var s = document.createElement('script');\n",
       "        s.src = paths[lib];\n",
       "        s.async = true;\n",
       "        s.onload = () => resolve(paths[lib]);\n",
       "        s.onerror = () => reject(`Error loading script: ${paths[lib]}`);\n",
       "        document.getElementsByTagName(\"head\")[0].appendChild(s);\n",
       "      });\n",
       "    }\n",
       "\n",
       "    function showError(err) {\n",
       "      outputDiv.innerHTML = `<div class=\"error\" style=\"color:red;\">${err}</div>`;\n",
       "      throw err;\n",
       "    }\n",
       "\n",
       "    function displayChart(vegaEmbed) {\n",
       "      vegaEmbed(outputDiv, spec, embedOpt)\n",
       "        .catch(err => showError(`Javascript Error: ${err.message}<br>This usually means there's a typo in your chart specification. See the javascript console for the full traceback.`));\n",
       "    }\n",
       "\n",
       "    if(typeof define === \"function\" && define.amd) {\n",
       "      requirejs.config({paths});\n",
       "      require([\"vega-embed\"], displayChart, err => showError(`Error loading script: ${err.message}`));\n",
       "    } else if (typeof vegaEmbed === \"function\") {\n",
       "      displayChart(vegaEmbed);\n",
       "    } else {\n",
       "      loadScript(\"vega\")\n",
       "        .then(() => loadScript(\"vega-lite\"))\n",
       "        .then(() => loadScript(\"vega-embed\"))\n",
       "        .catch(showError)\n",
       "        .then(() => displayChart(vegaEmbed));\n",
       "    }\n",
       "  })({\"config\": {\"view\": {\"continuousWidth\": 400, \"continuousHeight\": 300}}, \"data\": {\"name\": \"data-76d497c01f090acc603e851ecf5b9f9b\"}, \"mark\": \"bar\", \"encoding\": {\"tooltip\": [{\"type\": \"nominal\", \"field\": \"category\"}, {\"type\": \"quantitative\", \"field\": \"freq\"}], \"x\": {\"type\": \"nominal\", \"field\": \"category\", \"sort\": \"-y\"}, \"y\": {\"type\": \"quantitative\", \"field\": \"freq\"}}, \"title\": \"[Interactive] Articles by Category\", \"$schema\": \"https://vega.github.io/schema/vega-lite/v4.8.1.json\", \"datasets\": {\"data-76d497c01f090acc603e851ecf5b9f9b\": [{\"category\": \"POLITICS\", \"freq\": 32739}, {\"category\": \"WELLNESS\", \"freq\": 17827}, {\"category\": \"ENTERTAINMENT\", \"freq\": 16058}, {\"category\": \"TRAVEL\", \"freq\": 9887}, {\"category\": \"STYLE & BEAUTY\", \"freq\": 9649}, {\"category\": \"PARENTING\", \"freq\": 8677}, {\"category\": \"HEALTHY LIVING\", \"freq\": 6694}, {\"category\": \"QUEER VOICES\", \"freq\": 6314}, {\"category\": \"FOOD & DRINK\", \"freq\": 6226}, {\"category\": \"BUSINESS\", \"freq\": 5937}, {\"category\": \"COMEDY\", \"freq\": 5175}, {\"category\": \"SPORTS\", \"freq\": 4884}, {\"category\": \"BLACK VOICES\", \"freq\": 4528}, {\"category\": \"HOME & LIVING\", \"freq\": 4195}, {\"category\": \"PARENTS\", \"freq\": 3955}, {\"category\": \"THE WORLDPOST\", \"freq\": 3664}, {\"category\": \"WEDDINGS\", \"freq\": 3651}, {\"category\": \"WOMEN\", \"freq\": 3490}, {\"category\": \"IMPACT\", \"freq\": 3459}, {\"category\": \"DIVORCE\", \"freq\": 3426}, {\"category\": \"CRIME\", \"freq\": 3405}, {\"category\": \"MEDIA\", \"freq\": 2815}, {\"category\": \"WEIRD NEWS\", \"freq\": 2670}, {\"category\": \"GREEN\", \"freq\": 2622}, {\"category\": \"WORLDPOST\", \"freq\": 2579}, {\"category\": \"RELIGION\", \"freq\": 2556}, {\"category\": \"STYLE\", \"freq\": 2254}, {\"category\": \"SCIENCE\", \"freq\": 2178}, {\"category\": \"WORLD NEWS\", \"freq\": 2177}, {\"category\": \"TASTE\", \"freq\": 2096}, {\"category\": \"TECH\", \"freq\": 2082}, {\"category\": \"MONEY\", \"freq\": 1707}, {\"category\": \"ARTS\", \"freq\": 1509}, {\"category\": \"FIFTY\", \"freq\": 1401}, {\"category\": \"GOOD NEWS\", \"freq\": 1398}, {\"category\": \"ARTS & CULTURE\", \"freq\": 1339}, {\"category\": \"ENVIRONMENT\", \"freq\": 1323}, {\"category\": \"COLLEGE\", \"freq\": 1144}, {\"category\": \"LATINO VOICES\", \"freq\": 1129}, {\"category\": \"CULTURE & ARTS\", \"freq\": 1030}, {\"category\": \"EDUCATION\", \"freq\": 1004}]}}, {\"mode\": \"vega-lite\"});\n",
       "</script>"
      ],
      "text/plain": [
       "alt.Chart(...)"
      ]
     },
     "execution_count": 5,
     "metadata": {},
     "output_type": "execute_result"
    }
   ],
   "source": [
    "alt.Chart(df_org['category']\n",
    "              .value_counts()\n",
    "              .reset_index()\n",
    "              .rename(columns={'category':'freq',\n",
    "                               'index':'category'})\n",
    ").mark_bar().encode(\n",
    "    y='freq:Q',\n",
    "    x=alt.X('category:N', sort='-y'),\n",
    "    tooltip=['category','freq']\n",
    ").properties(\n",
    "    title='[Interactive] Articles by Category'\n",
    ")"
   ]
  },
  {
   "cell_type": "markdown",
   "metadata": {},
   "source": [
    "Now let's look at the cumulative percentual sum of categories in order to understand how many categories acumulate more than 50%"
   ]
  },
  {
   "cell_type": "code",
   "execution_count": 6,
   "metadata": {
    "ExecuteTime": {
     "end_time": "2020-12-13T00:30:05.872649Z",
     "start_time": "2020-12-13T00:30:05.712645Z"
    }
   },
   "outputs": [
    {
     "data": {
      "text/plain": [
       "POLITICS          0.163000\n",
       "WELLNESS          0.251756\n",
       "ENTERTAINMENT     0.331705\n",
       "TRAVEL            0.380930\n",
       "STYLE & BEAUTY    0.428970\n",
       "PARENTING         0.472171\n",
       "HEALTHY LIVING    0.505499\n",
       "QUEER VOICES      0.536935\n",
       "FOOD & DRINK      0.567933\n",
       "BUSINESS          0.597492\n",
       "Name: category, dtype: float64"
      ]
     },
     "execution_count": 6,
     "metadata": {},
     "output_type": "execute_result"
    }
   ],
   "source": [
    "(df_org[[\"category\", \"headline\"]].category.value_counts().cumsum()/200853).head(10)"
   ]
  },
  {
   "cell_type": "markdown",
   "metadata": {},
   "source": [
    "First 7 categories sum up more than 50% of the articles. Nevertheless, it seems like some categories could be kind of ambiguous, categories like: \"PARENTING\" and \"PARENTS\", \"THE WORDPOST\" and \"WORLDPOST\", \"ARTS\", \"ARTS AND CULTURE\" and \"CULTURE ARTS, \"EDUCATION\" and \"COLLEGE\", \"STYLE AND BEAUTY\" and \"STYLE\". It is possible that differences between these categories could be very small."
   ]
  },
  {
   "cell_type": "markdown",
   "metadata": {},
   "source": [
    "## Sample Data for ETL"
   ]
  },
  {
   "cell_type": "markdown",
   "metadata": {},
   "source": [
    "Let's use some of the data in order to develop the ETL and then apply it to all data."
   ]
  },
  {
   "cell_type": "code",
   "execution_count": 7,
   "metadata": {
    "ExecuteTime": {
     "end_time": "2020-12-13T00:30:05.936655Z",
     "start_time": "2020-12-13T00:30:05.872649Z"
    }
   },
   "outputs": [],
   "source": [
    "df = df_org.sample(frac = 0.1, random_state=1)"
   ]
  },
  {
   "cell_type": "markdown",
   "metadata": {},
   "source": [
    "## Tokenization, Stopwords and Stemming "
   ]
  },
  {
   "cell_type": "code",
   "execution_count": 8,
   "metadata": {
    "ExecuteTime": {
     "end_time": "2020-12-13T00:30:05.968652Z",
     "start_time": "2020-12-13T00:30:05.944650Z"
    }
   },
   "outputs": [],
   "source": [
    "def tokenization_stopwords_stemming(df, col_name='headline', tok_col_name='tok'):\n",
    "    \"\"\"\n",
    "    Function that, given a pandas dataframe, a text column name and token column name,\n",
    "    applies tokenization, stopwords(english) and stemming(english).\n",
    "    Returns dataframe with column tok_col_name added\n",
    "    \"\"\"\n",
    "    # Tokenization\n",
    "    df[tok_col_name] = df[col_name].apply(word_tokenize)\n",
    "    df_tok = df.explode(tok_col_name)\n",
    "    \n",
    "    # Convert tokens to lower case\n",
    "    df_tok.loc[:,[tok_col_name]] = df_tok.apply(lambda x: str(x[tok_col_name]).lower(), axis = 1)\n",
    "    \n",
    "    # Get stopwords\n",
    "    stop_words = [x for x in nltk.corpus.stopwords.words('english')]\n",
    "    # Add some custom punctation (some punctation could be usefull)\n",
    "    stop_words.extend(['-','(',')','.',':',',',\"'\",\"'s\",'?',\"n't\",\"’\",\"_\"])\n",
    "    \n",
    "    # Clean stopwords and some punctuation\n",
    "    df_tok.loc[:,['in_stopwords']] = df_tok.apply(lambda x: x[tok_col_name] in stop_words, axis = 1)\n",
    "    df_tok_clean = df_tok[~df_tok['in_stopwords']]\n",
    "    \n",
    "    # Apply Snowball stemmer\n",
    "    stemmer = nltk.stem.SnowballStemmer('english')\n",
    "    df_tok_clean.loc[:,[tok_col_name]] = df_tok_clean[tok_col_name].astype(str)\n",
    "    df_tok_clean.loc[:,[tok_col_name]] = df_tok_clean.apply(lambda x: stemmer.stem(x[tok_col_name]), axis = 1)\n",
    "    \n",
    "    return(df_tok_clean)\n",
    "    "
   ]
  },
  {
   "cell_type": "code",
   "execution_count": 9,
   "metadata": {
    "ExecuteTime": {
     "end_time": "2020-12-13T00:30:52.188527Z",
     "start_time": "2020-12-13T00:30:05.968652Z"
    },
    "scrolled": true
   },
   "outputs": [
    {
     "name": "stderr",
     "output_type": "stream",
     "text": [
      "c:\\users\\mauricio\\appdata\\local\\programs\\python\\python37\\lib\\site-packages\\pandas\\core\\indexing.py:1743: SettingWithCopyWarning: \n",
      "A value is trying to be set on a copy of a slice from a DataFrame.\n",
      "Try using .loc[row_indexer,col_indexer] = value instead\n",
      "\n",
      "See the caveats in the documentation: https://pandas.pydata.org/pandas-docs/stable/user_guide/indexing.html#returning-a-view-versus-a-copy\n",
      "  isetter(ilocs[0], value)\n"
     ]
    }
   ],
   "source": [
    "df_tok_clean = tokenization_stopwords_stemming(df)"
   ]
  },
  {
   "cell_type": "markdown",
   "metadata": {},
   "source": [
    "## Plot Word by Category"
   ]
  },
  {
   "cell_type": "code",
   "execution_count": 10,
   "metadata": {
    "ExecuteTime": {
     "end_time": "2020-12-13T00:30:52.844686Z",
     "start_time": "2020-12-13T00:30:52.188527Z"
    },
    "scrolled": false
   },
   "outputs": [
    {
     "data": {
      "text/html": [
       "\n",
       "<div id=\"altair-viz-524768077045463f86879d9864cd9bba\"></div>\n",
       "<script type=\"text/javascript\">\n",
       "  (function(spec, embedOpt){\n",
       "    let outputDiv = document.currentScript.previousElementSibling;\n",
       "    if (outputDiv.id !== \"altair-viz-524768077045463f86879d9864cd9bba\") {\n",
       "      outputDiv = document.getElementById(\"altair-viz-524768077045463f86879d9864cd9bba\");\n",
       "    }\n",
       "    const paths = {\n",
       "      \"vega\": \"https://cdn.jsdelivr.net/npm//vega@5?noext\",\n",
       "      \"vega-lib\": \"https://cdn.jsdelivr.net/npm//vega-lib?noext\",\n",
       "      \"vega-lite\": \"https://cdn.jsdelivr.net/npm//vega-lite@4.8.1?noext\",\n",
       "      \"vega-embed\": \"https://cdn.jsdelivr.net/npm//vega-embed@6?noext\",\n",
       "    };\n",
       "\n",
       "    function loadScript(lib) {\n",
       "      return new Promise(function(resolve, reject) {\n",
       "        var s = document.createElement('script');\n",
       "        s.src = paths[lib];\n",
       "        s.async = true;\n",
       "        s.onload = () => resolve(paths[lib]);\n",
       "        s.onerror = () => reject(`Error loading script: ${paths[lib]}`);\n",
       "        document.getElementsByTagName(\"head\")[0].appendChild(s);\n",
       "      });\n",
       "    }\n",
       "\n",
       "    function showError(err) {\n",
       "      outputDiv.innerHTML = `<div class=\"error\" style=\"color:red;\">${err}</div>`;\n",
       "      throw err;\n",
       "    }\n",
       "\n",
       "    function displayChart(vegaEmbed) {\n",
       "      vegaEmbed(outputDiv, spec, embedOpt)\n",
       "        .catch(err => showError(`Javascript Error: ${err.message}<br>This usually means there's a typo in your chart specification. See the javascript console for the full traceback.`));\n",
       "    }\n",
       "\n",
       "    if(typeof define === \"function\" && define.amd) {\n",
       "      requirejs.config({paths});\n",
       "      require([\"vega-embed\"], displayChart, err => showError(`Error loading script: ${err.message}`));\n",
       "    } else if (typeof vegaEmbed === \"function\") {\n",
       "      displayChart(vegaEmbed);\n",
       "    } else {\n",
       "      loadScript(\"vega\")\n",
       "        .then(() => loadScript(\"vega-lite\"))\n",
       "        .then(() => loadScript(\"vega-embed\"))\n",
       "        .catch(showError)\n",
       "        .then(() => displayChart(vegaEmbed));\n",
       "    }\n",
       "  })({\"config\": {\"view\": {\"continuousWidth\": 400, \"continuousHeight\": 300}}, \"data\": {\"name\": \"data-2006ecd771a0351b68da8b7a0b5bdde3\"}, \"facet\": {\"type\": \"nominal\", \"field\": \"category\"}, \"spec\": {\"mark\": \"bar\", \"encoding\": {\"tooltip\": [{\"type\": \"nominal\", \"field\": \"tok\"}, {\"type\": \"quantitative\", \"field\": \"count\"}], \"x\": {\"type\": \"quantitative\", \"field\": \"count\"}, \"y\": {\"type\": \"nominal\", \"field\": \"tok\", \"sort\": \"-x\"}}, \"height\": 50, \"width\": 120}, \"columns\": 4, \"resolve\": {\"scale\": {\"x\": \"independent\", \"y\": \"independent\"}}, \"$schema\": \"https://vega.github.io/schema/vega-lite/v4.8.1.json\", \"datasets\": {\"data-2006ecd771a0351b68da8b7a0b5bdde3\": [{\"category\": \"WORLDPOST\", \"tok\": \"war\", \"count\": 11}, {\"category\": \"WORLDPOST\", \"tok\": \"world\", \"count\": 10}, {\"category\": \"WORLDPOST\", \"tok\": \"isi\", \"count\": 9}, {\"category\": \"WORLDPOST\", \"tok\": \"yemen\", \"count\": 9}, {\"category\": \"WORLDPOST\", \"tok\": \"iran\", \"count\": 8}, {\"category\": \"WORLD NEWS\", \"tok\": \"korea\", \"count\": 19}, {\"category\": \"WORLD NEWS\", \"tok\": \"trump\", \"count\": 18}, {\"category\": \"WORLD NEWS\", \"tok\": \"north\", \"count\": 16}, {\"category\": \"WORLD NEWS\", \"tok\": \"attack\", \"count\": 14}, {\"category\": \"WORLD NEWS\", \"tok\": \"kill\", \"count\": 14}, {\"category\": \"WOMEN\", \"tok\": \"women\", \"count\": 70}, {\"category\": \"WOMEN\", \"tok\": \"woman\", \"count\": 24}, {\"category\": \"WOMEN\", \"tok\": \"sexual\", \"count\": 19}, {\"category\": \"WOMEN\", \"tok\": \"trump\", \"count\": 16}, {\"category\": \"WOMEN\", \"tok\": \"girl\", \"count\": 15}, {\"category\": \"WELLNESS\", \"tok\": \"studi\", \"count\": 88}, {\"category\": \"WELLNESS\", \"tok\": \"health\", \"count\": 75}, {\"category\": \"WELLNESS\", \"tok\": \"cancer\", \"count\": 68}, {\"category\": \"WELLNESS\", \"tok\": \"way\", \"count\": 65}, {\"category\": \"WELLNESS\", \"tok\": \"new\", \"count\": 58}, {\"category\": \"WEIRD NEWS\", \"tok\": \"man\", \"count\": 27}, {\"category\": \"WEIRD NEWS\", \"tok\": \"watch\", \"count\": 16}, {\"category\": \"WEIRD NEWS\", \"tok\": \"dog\", \"count\": 14}, {\"category\": \"WEIRD NEWS\", \"tok\": \"polic\", \"count\": 14}, {\"category\": \"WEIRD NEWS\", \"tok\": \"cop\", \"count\": 11}, {\"category\": \"WEDDINGS\", \"tok\": \"wed\", \"count\": 183}, {\"category\": \"WEDDINGS\", \"tok\": \"photo\", \"count\": 46}, {\"category\": \"WEDDINGS\", \"tok\": \"marriag\", \"count\": 39}, {\"category\": \"WEDDINGS\", \"tok\": \"coupl\", \"count\": 36}, {\"category\": \"WEDDINGS\", \"tok\": \"propos\", \"count\": 36}, {\"category\": \"TRAVEL\", \"tok\": \"photo\", \"count\": 174}, {\"category\": \"TRAVEL\", \"tok\": \"travel\", \"count\": 112}, {\"category\": \"TRAVEL\", \"tok\": \"hotel\", \"count\": 73}, {\"category\": \"TRAVEL\", \"tok\": \"world\", \"count\": 64}, {\"category\": \"TRAVEL\", \"tok\": \"best\", \"count\": 60}, {\"category\": \"THE WORLDPOST\", \"tok\": \"attack\", \"count\": 36}, {\"category\": \"THE WORLDPOST\", \"tok\": \"kill\", \"count\": 35}, {\"category\": \"THE WORLDPOST\", \"tok\": \"say\", \"count\": 34}, {\"category\": \"THE WORLDPOST\", \"tok\": \"trump\", \"count\": 28}, {\"category\": \"THE WORLDPOST\", \"tok\": \"u.s.\", \"count\": 24}, {\"category\": \"TECH\", \"tok\": \"appl\", \"count\": 30}, {\"category\": \"TECH\", \"tok\": \"facebook\", \"count\": 27}, {\"category\": \"TECH\", \"tok\": \"iphon\", \"count\": 19}, {\"category\": \"TECH\", \"tok\": \"new\", \"count\": 15}, {\"category\": \"TECH\", \"tok\": \"video\", \"count\": 14}, {\"category\": \"TASTE\", \"tok\": \"make\", \"count\": 18}, {\"category\": \"TASTE\", \"tok\": \"recip\", \"count\": 18}, {\"category\": \"TASTE\", \"tok\": \"best\", \"count\": 16}, {\"category\": \"TASTE\", \"tok\": \"food\", \"count\": 13}, {\"category\": \"TASTE\", \"tok\": \"5\", \"count\": 10}, {\"category\": \"STYLE & BEAUTY\", \"tok\": \"photo\", \"count\": 457}, {\"category\": \"STYLE & BEAUTY\", \"tok\": \"style\", \"count\": 88}, {\"category\": \"STYLE & BEAUTY\", \"tok\": \"fashion\", \"count\": 87}, {\"category\": \"STYLE & BEAUTY\", \"tok\": \"week\", \"count\": 82}, {\"category\": \"STYLE & BEAUTY\", \"tok\": \"look\", \"count\": 75}, {\"category\": \"STYLE\", \"tok\": \"fashion\", \"count\": 18}, {\"category\": \"STYLE\", \"tok\": \"dress\", \"count\": 16}, {\"category\": \"STYLE\", \"tok\": \"style\", \"count\": 16}, {\"category\": \"STYLE\", \"tok\": \"look\", \"count\": 14}, {\"category\": \"STYLE\", \"tok\": \"week\", \"count\": 13}, {\"category\": \"SPORTS\", \"tok\": \"nfl\", \"count\": 35}, {\"category\": \"SPORTS\", \"tok\": \"player\", \"count\": 32}, {\"category\": \"SPORTS\", \"tok\": \"team\", \"count\": 31}, {\"category\": \"SPORTS\", \"tok\": \"game\", \"count\": 29}, {\"category\": \"SPORTS\", \"tok\": \"video\", \"count\": 29}, {\"category\": \"SCIENCE\", \"tok\": \"nasa\", \"count\": 20}, {\"category\": \"SCIENCE\", \"tok\": \"video\", \"count\": 19}, {\"category\": \"SCIENCE\", \"tok\": \"space\", \"count\": 17}, {\"category\": \"SCIENCE\", \"tok\": \"new\", \"count\": 15}, {\"category\": \"SCIENCE\", \"tok\": \"studi\", \"count\": 14}, {\"category\": \"RELIGION\", \"tok\": \"pope\", \"count\": 29}, {\"category\": \"RELIGION\", \"tok\": \"church\", \"count\": 19}, {\"category\": \"RELIGION\", \"tok\": \"muslim\", \"count\": 19}, {\"category\": \"RELIGION\", \"tok\": \"christian\", \"count\": 17}, {\"category\": \"RELIGION\", \"tok\": \"franci\", \"count\": 16}, {\"category\": \"QUEER VOICES\", \"tok\": \"gay\", \"count\": 140}, {\"category\": \"QUEER VOICES\", \"tok\": \"new\", \"count\": 43}, {\"category\": \"QUEER VOICES\", \"tok\": \"queer\", \"count\": 43}, {\"category\": \"QUEER VOICES\", \"tok\": \"tran\", \"count\": 39}, {\"category\": \"QUEER VOICES\", \"tok\": \"lgbtq\", \"count\": 35}, {\"category\": \"POLITICS\", \"tok\": \"trump\", \"count\": 917}, {\"category\": \"POLITICS\", \"tok\": \"donald\", \"count\": 299}, {\"category\": \"POLITICS\", \"tok\": \"clinton\", \"count\": 177}, {\"category\": \"POLITICS\", \"tok\": \"gop\", \"count\": 168}, {\"category\": \"POLITICS\", \"tok\": \"say\", \"count\": 168}, {\"category\": \"PARENTS\", \"tok\": \"parent\", \"count\": 50}, {\"category\": \"PARENTS\", \"tok\": \"mom\", \"count\": 45}, {\"category\": \"PARENTS\", \"tok\": \"kid\", \"count\": 38}, {\"category\": \"PARENTS\", \"tok\": \"dad\", \"count\": 29}, {\"category\": \"PARENTS\", \"tok\": \"babi\", \"count\": 28}, {\"category\": \"PARENTING\", \"tok\": \"kid\", \"count\": 130}, {\"category\": \"PARENTING\", \"tok\": \"parent\", \"count\": 109}, {\"category\": \"PARENTING\", \"tok\": \"mom\", \"count\": 78}, {\"category\": \"PARENTING\", \"tok\": \"video\", \"count\": 63}, {\"category\": \"PARENTING\", \"tok\": \"babi\", \"count\": 57}, {\"category\": \"MONEY\", \"tok\": \"credit\", \"count\": 14}, {\"category\": \"MONEY\", \"tok\": \"tax\", \"count\": 14}, {\"category\": \"MONEY\", \"tok\": \"card\", \"count\": 13}, {\"category\": \"MONEY\", \"tok\": \"money\", \"count\": 13}, {\"category\": \"MONEY\", \"tok\": \"$\", \"count\": 12}, {\"category\": \"MEDIA\", \"tok\": \"trump\", \"count\": 52}, {\"category\": \"MEDIA\", \"tok\": \"news\", \"count\": 35}, {\"category\": \"MEDIA\", \"tok\": \"new\", \"count\": 31}, {\"category\": \"MEDIA\", \"tok\": \"media\", \"count\": 25}, {\"category\": \"MEDIA\", \"tok\": \"fox\", \"count\": 21}, {\"category\": \"LATINO VOICES\", \"tok\": \"latino\", \"count\": 11}, {\"category\": \"LATINO VOICES\", \"tok\": \"trump\", \"count\": 8}, {\"category\": \"LATINO VOICES\", \"tok\": \"latina\", \"count\": 7}, {\"category\": \"LATINO VOICES\", \"tok\": \"puerto\", \"count\": 5}, {\"category\": \"LATINO VOICES\", \"tok\": \"american\", \"count\": 4}, {\"category\": \"IMPACT\", \"tok\": \"homeless\", \"count\": 24}, {\"category\": \"IMPACT\", \"tok\": \"day\", \"count\": 23}, {\"category\": \"IMPACT\", \"tok\": \"give\", \"count\": 21}, {\"category\": \"IMPACT\", \"tok\": \"year\", \"count\": 15}, {\"category\": \"IMPACT\", \"tok\": \"girl\", \"count\": 14}, {\"category\": \"HOME & LIVING\", \"tok\": \"photo\", \"count\": 164}, {\"category\": \"HOME & LIVING\", \"tok\": \"home\", \"count\": 114}, {\"category\": \"HOME & LIVING\", \"tok\": \"video\", \"count\": 49}, {\"category\": \"HOME & LIVING\", \"tok\": \"idea\", \"count\": 48}, {\"category\": \"HOME & LIVING\", \"tok\": \"day\", \"count\": 38}, {\"category\": \"HEALTHY LIVING\", \"tok\": \"health\", \"count\": 33}, {\"category\": \"HEALTHY LIVING\", \"tok\": \"make\", \"count\": 30}, {\"category\": \"HEALTHY LIVING\", \"tok\": \"5\", \"count\": 27}, {\"category\": \"HEALTHY LIVING\", \"tok\": \"life\", \"count\": 27}, {\"category\": \"HEALTHY LIVING\", \"tok\": \"way\", \"count\": 26}, {\"category\": \"GREEN\", \"tok\": \"climat\", \"count\": 31}, {\"category\": \"GREEN\", \"tok\": \"dog\", \"count\": 21}, {\"category\": \"GREEN\", \"tok\": \"chang\", \"count\": 17}, {\"category\": \"GREEN\", \"tok\": \"california\", \"count\": 13}, {\"category\": \"GREEN\", \"tok\": \"world\", \"count\": 10}, {\"category\": \"GOOD NEWS\", \"tok\": \"dog\", \"count\": 19}, {\"category\": \"GOOD NEWS\", \"tok\": \"get\", \"count\": 12}, {\"category\": \"GOOD NEWS\", \"tok\": \"home\", \"count\": 10}, {\"category\": \"GOOD NEWS\", \"tok\": \"man\", \"count\": 10}, {\"category\": \"GOOD NEWS\", \"tok\": \"save\", \"count\": 10}, {\"category\": \"FOOD & DRINK\", \"tok\": \"recip\", \"count\": 101}, {\"category\": \"FOOD & DRINK\", \"tok\": \"photo\", \"count\": 77}, {\"category\": \"FOOD & DRINK\", \"tok\": \"food\", \"count\": 57}, {\"category\": \"FOOD & DRINK\", \"tok\": \"best\", \"count\": 54}, {\"category\": \"FOOD & DRINK\", \"tok\": \"video\", \"count\": 39}, {\"category\": \"FIFTY\", \"tok\": \"age\", \"count\": 13}, {\"category\": \"FIFTY\", \"tok\": \"thing\", \"count\": 11}, {\"category\": \"FIFTY\", \"tok\": \"50\", \"count\": 10}, {\"category\": \"FIFTY\", \"tok\": \"love\", \"count\": 10}, {\"category\": \"FIFTY\", \"tok\": \"retir\", \"count\": 9}, {\"category\": \"ENVIRONMENT\", \"tok\": \"photo\", \"count\": 26}, {\"category\": \"ENVIRONMENT\", \"tok\": \"anim\", \"count\": 15}, {\"category\": \"ENVIRONMENT\", \"tok\": \"week\", \"count\": 15}, {\"category\": \"ENVIRONMENT\", \"tok\": \"climat\", \"count\": 13}, {\"category\": \"ENVIRONMENT\", \"tok\": \"video\", \"count\": 11}, {\"category\": \"ENTERTAINMENT\", \"tok\": \"new\", \"count\": 91}, {\"category\": \"ENTERTAINMENT\", \"tok\": \"trump\", \"count\": 73}, {\"category\": \"ENTERTAINMENT\", \"tok\": \"the\", \"count\": 69}, {\"category\": \"ENTERTAINMENT\", \"tok\": \"star\", \"count\": 65}, {\"category\": \"ENTERTAINMENT\", \"tok\": \"say\", \"count\": 58}, {\"category\": \"EDUCATION\", \"tok\": \"school\", \"count\": 16}, {\"category\": \"EDUCATION\", \"tok\": \"teacher\", \"count\": 16}, {\"category\": \"EDUCATION\", \"tok\": \"student\", \"count\": 13}, {\"category\": \"EDUCATION\", \"tok\": \"educ\", \"count\": 11}, {\"category\": \"EDUCATION\", \"tok\": \"!\", \"count\": 6}, {\"category\": \"DIVORCE\", \"tok\": \"divorc\", \"count\": 148}, {\"category\": \"DIVORCE\", \"tok\": \"5\", \"count\": 24}, {\"category\": \"DIVORCE\", \"tok\": \"singl\", \"count\": 23}, {\"category\": \"DIVORCE\", \"tok\": \"cheat\", \"count\": 20}, {\"category\": \"DIVORCE\", \"tok\": \"date\", \"count\": 19}, {\"category\": \"CULTURE & ARTS\", \"tok\": \"photo\", \"count\": 26}, {\"category\": \"CULTURE & ARTS\", \"tok\": \"imageblog\", \"count\": 15}, {\"category\": \"CULTURE & ARTS\", \"tok\": \"art\", \"count\": 14}, {\"category\": \"CULTURE & ARTS\", \"tok\": \"&\", \"count\": 8}, {\"category\": \"CULTURE & ARTS\", \"tok\": \"artist\", \"count\": 8}, {\"category\": \"CRIME\", \"tok\": \"polic\", \"count\": 44}, {\"category\": \"CRIME\", \"tok\": \"kill\", \"count\": 42}, {\"category\": \"CRIME\", \"tok\": \"man\", \"count\": 36}, {\"category\": \"CRIME\", \"tok\": \"cop\", \"count\": 29}, {\"category\": \"CRIME\", \"tok\": \"shoot\", \"count\": 29}, {\"category\": \"COMEDY\", \"tok\": \"trump\", \"count\": 106}, {\"category\": \"COMEDY\", \"tok\": \"video\", \"count\": 62}, {\"category\": \"COMEDY\", \"tok\": \"donald\", \"count\": 61}, {\"category\": \"COMEDY\", \"tok\": \"snl\", \"count\": 34}, {\"category\": \"COMEDY\", \"tok\": \"jimmi\", \"count\": 32}, {\"category\": \"COLLEGE\", \"tok\": \"colleg\", \"count\": 28}, {\"category\": \"COLLEGE\", \"tok\": \"student\", \"count\": 14}, {\"category\": \"COLLEGE\", \"tok\": \"sexual\", \"count\": 12}, {\"category\": \"COLLEGE\", \"tok\": \"assault\", \"count\": 11}, {\"category\": \"COLLEGE\", \"tok\": \"learn\", \"count\": 8}, {\"category\": \"BUSINESS\", \"tok\": \"busi\", \"count\": 46}, {\"category\": \"BUSINESS\", \"tok\": \"women\", \"count\": 44}, {\"category\": \"BUSINESS\", \"tok\": \"&\", \"count\": 31}, {\"category\": \"BUSINESS\", \"tok\": \"job\", \"count\": 31}, {\"category\": \"BUSINESS\", \"tok\": \"wall\", \"count\": 31}, {\"category\": \"BLACK VOICES\", \"tok\": \"black\", \"count\": 106}, {\"category\": \"BLACK VOICES\", \"tok\": \"new\", \"count\": 31}, {\"category\": \"BLACK VOICES\", \"tok\": \"polic\", \"count\": 26}, {\"category\": \"BLACK VOICES\", \"tok\": \"white\", \"count\": 22}, {\"category\": \"BLACK VOICES\", \"tok\": \"photo\", \"count\": 17}, {\"category\": \"ARTS & CULTURE\", \"tok\": \"artist\", \"count\": 18}, {\"category\": \"ARTS & CULTURE\", \"tok\": \"book\", \"count\": 15}, {\"category\": \"ARTS & CULTURE\", \"tok\": \"art\", \"count\": 12}, {\"category\": \"ARTS & CULTURE\", \"tok\": \"show\", \"count\": 10}, {\"category\": \"ARTS & CULTURE\", \"tok\": \"new\", \"count\": 9}, {\"category\": \"ARTS\", \"tok\": \"art\", \"count\": 14}, {\"category\": \"ARTS\", \"tok\": \"first\", \"count\": 11}, {\"category\": \"ARTS\", \"tok\": \"artist\", \"count\": 10}, {\"category\": \"ARTS\", \"tok\": \"nighter\", \"count\": 9}, {\"category\": \"ARTS\", \"tok\": \"stage\", \"count\": 8}]}}, {\"mode\": \"vega-lite\"});\n",
       "</script>"
      ],
      "text/plain": [
       "alt.FacetChart(...)"
      ]
     },
     "execution_count": 10,
     "metadata": {},
     "output_type": "execute_result"
    }
   ],
   "source": [
    "def plot_freq_x_context(df_tok_clean, class_col_name='category', tok_col_name='tok', n=5):\n",
    "    \"\"\"\n",
    "    Function that, given a pandas dataframe, a text column name and token column name,\n",
    "    plots the n largest frequency tokens by class_col_name.\n",
    "    Returns altair chart\n",
    "    \"\"\"\n",
    "    # Group tokens by class_col_name and tokname\n",
    "    grouped_toks = (df_tok_clean\n",
    "                        .reset_index()\n",
    "                        .filter(['id',class_col_name,tok_col_name], axis=1)\n",
    "                        .groupby([class_col_name,tok_col_name])\n",
    "                        .agg({'id':['count']})\n",
    "                        .sort_values([class_col_name,('id', 'count')], ascending = False)\n",
    "    )\n",
    "    grouped_toks.columns = grouped_toks.columns.map('_'.join)\n",
    "    grouped_toks = grouped_toks.rename(columns = {'id_count':'count'}).reset_index()\n",
    "    \n",
    "    # Return altair facet graph\n",
    "    return(alt.Chart(grouped_toks\n",
    "                  .groupby(class_col_name)\n",
    "                  .head(n)\n",
    "    ).mark_bar().encode(\n",
    "        x='count:Q',\n",
    "        y=alt.Y(tok_col_name + ':N', sort='-x'),\n",
    "        tooltip=[tok_col_name,'count']\n",
    "    ).properties(\n",
    "        width=120,\n",
    "        height=50\n",
    "    ).facet(\n",
    "        facet= class_col_name + ':N',\n",
    "        columns=4\n",
    "    ).resolve_scale(\n",
    "      x='independent',\n",
    "      y='independent'\n",
    "    ))\n",
    "    \n",
    "plot_freq_x_context(df_tok_clean)"
   ]
  },
  {
   "cell_type": "markdown",
   "metadata": {},
   "source": [
    "Looking at the most common words by category, one can see that the difference between some categories could be really small. For example: \"ARTS & CULTURE\", \"ARTS\" and \"CULTURE & ARTS\" have large frequency in words like \"art\" y \"artist\". As well, we can see that the words \"Trump\" is common to many categories and not only \"POLITICS\". It is possible that using  ngrams could be usefull for discrminating among categories."
   ]
  },
  {
   "cell_type": "markdown",
   "metadata": {},
   "source": [
    "## Liquid Text Creation "
   ]
  },
  {
   "cell_type": "code",
   "execution_count": 11,
   "metadata": {
    "ExecuteTime": {
     "end_time": "2020-12-13T00:30:52.868686Z",
     "start_time": "2020-12-13T00:30:52.844686Z"
    }
   },
   "outputs": [],
   "source": [
    "def to_liquid_text(df_tok_clean, class_col_name='category', tok_col_name='tok'):\n",
    "    \"\"\"\n",
    "    Function that, given a pandas dataframe, a class_col_name and tok_col_name,\n",
    "    joins the column tok_col_name with a space for each \"id\" in order to form a liquid text column.\n",
    "    Returns dataframe with column 'text' added\n",
    "    \"\"\"\n",
    "    return(df_tok_clean\n",
    "               .reset_index()\n",
    "               .filter(['id',class_col_name,tok_col_name], axis=1)\n",
    "               .groupby(['id',class_col_name])[tok_col_name]\n",
    "               .apply(' '.join)\n",
    "               .reset_index()\n",
    "               .rename(columns = {tok_col_name:'text'}))"
   ]
  },
  {
   "cell_type": "code",
   "execution_count": 12,
   "metadata": {
    "ExecuteTime": {
     "end_time": "2020-12-13T00:30:56.005056Z",
     "start_time": "2020-12-13T00:30:52.868686Z"
    }
   },
   "outputs": [
    {
     "data": {
      "text/html": [
       "<div>\n",
       "<style scoped>\n",
       "    .dataframe tbody tr th:only-of-type {\n",
       "        vertical-align: middle;\n",
       "    }\n",
       "\n",
       "    .dataframe tbody tr th {\n",
       "        vertical-align: top;\n",
       "    }\n",
       "\n",
       "    .dataframe thead th {\n",
       "        text-align: right;\n",
       "    }\n",
       "</style>\n",
       "<table border=\"1\" class=\"dataframe\">\n",
       "  <thead>\n",
       "    <tr style=\"text-align: right;\">\n",
       "      <th></th>\n",
       "      <th>id</th>\n",
       "      <th>category</th>\n",
       "      <th>text</th>\n",
       "    </tr>\n",
       "  </thead>\n",
       "  <tbody>\n",
       "    <tr>\n",
       "      <th>0</th>\n",
       "      <td>24</td>\n",
       "      <td>WORLD NEWS</td>\n",
       "      <td>2 men deton bomb insid indian restaur near tor...</td>\n",
       "    </tr>\n",
       "    <tr>\n",
       "      <th>1</th>\n",
       "      <td>38</td>\n",
       "      <td>COMEDY</td>\n",
       "      <td>seth meyer 1 funni regret trump cancel north k...</td>\n",
       "    </tr>\n",
       "    <tr>\n",
       "      <th>2</th>\n",
       "      <td>53</td>\n",
       "      <td>ENTERTAINMENT</td>\n",
       "      <td>harvey weinstein accus say never thought would...</td>\n",
       "    </tr>\n",
       "    <tr>\n",
       "      <th>3</th>\n",
       "      <td>56</td>\n",
       "      <td>ENTERTAINMENT</td>\n",
       "      <td>boba fett get star war movi</td>\n",
       "    </tr>\n",
       "    <tr>\n",
       "      <th>4</th>\n",
       "      <td>62</td>\n",
       "      <td>POLITICS</td>\n",
       "      <td>member far-right proud boy menac twitter user ...</td>\n",
       "    </tr>\n",
       "  </tbody>\n",
       "</table>\n",
       "</div>"
      ],
      "text/plain": [
       "   id       category                                               text\n",
       "0  24     WORLD NEWS  2 men deton bomb insid indian restaur near tor...\n",
       "1  38         COMEDY  seth meyer 1 funni regret trump cancel north k...\n",
       "2  53  ENTERTAINMENT  harvey weinstein accus say never thought would...\n",
       "3  56  ENTERTAINMENT                        boba fett get star war movi\n",
       "4  62       POLITICS  member far-right proud boy menac twitter user ..."
      ]
     },
     "execution_count": 12,
     "metadata": {},
     "output_type": "execute_result"
    }
   ],
   "source": [
    "df_liquid_text = to_liquid_text(df_tok_clean)\n",
    "df_liquid_text.head()"
   ]
  },
  {
   "cell_type": "markdown",
   "metadata": {},
   "source": [
    "These examples seem to show that the ETL is working well. The longest part of the process is  the \"tokenization_stopwords_stemming\" function that took 38 seconds for 20k rows."
   ]
  },
  {
   "cell_type": "markdown",
   "metadata": {},
   "source": [
    "## ETL a todos los datos"
   ]
  },
  {
   "cell_type": "code",
   "execution_count": 13,
   "metadata": {
    "ExecuteTime": {
     "end_time": "2020-12-13T00:30:56.029061Z",
     "start_time": "2020-12-13T00:30:56.005056Z"
    }
   },
   "outputs": [],
   "source": [
    "def ETL(df, col_name= 'headline', class_col_name='category', tok_col_name='tok'):\n",
    "    # Primer paso: Tokenizacion, stopwords y stemming\n",
    "    df_tok_clean = tokenization_stopwords_stemming(df, col_name=col_name, tok_col_name=tok_col_name)\n",
    "    \n",
    "    # Segundo paso: Crear texto liquido del dataframe limpio\n",
    "    df_liquid_text = to_liquid_text(df_tok_clean, class_col_name=class_col_name, tok_col_name=tok_col_name)\n",
    "    \n",
    "    return df_tok_clean,df_liquid_text"
   ]
  },
  {
   "cell_type": "markdown",
   "metadata": {},
   "source": [
    "Apply ETL on \"headline\" column."
   ]
  },
  {
   "cell_type": "code",
   "execution_count": 14,
   "metadata": {
    "ExecuteTime": {
     "end_time": "2020-12-13T00:30:56.061061Z",
     "start_time": "2020-12-13T00:30:56.029061Z"
    }
   },
   "outputs": [],
   "source": [
    "if create_ETL_data: \n",
    "    df_tok_clean_headlines,df_liquid_text_headlines = ETL(df_org)\n",
    "    df_tok_clean_headlines.to_pickle('./Data/clean_data_headlines.pkl')\n",
    "    df_liquid_text_headlines.to_pickle('./Data/clean_liquidtext_headlines.pkl')"
   ]
  },
  {
   "cell_type": "markdown",
   "metadata": {},
   "source": [
    "Again for \"short_description\""
   ]
  },
  {
   "cell_type": "code",
   "execution_count": 160,
   "metadata": {
    "ExecuteTime": {
     "end_time": "2020-12-13T16:31:14.966968Z",
     "start_time": "2020-12-13T16:21:06.914536Z"
    }
   },
   "outputs": [
    {
     "name": "stderr",
     "output_type": "stream",
     "text": [
      "c:\\users\\mauricio\\appdata\\local\\programs\\python\\python37\\lib\\site-packages\\pandas\\core\\indexing.py:1743: SettingWithCopyWarning: \n",
      "A value is trying to be set on a copy of a slice from a DataFrame.\n",
      "Try using .loc[row_indexer,col_indexer] = value instead\n",
      "\n",
      "See the caveats in the documentation: https://pandas.pydata.org/pandas-docs/stable/user_guide/indexing.html#returning-a-view-versus-a-copy\n",
      "  isetter(ilocs[0], value)\n"
     ]
    }
   ],
   "source": [
    "if create_ETL_data: \n",
    "    df_clean_short_description,df_liquid_text_short_description = ETL(df_org, col_name='short_description')\n",
    "    df_clean_short_description.to_pickle('./Data/clean_data_short_description.pkl')\n",
    "    df_liquid_text_short_description.to_pickle('./Data/clean_liquidtext_short_description.pkl')"
   ]
  },
  {
   "cell_type": "markdown",
   "metadata": {},
   "source": [
    "Do the same for the combination of columns \"headline\"+\"short_description\""
   ]
  },
  {
   "cell_type": "code",
   "execution_count": 15,
   "metadata": {
    "ExecuteTime": {
     "end_time": "2020-12-13T00:30:56.101067Z",
     "start_time": "2020-12-13T00:30:56.061061Z"
    }
   },
   "outputs": [],
   "source": [
    "if create_ETL_data: \n",
    "    df_hd = df_org\n",
    "    df_hd['headline_description'] = df_hd['headline'] + ' ' + df_hd['short_description']\n",
    "    df_clean_headline_short_description,df_liquid_text_headline_short_description = ETL(df_hd, col_name='headline_description')\n",
    "    df_clean_headline_short_description.to_pickle('./Data/clean_data_headline_short_description.pkl')\n",
    "    df_liquid_text_headline_short_description.to_pickle('./Data/clean_liquidtext_headline_short_description.pkl')"
   ]
  },
  {
   "cell_type": "markdown",
   "metadata": {},
   "source": [
    "# Models"
   ]
  },
  {
   "cell_type": "markdown",
   "metadata": {},
   "source": [
    "## Data Split"
   ]
  },
  {
   "cell_type": "markdown",
   "metadata": {},
   "source": [
    "Let's make a division between a training set and a test set using the column \"id\" so that we can fairly compare all proposed models."
   ]
  },
  {
   "cell_type": "code",
   "execution_count": 16,
   "metadata": {
    "ExecuteTime": {
     "end_time": "2020-12-13T00:30:56.373066Z",
     "start_time": "2020-12-13T00:30:56.109066Z"
    },
    "scrolled": true
   },
   "outputs": [
    {
     "name": "stdout",
     "output_type": "stream",
     "text": [
      "Number of training: 180767, Number of testing: 20086\n"
     ]
    }
   ],
   "source": [
    "train_idx, test_idx = train_test_split(range(len(df_org)), test_size=0.1, random_state=42, shuffle=True)\n",
    "print(f\"Number of training: {len(train_idx)}, Number of testing: {len(test_idx)}\")"
   ]
  },
  {
   "cell_type": "markdown",
   "metadata": {},
   "source": [
    "## Only Headlines NB (Naive Bayes)"
   ]
  },
  {
   "cell_type": "code",
   "execution_count": 231,
   "metadata": {
    "ExecuteTime": {
     "end_time": "2020-12-13T17:52:21.845419Z",
     "start_time": "2020-12-13T17:52:21.837418Z"
    }
   },
   "outputs": [],
   "source": [
    "model_name = 'headlines_NB'\n",
    "model_description = 'Naive Bayes Model on headlines only'\n",
    "filename = f\"./Data/model_{model_name}.joblib\""
   ]
  },
  {
   "cell_type": "code",
   "execution_count": 232,
   "metadata": {
    "ExecuteTime": {
     "end_time": "2020-12-13T17:52:22.589436Z",
     "start_time": "2020-12-13T17:52:22.469437Z"
    }
   },
   "outputs": [
    {
     "data": {
      "text/plain": [
       "200807"
      ]
     },
     "execution_count": 232,
     "metadata": {},
     "output_type": "execute_result"
    }
   ],
   "source": [
    "df_liquid_text = pd.read_pickle('./Data/clean_liquidtext_headlines.pkl')\n",
    "len(df_liquid_text.id)"
   ]
  },
  {
   "cell_type": "markdown",
   "metadata": {},
   "source": [
    "Apply training-test separation using indices"
   ]
  },
  {
   "cell_type": "code",
   "execution_count": 233,
   "metadata": {
    "ExecuteTime": {
     "end_time": "2020-12-13T17:52:23.950008Z",
     "start_time": "2020-12-13T17:52:23.854009Z"
    }
   },
   "outputs": [
    {
     "name": "stdout",
     "output_type": "stream",
     "text": [
      "(180725, 3)\n",
      "(20082, 3)\n"
     ]
    }
   ],
   "source": [
    "train = df_liquid_text[df_liquid_text.id.isin(train_idx)]\n",
    "test = df_liquid_text[df_liquid_text.id.isin(test_idx)]\n",
    "print(train.shape)\n",
    "print(test.shape)"
   ]
  },
  {
   "cell_type": "code",
   "execution_count": 234,
   "metadata": {
    "ExecuteTime": {
     "end_time": "2020-12-13T17:52:24.790657Z",
     "start_time": "2020-12-13T17:52:24.774032Z"
    }
   },
   "outputs": [],
   "source": [
    "text_clf_CV = Pipeline([('vect', CountVectorizer()),\n",
    "                      ('tfidf', TfidfTransformer()),\n",
    "                      ('clf', MultinomialNB()),\n",
    "                    ])\n",
    "param_grid = {\n",
    "    'vect__max_features': [500,1000,5000,10000],\n",
    "    'tfidf__use_idf': (True, False)\n",
    "}"
   ]
  },
  {
   "cell_type": "code",
   "execution_count": 235,
   "metadata": {
    "ExecuteTime": {
     "end_time": "2020-12-13T17:52:25.879955Z",
     "start_time": "2020-12-13T17:52:25.494673Z"
    }
   },
   "outputs": [
    {
     "name": "stdout",
     "output_type": "stream",
     "text": [
      "Best parameter (CV score=0.479):\n",
      "{'tfidf__use_idf': True, 'vect__max_features': 5000}\n"
     ]
    }
   ],
   "source": [
    "if os.path.exists(filename):\n",
    "    model_data = load(filename)\n",
    "    search = model_data['model_CV']\n",
    "else:\n",
    "    search = GridSearchCV(text_clf_CV, param_grid, n_jobs=2)\n",
    "    search.fit(train.text, train.category)\n",
    "print(\"Best parameter (CV score=%0.3f):\" % search.best_score_)\n",
    "print(search.best_params_)"
   ]
  },
  {
   "cell_type": "code",
   "execution_count": 236,
   "metadata": {
    "ExecuteTime": {
     "end_time": "2020-12-13T17:52:26.471969Z",
     "start_time": "2020-12-13T17:52:26.359971Z"
    }
   },
   "outputs": [
    {
     "data": {
      "text/html": [
       "\n",
       "<div id=\"altair-viz-fcf0aa741c0c44e1adba23dd95653c7e\"></div>\n",
       "<script type=\"text/javascript\">\n",
       "  (function(spec, embedOpt){\n",
       "    let outputDiv = document.currentScript.previousElementSibling;\n",
       "    if (outputDiv.id !== \"altair-viz-fcf0aa741c0c44e1adba23dd95653c7e\") {\n",
       "      outputDiv = document.getElementById(\"altair-viz-fcf0aa741c0c44e1adba23dd95653c7e\");\n",
       "    }\n",
       "    const paths = {\n",
       "      \"vega\": \"https://cdn.jsdelivr.net/npm//vega@5?noext\",\n",
       "      \"vega-lib\": \"https://cdn.jsdelivr.net/npm//vega-lib?noext\",\n",
       "      \"vega-lite\": \"https://cdn.jsdelivr.net/npm//vega-lite@4.8.1?noext\",\n",
       "      \"vega-embed\": \"https://cdn.jsdelivr.net/npm//vega-embed@6?noext\",\n",
       "    };\n",
       "\n",
       "    function loadScript(lib) {\n",
       "      return new Promise(function(resolve, reject) {\n",
       "        var s = document.createElement('script');\n",
       "        s.src = paths[lib];\n",
       "        s.async = true;\n",
       "        s.onload = () => resolve(paths[lib]);\n",
       "        s.onerror = () => reject(`Error loading script: ${paths[lib]}`);\n",
       "        document.getElementsByTagName(\"head\")[0].appendChild(s);\n",
       "      });\n",
       "    }\n",
       "\n",
       "    function showError(err) {\n",
       "      outputDiv.innerHTML = `<div class=\"error\" style=\"color:red;\">${err}</div>`;\n",
       "      throw err;\n",
       "    }\n",
       "\n",
       "    function displayChart(vegaEmbed) {\n",
       "      vegaEmbed(outputDiv, spec, embedOpt)\n",
       "        .catch(err => showError(`Javascript Error: ${err.message}<br>This usually means there's a typo in your chart specification. See the javascript console for the full traceback.`));\n",
       "    }\n",
       "\n",
       "    if(typeof define === \"function\" && define.amd) {\n",
       "      requirejs.config({paths});\n",
       "      require([\"vega-embed\"], displayChart, err => showError(`Error loading script: ${err.message}`));\n",
       "    } else if (typeof vegaEmbed === \"function\") {\n",
       "      displayChart(vegaEmbed);\n",
       "    } else {\n",
       "      loadScript(\"vega\")\n",
       "        .then(() => loadScript(\"vega-lite\"))\n",
       "        .then(() => loadScript(\"vega-embed\"))\n",
       "        .catch(showError)\n",
       "        .then(() => displayChart(vegaEmbed));\n",
       "    }\n",
       "  })({\"config\": {\"view\": {\"continuousWidth\": 400, \"continuousHeight\": 300}}, \"layer\": [{\"mark\": {\"type\": \"point\", \"filled\": true, \"size\": 10}, \"encoding\": {\"color\": {\"type\": \"nominal\", \"field\": \"tfidf__use_idf\"}, \"tooltip\": [{\"type\": \"quantitative\", \"field\": \"mean\"}, {\"type\": \"quantitative\", \"field\": \"std\"}], \"x\": {\"type\": \"quantitative\", \"field\": \"vect__max_features\"}, \"y\": {\"type\": \"quantitative\", \"field\": \"mean\"}}, \"transform\": [{\"calculate\": \"datum.mean-2*datum.std\", \"as\": \"ymin\"}, {\"calculate\": \"datum.mean+2*datum.std\", \"as\": \"ymax\"}]}, {\"mark\": \"errorbar\", \"encoding\": {\"color\": {\"type\": \"nominal\", \"field\": \"tfidf__use_idf\"}, \"x\": {\"type\": \"quantitative\", \"field\": \"vect__max_features\"}, \"y\": {\"type\": \"quantitative\", \"field\": \"ymin\"}, \"y2\": {\"field\": \"ymax\"}}, \"transform\": [{\"calculate\": \"datum.mean-2*datum.std\", \"as\": \"ymin\"}, {\"calculate\": \"datum.mean+2*datum.std\", \"as\": \"ymax\"}]}], \"data\": {\"name\": \"data-aefca1d0af1ba42c055fed03eabf147b\"}, \"$schema\": \"https://vega.github.io/schema/vega-lite/v4.8.1.json\", \"datasets\": {\"data-aefca1d0af1ba42c055fed03eabf147b\": [{\"tfidf__use_idf\": true, \"vect__max_features\": 572, \"mean\": 0.3694342232673952, \"std\": 0.010729925577692395}, {\"tfidf__use_idf\": true, \"vect__max_features\": 947, \"mean\": 0.419156176511274, \"std\": 0.011441932886709626}, {\"tfidf__use_idf\": true, \"vect__max_features\": 5017, \"mean\": 0.4788656799004012, \"std\": 0.00967505297515682}, {\"tfidf__use_idf\": true, \"vect__max_features\": 10092, \"mean\": 0.46721814912159354, \"std\": 0.010096670635280166}, {\"tfidf__use_idf\": false, \"vect__max_features\": 467, \"mean\": 0.37082860699958503, \"std\": 0.011503459522083367}, {\"tfidf__use_idf\": false, \"vect__max_features\": 1095, \"mean\": 0.4202406971918661, \"std\": 0.011665616178454245}, {\"tfidf__use_idf\": false, \"vect__max_features\": 5003, \"mean\": 0.47592751417900125, \"std\": 0.009899458578860192}, {\"tfidf__use_idf\": false, \"vect__max_features\": 9909, \"mean\": 0.4625204039286208, \"std\": 0.010625855743063328}]}}, {\"mode\": \"vega-lite\"});\n",
       "</script>"
      ],
      "text/plain": [
       "alt.LayerChart(...)"
      ]
     },
     "execution_count": 236,
     "metadata": {},
     "output_type": "execute_result"
    }
   ],
   "source": [
    "def GridSearchResultToDF(search):\n",
    "    \"\"\"\n",
    "    Function that extracts the results from GridSearchCV and\n",
    "    converts them to a pandas dataframe\n",
    "    \"\"\"\n",
    "    return(pd.concat([pd.DataFrame(data = search.cv_results_['params']),\n",
    "                      pd.DataFrame(data = {'mean': search.cv_results_['mean_test_score'],\n",
    "                                           'std': search.cv_results_['std_test_score']})],\n",
    "                     axis = 1))\n",
    "\n",
    "def PlotComparison(result_values, descrete, continuous, jitter=100):\n",
    "    \"\"\"\n",
    "    Function that takes the result from GridSearchResultToDF function and\n",
    "    plots some of their values\n",
    "    \"\"\"\n",
    "    df = result_values.copy()\n",
    "    np.random.seed(0)\n",
    "    df[continuous] = df[continuous] + np.random.randint(low=-jitter, high=jitter, size=len(df))\n",
    "    base = alt.Chart(df).transform_calculate(\n",
    "        ymin=\"datum.mean-2*datum.std\",\n",
    "        ymax=\"datum.mean+2*datum.std\",\n",
    "    )\n",
    "    points = base.mark_point(\n",
    "        filled=True,\n",
    "        size=10\n",
    "    ).encode(\n",
    "        x=continuous,\n",
    "        y=alt.Y('mean:Q'),#, scale=alt.Scale(domain=(0.55, 0.7))),\n",
    "        color=descrete,\n",
    "        tooltip=['mean','std']\n",
    "    )\n",
    "\n",
    "    errorbars = base.mark_errorbar().encode(\n",
    "        x=continuous,\n",
    "        y=\"ymin:Q\",\n",
    "        y2=\"ymax:Q\",\n",
    "        color=descrete,\n",
    "    )\n",
    "\n",
    "    return(points + errorbars)\n",
    "\n",
    "descrete = 'tfidf__use_idf'\n",
    "continuous = 'vect__max_features'\n",
    "result_values = GridSearchResultToDF(search)\n",
    "PlotComparison(result_values, descrete, continuous)"
   ]
  },
  {
   "cell_type": "code",
   "execution_count": 237,
   "metadata": {
    "ExecuteTime": {
     "end_time": "2020-12-13T17:52:27.298306Z",
     "start_time": "2020-12-13T17:52:27.274300Z"
    },
    "scrolled": true
   },
   "outputs": [
    {
     "data": {
      "text/html": [
       "<div>\n",
       "<style scoped>\n",
       "    .dataframe tbody tr th:only-of-type {\n",
       "        vertical-align: middle;\n",
       "    }\n",
       "\n",
       "    .dataframe tbody tr th {\n",
       "        vertical-align: top;\n",
       "    }\n",
       "\n",
       "    .dataframe thead th {\n",
       "        text-align: right;\n",
       "    }\n",
       "</style>\n",
       "<table border=\"1\" class=\"dataframe\">\n",
       "  <thead>\n",
       "    <tr style=\"text-align: right;\">\n",
       "      <th></th>\n",
       "      <th>mean</th>\n",
       "    </tr>\n",
       "    <tr>\n",
       "      <th>tfidf__use_idf</th>\n",
       "      <th></th>\n",
       "    </tr>\n",
       "  </thead>\n",
       "  <tbody>\n",
       "    <tr>\n",
       "      <th>False</th>\n",
       "      <td>0.432379</td>\n",
       "    </tr>\n",
       "    <tr>\n",
       "      <th>True</th>\n",
       "      <td>0.433669</td>\n",
       "    </tr>\n",
       "  </tbody>\n",
       "</table>\n",
       "</div>"
      ],
      "text/plain": [
       "                    mean\n",
       "tfidf__use_idf          \n",
       "False           0.432379\n",
       "True            0.433669"
      ]
     },
     "execution_count": 237,
     "metadata": {},
     "output_type": "execute_result"
    }
   ],
   "source": [
    "result_values.groupby(['tfidf__use_idf'])['mean'].agg(['mean'])"
   ]
  },
  {
   "cell_type": "markdown",
   "metadata": {},
   "source": [
    "Difference between using/not-using tfidf seems to be very small. This could be due to the fact that most headers have similar lengths."
   ]
  },
  {
   "cell_type": "code",
   "execution_count": 238,
   "metadata": {
    "ExecuteTime": {
     "end_time": "2020-12-13T17:52:33.556003Z",
     "start_time": "2020-12-13T17:52:28.738588Z"
    }
   },
   "outputs": [
    {
     "data": {
      "text/plain": [
       "0.5016432626232447"
      ]
     },
     "execution_count": 238,
     "metadata": {},
     "output_type": "execute_result"
    }
   ],
   "source": [
    "text_clf = search.best_estimator_.fit(train.text, train.category)\n",
    "predicted_test = text_clf.predict(test['text'])\n",
    "np.mean(predicted_test == test.category)"
   ]
  },
  {
   "cell_type": "code",
   "execution_count": 239,
   "metadata": {
    "ExecuteTime": {
     "end_time": "2020-12-13T17:52:34.164182Z",
     "start_time": "2020-12-13T17:52:33.556003Z"
    }
   },
   "outputs": [],
   "source": [
    "if not os.path.exists(filename) or rewrite:\n",
    "    test_copy = test.copy()\n",
    "    test_copy['pred'] = predicted_test\n",
    "    model_dict = {\n",
    "        'model_name': model_name,\n",
    "        'model_description': model_description,\n",
    "        'model_CV': search,\n",
    "        'model_results': test_copy\n",
    "    }\n",
    "    dump(model_dict,filename)"
   ]
  },
  {
   "cell_type": "code",
   "execution_count": 240,
   "metadata": {
    "ExecuteTime": {
     "end_time": "2020-12-13T17:52:42.952244Z",
     "start_time": "2020-12-13T17:52:34.164182Z"
    }
   },
   "outputs": [
    {
     "data": {
      "image/png": "[encoded data removed]",
      "text/plain": [
       "<Figure size 1080x1080 with 2 Axes>"
      ]
     },
     "metadata": {
      "needs_background": "light"
     },
     "output_type": "display_data"
    }
   ],
   "source": [
    "fig, ax = plt.subplots(figsize=(15, 15))\n",
    "disp = plot_confusion_matrix(text_clf, test['text'], test.category,\n",
    "                             cmap=plt.cm.Blues,\n",
    "                             normalize=None,\n",
    "                             ax = ax)"
   ]
  },
  {
   "cell_type": "markdown",
   "metadata": {},
   "source": [
    "The most common confusions are:\n",
    "\n",
    "- Three most common categories get mixed up with the rest of categories.\n",
    "- \"STYLE & BEAUTY\" gets mixed up with \"STYLE\"\n",
    "- \"FOOD & DRINKS\" gets mixed up with\"TASTE\"\n",
    "- \"POLITICS\" gets mixed up with \"BUSSINESS\", \"THE WORLDPOST\", \"ENTERTAIMENT\""
   ]
  },
  {
   "cell_type": "markdown",
   "metadata": {},
   "source": [
    "Let's investigate some example of errors made by the model. First, let us look at articles which are in the \"BUSINESS\" category but where predicted as \"POLITICS\" by our model."
   ]
  },
  {
   "cell_type": "code",
   "execution_count": 241,
   "metadata": {
    "ExecuteTime": {
     "end_time": "2020-12-13T17:52:43.488253Z",
     "start_time": "2020-12-13T17:52:42.952244Z"
    }
   },
   "outputs": [
    {
     "name": "stderr",
     "output_type": "stream",
     "text": [
      "c:\\users\\mauricio\\appdata\\local\\programs\\python\\python37\\lib\\site-packages\\ipykernel_launcher.py:5: SettingWithCopyWarning: \n",
      "A value is trying to be set on a copy of a slice from a DataFrame.\n",
      "Try using .loc[row_indexer,col_indexer] = value instead\n",
      "\n",
      "See the caveats in the documentation: https://pandas.pydata.org/pandas-docs/stable/user_guide/indexing.html#returning-a-view-versus-a-copy\n",
      "  \"\"\"\n"
     ]
    },
    {
     "data": {
      "text/html": [
       "<div>\n",
       "<style scoped>\n",
       "    .dataframe tbody tr th:only-of-type {\n",
       "        vertical-align: middle;\n",
       "    }\n",
       "\n",
       "    .dataframe tbody tr th {\n",
       "        vertical-align: top;\n",
       "    }\n",
       "\n",
       "    .dataframe thead th {\n",
       "        text-align: right;\n",
       "    }\n",
       "</style>\n",
       "<table border=\"1\" class=\"dataframe\">\n",
       "  <thead>\n",
       "    <tr style=\"text-align: right;\">\n",
       "      <th></th>\n",
       "      <th>id</th>\n",
       "      <th>category</th>\n",
       "      <th>text</th>\n",
       "      <th>predicted</th>\n",
       "      <th>POLITICS</th>\n",
       "      <th>BUSINESS</th>\n",
       "    </tr>\n",
       "  </thead>\n",
       "  <tbody>\n",
       "    <tr>\n",
       "      <th>5455</th>\n",
       "      <td>54075</td>\n",
       "      <td>BUSINESS</td>\n",
       "      <td>compani forc disclos climat risk unilev ceo say</td>\n",
       "      <td>POLITICS</td>\n",
       "      <td>0.361642</td>\n",
       "      <td>0.359552</td>\n",
       "    </tr>\n",
       "    <tr>\n",
       "      <th>5234</th>\n",
       "      <td>52185</td>\n",
       "      <td>BUSINESS</td>\n",
       "      <td>u.s. consum agenc unveil plan toughen regul de...</td>\n",
       "      <td>POLITICS</td>\n",
       "      <td>0.314510</td>\n",
       "      <td>0.286650</td>\n",
       "    </tr>\n",
       "    <tr>\n",
       "      <th>16730</th>\n",
       "      <td>166992</td>\n",
       "      <td>BUSINESS</td>\n",
       "      <td>wage recov top one percent stagnat worker</td>\n",
       "      <td>POLITICS</td>\n",
       "      <td>0.316513</td>\n",
       "      <td>0.284904</td>\n",
       "    </tr>\n",
       "    <tr>\n",
       "      <th>9284</th>\n",
       "      <td>92371</td>\n",
       "      <td>BUSINESS</td>\n",
       "      <td>fight $ 15 minimum wage</td>\n",
       "      <td>POLITICS</td>\n",
       "      <td>0.431412</td>\n",
       "      <td>0.276424</td>\n",
       "    </tr>\n",
       "    <tr>\n",
       "      <th>18985</th>\n",
       "      <td>189642</td>\n",
       "      <td>BUSINESS</td>\n",
       "      <td>corpor raider corpor redeem</td>\n",
       "      <td>POLITICS</td>\n",
       "      <td>0.313636</td>\n",
       "      <td>0.250063</td>\n",
       "    </tr>\n",
       "  </tbody>\n",
       "</table>\n",
       "</div>"
      ],
      "text/plain": [
       "           id  category                                               text  \\\n",
       "5455    54075  BUSINESS    compani forc disclos climat risk unilev ceo say   \n",
       "5234    52185  BUSINESS  u.s. consum agenc unveil plan toughen regul de...   \n",
       "16730  166992  BUSINESS          wage recov top one percent stagnat worker   \n",
       "9284    92371  BUSINESS                            fight $ 15 minimum wage   \n",
       "18985  189642  BUSINESS                        corpor raider corpor redeem   \n",
       "\n",
       "      predicted  POLITICS  BUSINESS  \n",
       "5455   POLITICS  0.361642  0.359552  \n",
       "5234   POLITICS  0.314510  0.286650  \n",
       "16730  POLITICS  0.316513  0.284904  \n",
       "9284   POLITICS  0.431412  0.276424  \n",
       "18985  POLITICS  0.313636  0.250063  "
      ]
     },
     "execution_count": 241,
     "metadata": {},
     "output_type": "execute_result"
    }
   ],
   "source": [
    "classes = np.sort(df_org.category.unique())\n",
    "test_probabilities = pd.DataFrame(data = text_clf.predict_proba(test['text']),\n",
    "                                 index = test['id'],\n",
    "                                 columns =  classes)\n",
    "test['predicted'] = predicted_test\n",
    "test_cols = test.columns\n",
    "test_merge = test.merge(test_probabilities,'left',on = 'id')\n",
    "test_case = test_merge[(test_merge['category'] == 'BUSINESS') & (test_merge['predicted'] == 'POLITICS')]\n",
    "result = test_case[['id','category','text','predicted','POLITICS','BUSINESS']].sort_values('BUSINESS', ascending=False).head()\n",
    "result"
   ]
  },
  {
   "cell_type": "code",
   "execution_count": 242,
   "metadata": {
    "ExecuteTime": {
     "end_time": "2020-12-13T17:52:44.271969Z",
     "start_time": "2020-12-13T17:52:43.488253Z"
    }
   },
   "outputs": [
    {
     "data": {
      "text/plain": [
       "array([['IMF Boss Urges U.S. To Raise The Federal Minimum Wage',\n",
       "        'Christine Lagarde reckons that higher minimum wages and more family-friendly policies would improve the economy.']],\n",
       "      dtype=object)"
      ]
     },
     "execution_count": 242,
     "metadata": {},
     "output_type": "execute_result"
    }
   ],
   "source": [
    "df_org[df_org.index==62215][['headline','short_description']].values"
   ]
  },
  {
   "cell_type": "code",
   "execution_count": 243,
   "metadata": {
    "ExecuteTime": {
     "end_time": "2020-12-13T17:52:45.006366Z",
     "start_time": "2020-12-13T17:52:44.271969Z"
    }
   },
   "outputs": [
    {
     "name": "stdout",
     "output_type": "stream",
     "text": [
      "                precision    recall  f1-score   support\n",
      "\n",
      "          ARTS       0.50      0.03      0.06       146\n",
      "ARTS & CULTURE       1.00      0.01      0.03       149\n",
      "  BLACK VOICES       0.57      0.14      0.23       451\n",
      "      BUSINESS       0.46      0.28      0.35       557\n",
      "       COLLEGE       0.71      0.04      0.08       115\n",
      "        COMEDY       0.67      0.31      0.42       523\n",
      "         CRIME       0.55      0.48      0.51       327\n",
      "CULTURE & ARTS       0.94      0.13      0.23       115\n",
      "       DIVORCE       0.80      0.49      0.61       350\n",
      "     EDUCATION       1.00      0.02      0.04        93\n",
      " ENTERTAINMENT       0.46      0.76      0.57      1602\n",
      "   ENVIRONMENT       0.86      0.09      0.16       138\n",
      "         FIFTY       0.00      0.00      0.00       146\n",
      "  FOOD & DRINK       0.58      0.68      0.62       610\n",
      "     GOOD NEWS       0.60      0.02      0.04       131\n",
      "         GREEN       0.45      0.12      0.19       274\n",
      "HEALTHY LIVING       0.57      0.07      0.12       679\n",
      " HOME & LIVING       0.76      0.50      0.60       415\n",
      "        IMPACT       0.51      0.08      0.14       323\n",
      " LATINO VOICES       0.50      0.02      0.04        97\n",
      "         MEDIA       0.70      0.11      0.20       262\n",
      "         MONEY       0.74      0.07      0.14       188\n",
      "     PARENTING       0.43      0.53      0.48       857\n",
      "       PARENTS       0.51      0.05      0.09       373\n",
      "      POLITICS       0.47      0.92      0.62      3255\n",
      "  QUEER VOICES       0.72      0.46      0.56       656\n",
      "      RELIGION       0.70      0.17      0.27       252\n",
      "       SCIENCE       0.77      0.18      0.30       219\n",
      "        SPORTS       0.70      0.48      0.57       511\n",
      "         STYLE       0.75      0.01      0.03       223\n",
      "STYLE & BEAUTY       0.63      0.73      0.67       989\n",
      "         TASTE       1.00      0.02      0.03       228\n",
      "          TECH       0.68      0.13      0.22       217\n",
      " THE WORLDPOST       0.52      0.37      0.44       347\n",
      "        TRAVEL       0.58      0.72      0.65      1018\n",
      "      WEDDINGS       0.83      0.50      0.62       389\n",
      "    WEIRD NEWS       0.52      0.10      0.16       268\n",
      "      WELLNESS       0.39      0.77      0.52      1748\n",
      "         WOMEN       0.60      0.12      0.20       340\n",
      "    WORLD NEWS       0.69      0.05      0.09       218\n",
      "     WORLDPOST       0.50      0.04      0.07       283\n",
      "\n",
      "      accuracy                           0.50     20082\n",
      "     macro avg       0.63      0.26      0.29     20082\n",
      "  weighted avg       0.56      0.50      0.44     20082\n",
      "\n"
     ]
    }
   ],
   "source": [
    "print(classification_report(test.category, predicted_test))"
   ]
  },
  {
   "cell_type": "markdown",
   "metadata": {},
   "source": [
    "## Only Short Description NB"
   ]
  },
  {
   "cell_type": "code",
   "execution_count": 244,
   "metadata": {
    "ExecuteTime": {
     "end_time": "2020-12-13T17:52:45.014366Z",
     "start_time": "2020-12-13T17:52:45.006366Z"
    }
   },
   "outputs": [],
   "source": [
    "model_name = 'short_description_NB'\n",
    "model_description = 'Naive Bayes Model on short description'\n",
    "filename = f\"./Data/model_{model_name}.joblib\""
   ]
  },
  {
   "cell_type": "code",
   "execution_count": 245,
   "metadata": {
    "ExecuteTime": {
     "end_time": "2020-12-13T17:52:45.262372Z",
     "start_time": "2020-12-13T17:52:45.014366Z"
    }
   },
   "outputs": [
    {
     "data": {
      "text/html": [
       "<div>\n",
       "<style scoped>\n",
       "    .dataframe tbody tr th:only-of-type {\n",
       "        vertical-align: middle;\n",
       "    }\n",
       "\n",
       "    .dataframe tbody tr th {\n",
       "        vertical-align: top;\n",
       "    }\n",
       "\n",
       "    .dataframe thead th {\n",
       "        text-align: right;\n",
       "    }\n",
       "</style>\n",
       "<table border=\"1\" class=\"dataframe\">\n",
       "  <thead>\n",
       "    <tr style=\"text-align: right;\">\n",
       "      <th></th>\n",
       "      <th>id</th>\n",
       "      <th>category</th>\n",
       "      <th>text</th>\n",
       "    </tr>\n",
       "  </thead>\n",
       "  <tbody>\n",
       "    <tr>\n",
       "      <th>0</th>\n",
       "      <td>0</td>\n",
       "      <td>CRIME</td>\n",
       "      <td>left husband kill children anoth day america</td>\n",
       "    </tr>\n",
       "    <tr>\n",
       "      <th>1</th>\n",
       "      <td>1</td>\n",
       "      <td>ENTERTAINMENT</td>\n",
       "      <td>cours song</td>\n",
       "    </tr>\n",
       "    <tr>\n",
       "      <th>2</th>\n",
       "      <td>2</td>\n",
       "      <td>ENTERTAINMENT</td>\n",
       "      <td>actor longtim girlfriend anna eberstein tie kn...</td>\n",
       "    </tr>\n",
       "    <tr>\n",
       "      <th>3</th>\n",
       "      <td>3</td>\n",
       "      <td>ENTERTAINMENT</td>\n",
       "      <td>actor give dem ass-kick fight hard enough dona...</td>\n",
       "    </tr>\n",
       "    <tr>\n",
       "      <th>4</th>\n",
       "      <td>4</td>\n",
       "      <td>ENTERTAINMENT</td>\n",
       "      <td>`` dietland '' actress said use bag `` realli ...</td>\n",
       "    </tr>\n",
       "    <tr>\n",
       "      <th>...</th>\n",
       "      <td>...</td>\n",
       "      <td>...</td>\n",
       "      <td>...</td>\n",
       "    </tr>\n",
       "    <tr>\n",
       "      <th>200759</th>\n",
       "      <td>200848</td>\n",
       "      <td>TECH</td>\n",
       "      <td>verizon wireless &amp; alreadi promot lte devic in...</td>\n",
       "    </tr>\n",
       "    <tr>\n",
       "      <th>200760</th>\n",
       "      <td>200849</td>\n",
       "      <td>SPORTS</td>\n",
       "      <td>afterward azarenka effus press normal credit c...</td>\n",
       "    </tr>\n",
       "    <tr>\n",
       "      <th>200761</th>\n",
       "      <td>200850</td>\n",
       "      <td>SPORTS</td>\n",
       "      <td>lead super bowl xlvi talk game could end one o...</td>\n",
       "    </tr>\n",
       "    <tr>\n",
       "      <th>200762</th>\n",
       "      <td>200851</td>\n",
       "      <td>SPORTS</td>\n",
       "      <td>correct earlier version stori incorrect state ...</td>\n",
       "    </tr>\n",
       "    <tr>\n",
       "      <th>200763</th>\n",
       "      <td>200852</td>\n",
       "      <td>SPORTS</td>\n",
       "      <td>five-tim all-star center tore teammat friday n...</td>\n",
       "    </tr>\n",
       "  </tbody>\n",
       "</table>\n",
       "<p>200764 rows × 3 columns</p>\n",
       "</div>"
      ],
      "text/plain": [
       "            id       category  \\\n",
       "0            0          CRIME   \n",
       "1            1  ENTERTAINMENT   \n",
       "2            2  ENTERTAINMENT   \n",
       "3            3  ENTERTAINMENT   \n",
       "4            4  ENTERTAINMENT   \n",
       "...        ...            ...   \n",
       "200759  200848           TECH   \n",
       "200760  200849         SPORTS   \n",
       "200761  200850         SPORTS   \n",
       "200762  200851         SPORTS   \n",
       "200763  200852         SPORTS   \n",
       "\n",
       "                                                     text  \n",
       "0            left husband kill children anoth day america  \n",
       "1                                              cours song  \n",
       "2       actor longtim girlfriend anna eberstein tie kn...  \n",
       "3       actor give dem ass-kick fight hard enough dona...  \n",
       "4       `` dietland '' actress said use bag `` realli ...  \n",
       "...                                                   ...  \n",
       "200759  verizon wireless & alreadi promot lte devic in...  \n",
       "200760  afterward azarenka effus press normal credit c...  \n",
       "200761  lead super bowl xlvi talk game could end one o...  \n",
       "200762  correct earlier version stori incorrect state ...  \n",
       "200763  five-tim all-star center tore teammat friday n...  \n",
       "\n",
       "[200764 rows x 3 columns]"
      ]
     },
     "execution_count": 245,
     "metadata": {},
     "output_type": "execute_result"
    }
   ],
   "source": [
    "df_liquid_text2 = pd.read_pickle('./Data/clean_liquidtext_short_description.pkl')\n",
    "df_liquid_text2"
   ]
  },
  {
   "cell_type": "code",
   "execution_count": 246,
   "metadata": {
    "ExecuteTime": {
     "end_time": "2020-12-13T17:52:45.358378Z",
     "start_time": "2020-12-13T17:52:45.262372Z"
    }
   },
   "outputs": [
    {
     "name": "stdout",
     "output_type": "stream",
     "text": [
      "(180687, 3)\n",
      "(20077, 3)\n"
     ]
    }
   ],
   "source": [
    "train = df_liquid_text2[df_liquid_text2.id.isin(train_idx)]\n",
    "test = df_liquid_text2[df_liquid_text2.id.isin(test_idx)]\n",
    "print(train.shape)\n",
    "print(test.shape)"
   ]
  },
  {
   "cell_type": "code",
   "execution_count": 247,
   "metadata": {
    "ExecuteTime": {
     "end_time": "2020-12-13T17:52:51.940598Z",
     "start_time": "2020-12-13T17:52:45.358378Z"
    }
   },
   "outputs": [
    {
     "data": {
      "text/html": [
       "\n",
       "<div id=\"altair-viz-85ae592a6a3c4dcdbcbc8d8c9a2b6f02\"></div>\n",
       "<script type=\"text/javascript\">\n",
       "  (function(spec, embedOpt){\n",
       "    let outputDiv = document.currentScript.previousElementSibling;\n",
       "    if (outputDiv.id !== \"altair-viz-85ae592a6a3c4dcdbcbc8d8c9a2b6f02\") {\n",
       "      outputDiv = document.getElementById(\"altair-viz-85ae592a6a3c4dcdbcbc8d8c9a2b6f02\");\n",
       "    }\n",
       "    const paths = {\n",
       "      \"vega\": \"https://cdn.jsdelivr.net/npm//vega@5?noext\",\n",
       "      \"vega-lib\": \"https://cdn.jsdelivr.net/npm//vega-lib?noext\",\n",
       "      \"vega-lite\": \"https://cdn.jsdelivr.net/npm//vega-lite@4.8.1?noext\",\n",
       "      \"vega-embed\": \"https://cdn.jsdelivr.net/npm//vega-embed@6?noext\",\n",
       "    };\n",
       "\n",
       "    function loadScript(lib) {\n",
       "      return new Promise(function(resolve, reject) {\n",
       "        var s = document.createElement('script');\n",
       "        s.src = paths[lib];\n",
       "        s.async = true;\n",
       "        s.onload = () => resolve(paths[lib]);\n",
       "        s.onerror = () => reject(`Error loading script: ${paths[lib]}`);\n",
       "        document.getElementsByTagName(\"head\")[0].appendChild(s);\n",
       "      });\n",
       "    }\n",
       "\n",
       "    function showError(err) {\n",
       "      outputDiv.innerHTML = `<div class=\"error\" style=\"color:red;\">${err}</div>`;\n",
       "      throw err;\n",
       "    }\n",
       "\n",
       "    function displayChart(vegaEmbed) {\n",
       "      vegaEmbed(outputDiv, spec, embedOpt)\n",
       "        .catch(err => showError(`Javascript Error: ${err.message}<br>This usually means there's a typo in your chart specification. See the javascript console for the full traceback.`));\n",
       "    }\n",
       "\n",
       "    if(typeof define === \"function\" && define.amd) {\n",
       "      requirejs.config({paths});\n",
       "      require([\"vega-embed\"], displayChart, err => showError(`Error loading script: ${err.message}`));\n",
       "    } else if (typeof vegaEmbed === \"function\") {\n",
       "      displayChart(vegaEmbed);\n",
       "    } else {\n",
       "      loadScript(\"vega\")\n",
       "        .then(() => loadScript(\"vega-lite\"))\n",
       "        .then(() => loadScript(\"vega-embed\"))\n",
       "        .catch(showError)\n",
       "        .then(() => displayChart(vegaEmbed));\n",
       "    }\n",
       "  })({\"config\": {\"view\": {\"continuousWidth\": 400, \"continuousHeight\": 300}}, \"data\": {\"name\": \"data-47f7318d5de567988486051b4f25c85b\"}, \"facet\": {\"type\": \"nominal\", \"field\": \"category\"}, \"spec\": {\"mark\": \"bar\", \"encoding\": {\"tooltip\": [{\"type\": \"nominal\", \"field\": \"tok\"}, {\"type\": \"quantitative\", \"field\": \"count\"}], \"x\": {\"type\": \"quantitative\", \"field\": \"count\"}, \"y\": {\"type\": \"nominal\", \"field\": \"tok\", \"sort\": \"-x\"}}, \"height\": 50, \"width\": 120}, \"columns\": 4, \"resolve\": {\"scale\": {\"x\": \"independent\", \"y\": \"independent\"}}, \"$schema\": \"https://vega.github.io/schema/vega-lite/v4.8.1.json\", \"datasets\": {\"data-47f7318d5de567988486051b4f25c85b\": [{\"category\": \"WORLDPOST\", \"tok\": \"nan\", \"count\": 1337}, {\"category\": \"WORLDPOST\", \"tok\": \"''\", \"count\": 228}, {\"category\": \"WORLDPOST\", \"tok\": \"``\", \"count\": 228}, {\"category\": \"WORLDPOST\", \"tok\": \"--\", \"count\": 223}, {\"category\": \"WORLDPOST\", \"tok\": \"world\", \"count\": 191}, {\"category\": \"WORLD NEWS\", \"tok\": \"''\", \"count\": 271}, {\"category\": \"WORLD NEWS\", \"tok\": \"``\", \"count\": 231}, {\"category\": \"WORLD NEWS\", \"tok\": \"\\u201c\", \"count\": 209}, {\"category\": \"WORLD NEWS\", \"tok\": \"said\", \"count\": 194}, {\"category\": \"WORLD NEWS\", \"tok\": \"\\u201d\", \"count\": 155}, {\"category\": \"WOMEN\", \"tok\": \"women\", \"count\": 683}, {\"category\": \"WOMEN\", \"tok\": \"''\", \"count\": 634}, {\"category\": \"WOMEN\", \"tok\": \"``\", \"count\": 620}, {\"category\": \"WOMEN\", \"tok\": \"nan\", \"count\": 388}, {\"category\": \"WOMEN\", \"tok\": \"one\", \"count\": 228}, {\"category\": \"WELLNESS\", \"tok\": \"``\", \"count\": 2921}, {\"category\": \"WELLNESS\", \"tok\": \"--\", \"count\": 2780}, {\"category\": \"WELLNESS\", \"tok\": \"''\", \"count\": 2332}, {\"category\": \"WELLNESS\", \"tok\": \"life\", \"count\": 2004}, {\"category\": \"WELLNESS\", \"tok\": \"time\", \"count\": 1906}, {\"category\": \"WEIRD NEWS\", \"tok\": \"nan\", \"count\": 461}, {\"category\": \"WEIRD NEWS\", \"tok\": \"''\", \"count\": 459}, {\"category\": \"WEIRD NEWS\", \"tok\": \"``\", \"count\": 440}, {\"category\": \"WEIRD NEWS\", \"tok\": \"!\", \"count\": 194}, {\"category\": \"WEIRD NEWS\", \"tok\": \"one\", \"count\": 121}, {\"category\": \"WEDDINGS\", \"tok\": \"wed\", \"count\": 1681}, {\"category\": \"WEDDINGS\", \"tok\": \"``\", \"count\": 756}, {\"category\": \"WEDDINGS\", \"tok\": \"''\", \"count\": 587}, {\"category\": \"WEDDINGS\", \"tok\": \"!\", \"count\": 454}, {\"category\": \"WEDDINGS\", \"tok\": \"--\", \"count\": 442}, {\"category\": \"TRAVEL\", \"tok\": \"travel\", \"count\": 1625}, {\"category\": \"TRAVEL\", \"tok\": \"--\", \"count\": 1119}, {\"category\": \"TRAVEL\", \"tok\": \"``\", \"count\": 996}, {\"category\": \"TRAVEL\", \"tok\": \"one\", \"count\": 955}, {\"category\": \"TRAVEL\", \"tok\": \"''\", \"count\": 867}, {\"category\": \"THE WORLDPOST\", \"tok\": \"''\", \"count\": 478}, {\"category\": \"THE WORLDPOST\", \"tok\": \"``\", \"count\": 431}, {\"category\": \"THE WORLDPOST\", \"tok\": \"peopl\", \"count\": 302}, {\"category\": \"THE WORLDPOST\", \"tok\": \"\\u201c\", \"count\": 281}, {\"category\": \"THE WORLDPOST\", \"tok\": \"said\", \"count\": 270}, {\"category\": \"TECH\", \"tok\": \"``\", \"count\": 275}, {\"category\": \"TECH\", \"tok\": \"''\", \"count\": 237}, {\"category\": \"TECH\", \"tok\": \"appl\", \"count\": 170}, {\"category\": \"TECH\", \"tok\": \"look\", \"count\": 166}, {\"category\": \"TECH\", \"tok\": \"re\", \"count\": 159}, {\"category\": \"TASTE\", \"tok\": \"make\", \"count\": 191}, {\"category\": \"TASTE\", \"tok\": \"nan\", \"count\": 156}, {\"category\": \"TASTE\", \"tok\": \"!\", \"count\": 154}, {\"category\": \"TASTE\", \"tok\": \"''\", \"count\": 122}, {\"category\": \"TASTE\", \"tok\": \"re\", \"count\": 119}, {\"category\": \"STYLE & BEAUTY\", \"tok\": \"``\", \"count\": 1482}, {\"category\": \"STYLE & BEAUTY\", \"tok\": \"style\", \"count\": 1347}, {\"category\": \"STYLE & BEAUTY\", \"tok\": \"check\", \"count\": 1232}, {\"category\": \"STYLE & BEAUTY\", \"tok\": \"look\", \"count\": 1164}, {\"category\": \"STYLE & BEAUTY\", \"tok\": \"''\", \"count\": 1143}, {\"category\": \"STYLE\", \"tok\": \"nan\", \"count\": 687}, {\"category\": \"STYLE\", \"tok\": \"``\", \"count\": 171}, {\"category\": \"STYLE\", \"tok\": \"''\", \"count\": 169}, {\"category\": \"STYLE\", \"tok\": \"!\", \"count\": 127}, {\"category\": \"STYLE\", \"tok\": \"look\", \"count\": 106}, {\"category\": \"SPORTS\", \"tok\": \"``\", \"count\": 785}, {\"category\": \"SPORTS\", \"tok\": \"''\", \"count\": 777}, {\"category\": \"SPORTS\", \"tok\": \"nan\", \"count\": 663}, {\"category\": \"SPORTS\", \"tok\": \"game\", \"count\": 310}, {\"category\": \"SPORTS\", \"tok\": \"team\", \"count\": 259}, {\"category\": \"SCIENCE\", \"tok\": \"nan\", \"count\": 403}, {\"category\": \"SCIENCE\", \"tok\": \"``\", \"count\": 324}, {\"category\": \"SCIENCE\", \"tok\": \"''\", \"count\": 263}, {\"category\": \"SCIENCE\", \"tok\": \"new\", \"count\": 143}, {\"category\": \"SCIENCE\", \"tok\": \"research\", \"count\": 140}, {\"category\": \"RELIGION\", \"tok\": \"nan\", \"count\": 698}, {\"category\": \"RELIGION\", \"tok\": \"''\", \"count\": 344}, {\"category\": \"RELIGION\", \"tok\": \"``\", \"count\": 338}, {\"category\": \"RELIGION\", \"tok\": \"peopl\", \"count\": 194}, {\"category\": \"RELIGION\", \"tok\": \"one\", \"count\": 161}, {\"category\": \"QUEER VOICES\", \"tok\": \"``\", \"count\": 1703}, {\"category\": \"QUEER VOICES\", \"tok\": \"''\", \"count\": 1599}, {\"category\": \"QUEER VOICES\", \"tok\": \"nan\", \"count\": 744}, {\"category\": \"QUEER VOICES\", \"tok\": \"gay\", \"count\": 733}, {\"category\": \"QUEER VOICES\", \"tok\": \"peopl\", \"count\": 498}, {\"category\": \"POLITICS\", \"tok\": \"''\", \"count\": 5761}, {\"category\": \"POLITICS\", \"tok\": \"``\", \"count\": 5379}, {\"category\": \"POLITICS\", \"tok\": \"trump\", \"count\": 3938}, {\"category\": \"POLITICS\", \"tok\": \"nan\", \"count\": 3162}, {\"category\": \"POLITICS\", \"tok\": \"presid\", \"count\": 2586}, {\"category\": \"PARENTS\", \"tok\": \"''\", \"count\": 725}, {\"category\": \"PARENTS\", \"tok\": \"``\", \"count\": 713}, {\"category\": \"PARENTS\", \"tok\": \"kid\", \"count\": 430}, {\"category\": \"PARENTS\", \"tok\": \"parent\", \"count\": 414}, {\"category\": \"PARENTS\", \"tok\": \"nan\", \"count\": 399}, {\"category\": \"PARENTING\", \"tok\": \"``\", \"count\": 1657}, {\"category\": \"PARENTING\", \"tok\": \"parent\", \"count\": 1495}, {\"category\": \"PARENTING\", \"tok\": \"''\", \"count\": 1347}, {\"category\": \"PARENTING\", \"tok\": \"kid\", \"count\": 1300}, {\"category\": \"PARENTING\", \"tok\": \"children\", \"count\": 1203}, {\"category\": \"MONEY\", \"tok\": \"``\", \"count\": 220}, {\"category\": \"MONEY\", \"tok\": \"credit\", \"count\": 208}, {\"category\": \"MONEY\", \"tok\": \"money\", \"count\": 201}, {\"category\": \"MONEY\", \"tok\": \"year\", \"count\": 197}, {\"category\": \"MONEY\", \"tok\": \"''\", \"count\": 174}, {\"category\": \"MEDIA\", \"tok\": \"''\", \"count\": 635}, {\"category\": \"MEDIA\", \"tok\": \"``\", \"count\": 614}, {\"category\": \"MEDIA\", \"tok\": \"nan\", \"count\": 540}, {\"category\": \"MEDIA\", \"tok\": \"news\", \"count\": 289}, {\"category\": \"MEDIA\", \"tok\": \"media\", \"count\": 191}, {\"category\": \"LATINO VOICES\", \"tok\": \"''\", \"count\": 274}, {\"category\": \"LATINO VOICES\", \"tok\": \"``\", \"count\": 264}, {\"category\": \"LATINO VOICES\", \"tok\": \"latino\", \"count\": 126}, {\"category\": \"LATINO VOICES\", \"tok\": \"nan\", \"count\": 108}, {\"category\": \"LATINO VOICES\", \"tok\": \"\\u201c\", \"count\": 83}, {\"category\": \"IMPACT\", \"tok\": \"peopl\", \"count\": 411}, {\"category\": \"IMPACT\", \"tok\": \"``\", \"count\": 408}, {\"category\": \"IMPACT\", \"tok\": \"nan\", \"count\": 400}, {\"category\": \"IMPACT\", \"tok\": \"''\", \"count\": 390}, {\"category\": \"IMPACT\", \"tok\": \"one\", \"count\": 349}, {\"category\": \"HOME & LIVING\", \"tok\": \"home\", \"count\": 830}, {\"category\": \"HOME & LIVING\", \"tok\": \"one\", \"count\": 333}, {\"category\": \"HOME & LIVING\", \"tok\": \"re\", \"count\": 308}, {\"category\": \"HOME & LIVING\", \"tok\": \"make\", \"count\": 298}, {\"category\": \"HOME & LIVING\", \"tok\": \"!\", \"count\": 297}, {\"category\": \"HEALTHY LIVING\", \"tok\": \"nan\", \"count\": 1429}, {\"category\": \"HEALTHY LIVING\", \"tok\": \"life\", \"count\": 497}, {\"category\": \"HEALTHY LIVING\", \"tok\": \"''\", \"count\": 473}, {\"category\": \"HEALTHY LIVING\", \"tok\": \"one\", \"count\": 471}, {\"category\": \"HEALTHY LIVING\", \"tok\": \"time\", \"count\": 461}, {\"category\": \"GREEN\", \"tok\": \"nan\", \"count\": 576}, {\"category\": \"GREEN\", \"tok\": \"climat\", \"count\": 293}, {\"category\": \"GREEN\", \"tok\": \"''\", \"count\": 235}, {\"category\": \"GREEN\", \"tok\": \"``\", \"count\": 221}, {\"category\": \"GREEN\", \"tok\": \"chang\", \"count\": 204}, {\"category\": \"GOOD NEWS\", \"tok\": \"nan\", \"count\": 359}, {\"category\": \"GOOD NEWS\", \"tok\": \"''\", \"count\": 238}, {\"category\": \"GOOD NEWS\", \"tok\": \"``\", \"count\": 237}, {\"category\": \"GOOD NEWS\", \"tok\": \"!\", \"count\": 110}, {\"category\": \"GOOD NEWS\", \"tok\": \"one\", \"count\": 70}, {\"category\": \"FOOD & DRINK\", \"tok\": \"food\", \"count\": 606}, {\"category\": \"FOOD & DRINK\", \"tok\": \"make\", \"count\": 587}, {\"category\": \"FOOD & DRINK\", \"tok\": \"one\", \"count\": 503}, {\"category\": \"FOOD & DRINK\", \"tok\": \"re\", \"count\": 502}, {\"category\": \"FOOD & DRINK\", \"tok\": \"--\", \"count\": 499}, {\"category\": \"FIFTY\", \"tok\": \"nan\", \"count\": 359}, {\"category\": \"FIFTY\", \"tok\": \"year\", \"count\": 198}, {\"category\": \"FIFTY\", \"tok\": \"one\", \"count\": 192}, {\"category\": \"FIFTY\", \"tok\": \"--\", \"count\": 185}, {\"category\": \"FIFTY\", \"tok\": \"time\", \"count\": 180}, {\"category\": \"ENVIRONMENT\", \"tok\": \"``\", \"count\": 173}, {\"category\": \"ENVIRONMENT\", \"tok\": \"week\", \"count\": 142}, {\"category\": \"ENVIRONMENT\", \"tok\": \"anim\", \"count\": 136}, {\"category\": \"ENVIRONMENT\", \"tok\": \"''\", \"count\": 123}, {\"category\": \"ENVIRONMENT\", \"tok\": \"climat\", \"count\": 116}, {\"category\": \"ENTERTAINMENT\", \"tok\": \"``\", \"count\": 4456}, {\"category\": \"ENTERTAINMENT\", \"tok\": \"''\", \"count\": 4310}, {\"category\": \"ENTERTAINMENT\", \"tok\": \"nan\", \"count\": 2588}, {\"category\": \"ENTERTAINMENT\", \"tok\": \"!\", \"count\": 858}, {\"category\": \"ENTERTAINMENT\", \"tok\": \"new\", \"count\": 791}, {\"category\": \"EDUCATION\", \"tok\": \"school\", \"count\": 281}, {\"category\": \"EDUCATION\", \"tok\": \"educ\", \"count\": 268}, {\"category\": \"EDUCATION\", \"tok\": \"student\", \"count\": 228}, {\"category\": \"EDUCATION\", \"tok\": \"teacher\", \"count\": 156}, {\"category\": \"EDUCATION\", \"tok\": \"``\", \"count\": 120}, {\"category\": \"DIVORCE\", \"tok\": \"divorc\", \"count\": 1396}, {\"category\": \"DIVORCE\", \"tok\": \"``\", \"count\": 631}, {\"category\": \"DIVORCE\", \"tok\": \"''\", \"count\": 478}, {\"category\": \"DIVORCE\", \"tok\": \"--\", \"count\": 422}, {\"category\": \"DIVORCE\", \"tok\": \"marriag\", \"count\": 361}, {\"category\": \"CULTURE & ARTS\", \"tok\": \"``\", \"count\": 219}, {\"category\": \"CULTURE & ARTS\", \"tok\": \"''\", \"count\": 199}, {\"category\": \"CULTURE & ARTS\", \"tok\": \"art\", \"count\": 165}, {\"category\": \"CULTURE & ARTS\", \"tok\": \"artist\", \"count\": 122}, {\"category\": \"CULTURE & ARTS\", \"tok\": \"work\", \"count\": 103}, {\"category\": \"CRIME\", \"tok\": \"nan\", \"count\": 730}, {\"category\": \"CRIME\", \"tok\": \"``\", \"count\": 538}, {\"category\": \"CRIME\", \"tok\": \"''\", \"count\": 515}, {\"category\": \"CRIME\", \"tok\": \"polic\", \"count\": 366}, {\"category\": \"CRIME\", \"tok\": \"said\", \"count\": 317}, {\"category\": \"COMEDY\", \"tok\": \"''\", \"count\": 1675}, {\"category\": \"COMEDY\", \"tok\": \"``\", \"count\": 1667}, {\"category\": \"COMEDY\", \"tok\": \"nan\", \"count\": 758}, {\"category\": \"COMEDY\", \"tok\": \"!\", \"count\": 416}, {\"category\": \"COMEDY\", \"tok\": \"like\", \"count\": 283}, {\"category\": \"COLLEGE\", \"tok\": \"colleg\", \"count\": 244}, {\"category\": \"COLLEGE\", \"tok\": \"student\", \"count\": 227}, {\"category\": \"COLLEGE\", \"tok\": \"nan\", \"count\": 223}, {\"category\": \"COLLEGE\", \"tok\": \"''\", \"count\": 144}, {\"category\": \"COLLEGE\", \"tok\": \"``\", \"count\": 144}, {\"category\": \"BUSINESS\", \"tok\": \"nan\", \"count\": 860}, {\"category\": \"BUSINESS\", \"tok\": \"``\", \"count\": 682}, {\"category\": \"BUSINESS\", \"tok\": \"''\", \"count\": 608}, {\"category\": \"BUSINESS\", \"tok\": \"compani\", \"count\": 495}, {\"category\": \"BUSINESS\", \"tok\": \"busi\", \"count\": 464}, {\"category\": \"BLACK VOICES\", \"tok\": \"``\", \"count\": 923}, {\"category\": \"BLACK VOICES\", \"tok\": \"''\", \"count\": 915}, {\"category\": \"BLACK VOICES\", \"tok\": \"black\", \"count\": 671}, {\"category\": \"BLACK VOICES\", \"tok\": \"nan\", \"count\": 406}, {\"category\": \"BLACK VOICES\", \"tok\": \"\\u201c\", \"count\": 348}, {\"category\": \"ARTS & CULTURE\", \"tok\": \"''\", \"count\": 352}, {\"category\": \"ARTS & CULTURE\", \"tok\": \"``\", \"count\": 341}, {\"category\": \"ARTS & CULTURE\", \"tok\": \"\\u201c\", \"count\": 109}, {\"category\": \"ARTS & CULTURE\", \"tok\": \"\\u201d\", \"count\": 93}, {\"category\": \"ARTS & CULTURE\", \"tok\": \"art\", \"count\": 84}, {\"category\": \"ARTS\", \"tok\": \"nan\", \"count\": 646}, {\"category\": \"ARTS\", \"tok\": \"art\", \"count\": 192}, {\"category\": \"ARTS\", \"tok\": \"``\", \"count\": 145}, {\"category\": \"ARTS\", \"tok\": \"''\", \"count\": 144}, {\"category\": \"ARTS\", \"tok\": \"one\", \"count\": 132}]}}, {\"mode\": \"vega-lite\"});\n",
       "</script>"
      ],
      "text/plain": [
       "alt.FacetChart(...)"
      ]
     },
     "execution_count": 247,
     "metadata": {},
     "output_type": "execute_result"
    }
   ],
   "source": [
    "df_tok_clean = pd.read_pickle('./Data/clean_data_short_description.pkl')\n",
    "plot_freq_x_context(df_tok_clean)"
   ]
  },
  {
   "cell_type": "markdown",
   "metadata": {},
   "source": [
    "Separemos una porción de los datos para hacer el entrenamiento y una porción para hacer el test"
   ]
  },
  {
   "cell_type": "code",
   "execution_count": 248,
   "metadata": {
    "ExecuteTime": {
     "end_time": "2020-12-13T17:52:52.812618Z",
     "start_time": "2020-12-13T17:52:51.940598Z"
    }
   },
   "outputs": [
    {
     "name": "stdout",
     "output_type": "stream",
     "text": [
      "Best parameter (CV score=0.369):\n",
      "{'tfidf__use_idf': True, 'vect__max_features': 5000}\n"
     ]
    }
   ],
   "source": [
    "if os.path.exists(filename):\n",
    "    model_data = load(filename)\n",
    "    search = model_data['model_CV']\n",
    "else:\n",
    "    search = GridSearchCV(text_clf_CV, param_grid, n_jobs=2)\n",
    "    search.fit(train.text, train.category)\n",
    "print(\"Best parameter (CV score=%0.3f):\" % search.best_score_)\n",
    "print(search.best_params_)"
   ]
  },
  {
   "cell_type": "code",
   "execution_count": 249,
   "metadata": {
    "ExecuteTime": {
     "end_time": "2020-12-13T17:52:53.021274Z",
     "start_time": "2020-12-13T17:52:52.812618Z"
    }
   },
   "outputs": [
    {
     "data": {
      "text/html": [
       "\n",
       "<div id=\"altair-viz-3d228eeb8d4a4066b1d1bbc2aae28b5c\"></div>\n",
       "<script type=\"text/javascript\">\n",
       "  (function(spec, embedOpt){\n",
       "    let outputDiv = document.currentScript.previousElementSibling;\n",
       "    if (outputDiv.id !== \"altair-viz-3d228eeb8d4a4066b1d1bbc2aae28b5c\") {\n",
       "      outputDiv = document.getElementById(\"altair-viz-3d228eeb8d4a4066b1d1bbc2aae28b5c\");\n",
       "    }\n",
       "    const paths = {\n",
       "      \"vega\": \"https://cdn.jsdelivr.net/npm//vega@5?noext\",\n",
       "      \"vega-lib\": \"https://cdn.jsdelivr.net/npm//vega-lib?noext\",\n",
       "      \"vega-lite\": \"https://cdn.jsdelivr.net/npm//vega-lite@4.8.1?noext\",\n",
       "      \"vega-embed\": \"https://cdn.jsdelivr.net/npm//vega-embed@6?noext\",\n",
       "    };\n",
       "\n",
       "    function loadScript(lib) {\n",
       "      return new Promise(function(resolve, reject) {\n",
       "        var s = document.createElement('script');\n",
       "        s.src = paths[lib];\n",
       "        s.async = true;\n",
       "        s.onload = () => resolve(paths[lib]);\n",
       "        s.onerror = () => reject(`Error loading script: ${paths[lib]}`);\n",
       "        document.getElementsByTagName(\"head\")[0].appendChild(s);\n",
       "      });\n",
       "    }\n",
       "\n",
       "    function showError(err) {\n",
       "      outputDiv.innerHTML = `<div class=\"error\" style=\"color:red;\">${err}</div>`;\n",
       "      throw err;\n",
       "    }\n",
       "\n",
       "    function displayChart(vegaEmbed) {\n",
       "      vegaEmbed(outputDiv, spec, embedOpt)\n",
       "        .catch(err => showError(`Javascript Error: ${err.message}<br>This usually means there's a typo in your chart specification. See the javascript console for the full traceback.`));\n",
       "    }\n",
       "\n",
       "    if(typeof define === \"function\" && define.amd) {\n",
       "      requirejs.config({paths});\n",
       "      require([\"vega-embed\"], displayChart, err => showError(`Error loading script: ${err.message}`));\n",
       "    } else if (typeof vegaEmbed === \"function\") {\n",
       "      displayChart(vegaEmbed);\n",
       "    } else {\n",
       "      loadScript(\"vega\")\n",
       "        .then(() => loadScript(\"vega-lite\"))\n",
       "        .then(() => loadScript(\"vega-embed\"))\n",
       "        .catch(showError)\n",
       "        .then(() => displayChart(vegaEmbed));\n",
       "    }\n",
       "  })({\"config\": {\"view\": {\"continuousWidth\": 400, \"continuousHeight\": 300}}, \"layer\": [{\"mark\": {\"type\": \"point\", \"filled\": true, \"size\": 10}, \"encoding\": {\"color\": {\"type\": \"nominal\", \"field\": \"tfidf__use_idf\"}, \"tooltip\": [{\"type\": \"quantitative\", \"field\": \"mean\"}, {\"type\": \"quantitative\", \"field\": \"std\"}], \"x\": {\"type\": \"quantitative\", \"field\": \"vect__max_features\"}, \"y\": {\"type\": \"quantitative\", \"field\": \"mean\"}}, \"transform\": [{\"calculate\": \"datum.mean-2*datum.std\", \"as\": \"ymin\"}, {\"calculate\": \"datum.mean+2*datum.std\", \"as\": \"ymax\"}]}, {\"mark\": \"errorbar\", \"encoding\": {\"color\": {\"type\": \"nominal\", \"field\": \"tfidf__use_idf\"}, \"x\": {\"type\": \"quantitative\", \"field\": \"vect__max_features\"}, \"y\": {\"type\": \"quantitative\", \"field\": \"ymin\"}, \"y2\": {\"field\": \"ymax\"}}, \"transform\": [{\"calculate\": \"datum.mean-2*datum.std\", \"as\": \"ymin\"}, {\"calculate\": \"datum.mean+2*datum.std\", \"as\": \"ymax\"}]}], \"data\": {\"name\": \"data-2aef6bc7bd9d27a3333498a0fce2870f\"}, \"$schema\": \"https://vega.github.io/schema/vega-lite/v4.8.1.json\", \"datasets\": {\"data-2aef6bc7bd9d27a3333498a0fce2870f\": [{\"tfidf__use_idf\": true, \"vect__max_features\": 572, \"mean\": 0.2921791699675416, \"std\": 0.017327959354997837}, {\"tfidf__use_idf\": true, \"vect__max_features\": 947, \"mean\": 0.32363690077399027, \"std\": 0.014984961746250459}, {\"tfidf__use_idf\": true, \"vect__max_features\": 5017, \"mean\": 0.36867057210671855, \"std\": 0.013482007767341852}, {\"tfidf__use_idf\": true, \"vect__max_features\": 10092, \"mean\": 0.3623059681777821, \"std\": 0.01459601693078539}, {\"tfidf__use_idf\": false, \"vect__max_features\": 467, \"mean\": 0.28997646841633207, \"std\": 0.017638008747704294}, {\"tfidf__use_idf\": false, \"vect__max_features\": 1095, \"mean\": 0.3215504168526066, \"std\": 0.015028047857421315}, {\"tfidf__use_idf\": false, \"vect__max_features\": 5003, \"mean\": 0.3626380371891178, \"std\": 0.01434114962638191}, {\"tfidf__use_idf\": false, \"vect__max_features\": 9909, \"mean\": 0.3527480086883742, \"std\": 0.015123077945464533}]}}, {\"mode\": \"vega-lite\"});\n",
       "</script>"
      ],
      "text/plain": [
       "alt.LayerChart(...)"
      ]
     },
     "execution_count": 249,
     "metadata": {},
     "output_type": "execute_result"
    }
   ],
   "source": [
    "descrete = 'tfidf__use_idf'\n",
    "continuous = 'vect__max_features'\n",
    "result_values = GridSearchResultToDF(search)\n",
    "PlotComparison(result_values, descrete, continuous)"
   ]
  },
  {
   "cell_type": "code",
   "execution_count": 250,
   "metadata": {
    "ExecuteTime": {
     "end_time": "2020-12-13T17:52:53.093276Z",
     "start_time": "2020-12-13T17:52:53.021274Z"
    }
   },
   "outputs": [
    {
     "data": {
      "text/html": [
       "<div>\n",
       "<style scoped>\n",
       "    .dataframe tbody tr th:only-of-type {\n",
       "        vertical-align: middle;\n",
       "    }\n",
       "\n",
       "    .dataframe tbody tr th {\n",
       "        vertical-align: top;\n",
       "    }\n",
       "\n",
       "    .dataframe thead th {\n",
       "        text-align: right;\n",
       "    }\n",
       "</style>\n",
       "<table border=\"1\" class=\"dataframe\">\n",
       "  <thead>\n",
       "    <tr style=\"text-align: right;\">\n",
       "      <th></th>\n",
       "      <th>mean</th>\n",
       "    </tr>\n",
       "    <tr>\n",
       "      <th>tfidf__use_idf</th>\n",
       "      <th></th>\n",
       "    </tr>\n",
       "  </thead>\n",
       "  <tbody>\n",
       "    <tr>\n",
       "      <th>False</th>\n",
       "      <td>0.331728</td>\n",
       "    </tr>\n",
       "    <tr>\n",
       "      <th>True</th>\n",
       "      <td>0.336698</td>\n",
       "    </tr>\n",
       "  </tbody>\n",
       "</table>\n",
       "</div>"
      ],
      "text/plain": [
       "                    mean\n",
       "tfidf__use_idf          \n",
       "False           0.331728\n",
       "True            0.336698"
      ]
     },
     "execution_count": 250,
     "metadata": {},
     "output_type": "execute_result"
    }
   ],
   "source": [
    "result_values.groupby(['tfidf__use_idf'])['mean'].agg(['mean'])"
   ]
  },
  {
   "cell_type": "code",
   "execution_count": 251,
   "metadata": {
    "ExecuteTime": {
     "end_time": "2020-12-13T17:53:01.613935Z",
     "start_time": "2020-12-13T17:52:53.093276Z"
    }
   },
   "outputs": [
    {
     "data": {
      "text/plain": [
       "0.39428201424515613"
      ]
     },
     "execution_count": 251,
     "metadata": {},
     "output_type": "execute_result"
    }
   ],
   "source": [
    "text_clf = search.best_estimator_.fit(train['text'], train.category)\n",
    "predicted_test = text_clf.predict(test['text'])\n",
    "np.mean(predicted_test == test.category)"
   ]
  },
  {
   "cell_type": "code",
   "execution_count": 252,
   "metadata": {
    "ExecuteTime": {
     "end_time": "2020-12-13T17:53:02.686099Z",
     "start_time": "2020-12-13T17:53:01.613935Z"
    }
   },
   "outputs": [],
   "source": [
    "if not os.path.exists(filename) or rewrite:\n",
    "    test_copy = test.copy()\n",
    "    test_copy['pred'] = predicted_test\n",
    "    model_dict = {\n",
    "        'model_name': model_name,\n",
    "        'model_description': model_description,\n",
    "        'model_CV': search,\n",
    "        'model_results': test_copy\n",
    "    }\n",
    "    dump(model_dict,filename)"
   ]
  },
  {
   "cell_type": "code",
   "execution_count": 253,
   "metadata": {
    "ExecuteTime": {
     "end_time": "2020-12-13T17:53:21.652963Z",
     "start_time": "2020-12-13T17:53:02.686099Z"
    }
   },
   "outputs": [
    {
     "data": {
      "image/png": "[encoded data removed]",
      "text/plain": [
       "<Figure size 1080x1080 with 2 Axes>"
      ]
     },
     "metadata": {
      "needs_background": "light"
     },
     "output_type": "display_data"
    }
   ],
   "source": [
    "fig, ax = plt.subplots(figsize=(15, 15))\n",
    "disp = plot_confusion_matrix(text_clf, test['text'], test.category,\n",
    "                             cmap=plt.cm.Blues,\n",
    "                             normalize=None,\n",
    "                             ax = ax)"
   ]
  },
  {
   "cell_type": "code",
   "execution_count": 254,
   "metadata": {
    "ExecuteTime": {
     "end_time": "2020-12-13T17:53:22.729833Z",
     "start_time": "2020-12-13T17:53:21.652963Z"
    }
   },
   "outputs": [
    {
     "name": "stderr",
     "output_type": "stream",
     "text": [
      "c:\\users\\mauricio\\appdata\\local\\programs\\python\\python37\\lib\\site-packages\\sklearn\\metrics\\_classification.py:1221: UndefinedMetricWarning: Precision and F-score are ill-defined and being set to 0.0 in labels with no predicted samples. Use `zero_division` parameter to control this behavior.\n",
      "  _warn_prf(average, modifier, msg_start, len(result))\n"
     ]
    },
    {
     "name": "stdout",
     "output_type": "stream",
     "text": [
      "                precision    recall  f1-score   support\n",
      "\n",
      "          ARTS       0.00      0.00      0.00       146\n",
      "ARTS & CULTURE       0.00      0.00      0.00       149\n",
      "  BLACK VOICES       0.55      0.05      0.09       451\n",
      "      BUSINESS       0.42      0.16      0.23       557\n",
      "       COLLEGE       0.00      0.00      0.00       115\n",
      "        COMEDY       0.51      0.04      0.08       521\n",
      "         CRIME       0.60      0.15      0.24       327\n",
      "CULTURE & ARTS       1.00      0.03      0.05       115\n",
      "       DIVORCE       0.82      0.31      0.45       350\n",
      "     EDUCATION       0.00      0.00      0.00        93\n",
      " ENTERTAINMENT       0.32      0.42      0.36      1600\n",
      "   ENVIRONMENT       0.80      0.03      0.06       138\n",
      "         FIFTY       0.00      0.00      0.00       146\n",
      "  FOOD & DRINK       0.53      0.56      0.54       610\n",
      "     GOOD NEWS       0.00      0.00      0.00       131\n",
      "         GREEN       0.43      0.05      0.10       274\n",
      "HEALTHY LIVING       0.50      0.01      0.02       679\n",
      " HOME & LIVING       0.66      0.28      0.40       415\n",
      "        IMPACT       0.36      0.03      0.05       323\n",
      " LATINO VOICES       1.00      0.01      0.02        97\n",
      "         MEDIA       0.79      0.04      0.08       262\n",
      "         MONEY       0.80      0.04      0.08       188\n",
      "     PARENTING       0.40      0.42      0.41       859\n",
      "       PARENTS       0.36      0.01      0.02       375\n",
      "      POLITICS       0.34      0.90      0.50      3253\n",
      "  QUEER VOICES       0.75      0.22      0.34       656\n",
      "      RELIGION       0.76      0.05      0.10       252\n",
      "       SCIENCE       0.67      0.05      0.09       219\n",
      "        SPORTS       0.59      0.20      0.30       509\n",
      "         STYLE       0.00      0.00      0.00       223\n",
      "STYLE & BEAUTY       0.58      0.61      0.59       989\n",
      "         TASTE       0.00      0.00      0.00       228\n",
      "          TECH       0.60      0.04      0.08       217\n",
      " THE WORLDPOST       0.43      0.16      0.24       347\n",
      "        TRAVEL       0.52      0.60      0.56      1017\n",
      "      WEDDINGS       0.83      0.40      0.54       389\n",
      "    WEIRD NEWS       0.57      0.01      0.03       268\n",
      "      WELLNESS       0.35      0.83      0.49      1748\n",
      "         WOMEN       0.59      0.03      0.06       340\n",
      "    WORLD NEWS       0.25      0.01      0.02       218\n",
      "     WORLDPOST       0.00      0.00      0.00       283\n",
      "\n",
      "      accuracy                           0.39     20077\n",
      "     macro avg       0.46      0.16      0.17     20077\n",
      "  weighted avg       0.45      0.39      0.32     20077\n",
      "\n"
     ]
    }
   ],
   "source": [
    "print(classification_report(test.category, predicted_test))"
   ]
  },
  {
   "cell_type": "markdown",
   "metadata": {},
   "source": [
    "## Headlines y Description NB"
   ]
  },
  {
   "cell_type": "code",
   "execution_count": 255,
   "metadata": {
    "ExecuteTime": {
     "end_time": "2020-12-13T17:53:22.745835Z",
     "start_time": "2020-12-13T17:53:22.729833Z"
    }
   },
   "outputs": [],
   "source": [
    "model_name = 'headlines_description_NB'\n",
    "model_description = 'Naive Bayes Model on headlines and short description'\n",
    "filename = f\"./Data/model_{model_name}.joblib\""
   ]
  },
  {
   "cell_type": "code",
   "execution_count": 256,
   "metadata": {
    "ExecuteTime": {
     "end_time": "2020-12-13T17:53:23.225849Z",
     "start_time": "2020-12-13T17:53:22.745835Z"
    }
   },
   "outputs": [
    {
     "data": {
      "text/html": [
       "<div>\n",
       "<style scoped>\n",
       "    .dataframe tbody tr th:only-of-type {\n",
       "        vertical-align: middle;\n",
       "    }\n",
       "\n",
       "    .dataframe tbody tr th {\n",
       "        vertical-align: top;\n",
       "    }\n",
       "\n",
       "    .dataframe thead th {\n",
       "        text-align: right;\n",
       "    }\n",
       "</style>\n",
       "<table border=\"1\" class=\"dataframe\">\n",
       "  <thead>\n",
       "    <tr style=\"text-align: right;\">\n",
       "      <th></th>\n",
       "      <th>id</th>\n",
       "      <th>category</th>\n",
       "      <th>text</th>\n",
       "    </tr>\n",
       "  </thead>\n",
       "  <tbody>\n",
       "    <tr>\n",
       "      <th>0</th>\n",
       "      <td>0</td>\n",
       "      <td>CRIME</td>\n",
       "      <td>2 mass shoot texa last week 1 tv left husband ...</td>\n",
       "    </tr>\n",
       "    <tr>\n",
       "      <th>1</th>\n",
       "      <td>1</td>\n",
       "      <td>ENTERTAINMENT</td>\n",
       "      <td>smith join diplo nicki jam 2018 world cup offi...</td>\n",
       "    </tr>\n",
       "    <tr>\n",
       "      <th>2</th>\n",
       "      <td>2</td>\n",
       "      <td>ENTERTAINMENT</td>\n",
       "      <td>hugh grant marri first time age 57 actor longt...</td>\n",
       "    </tr>\n",
       "    <tr>\n",
       "      <th>3</th>\n",
       "      <td>3</td>\n",
       "      <td>ENTERTAINMENT</td>\n",
       "      <td>jim carrey blast castrato adam schiff democrat...</td>\n",
       "    </tr>\n",
       "    <tr>\n",
       "      <th>4</th>\n",
       "      <td>4</td>\n",
       "      <td>ENTERTAINMENT</td>\n",
       "      <td>julianna marguli use donald trump poop bag pic...</td>\n",
       "    </tr>\n",
       "    <tr>\n",
       "      <th>...</th>\n",
       "      <td>...</td>\n",
       "      <td>...</td>\n",
       "      <td>...</td>\n",
       "    </tr>\n",
       "    <tr>\n",
       "      <th>200843</th>\n",
       "      <td>200848</td>\n",
       "      <td>TECH</td>\n",
       "      <td>rim ceo thorsten hein signific plan blackberri...</td>\n",
       "    </tr>\n",
       "    <tr>\n",
       "      <th>200844</th>\n",
       "      <td>200849</td>\n",
       "      <td>SPORTS</td>\n",
       "      <td>maria sharapova stun victoria azarenka austral...</td>\n",
       "    </tr>\n",
       "    <tr>\n",
       "      <th>200845</th>\n",
       "      <td>200850</td>\n",
       "      <td>SPORTS</td>\n",
       "      <td>giant patriot jet colt among improb super bowl...</td>\n",
       "    </tr>\n",
       "    <tr>\n",
       "      <th>200846</th>\n",
       "      <td>200851</td>\n",
       "      <td>SPORTS</td>\n",
       "      <td>aldon smith arrest 49er lineback bust dui corr...</td>\n",
       "    </tr>\n",
       "    <tr>\n",
       "      <th>200847</th>\n",
       "      <td>200852</td>\n",
       "      <td>SPORTS</td>\n",
       "      <td>dwight howard rip teammat magic loss hornet fi...</td>\n",
       "    </tr>\n",
       "  </tbody>\n",
       "</table>\n",
       "<p>200848 rows × 3 columns</p>\n",
       "</div>"
      ],
      "text/plain": [
       "            id       category  \\\n",
       "0            0          CRIME   \n",
       "1            1  ENTERTAINMENT   \n",
       "2            2  ENTERTAINMENT   \n",
       "3            3  ENTERTAINMENT   \n",
       "4            4  ENTERTAINMENT   \n",
       "...        ...            ...   \n",
       "200843  200848           TECH   \n",
       "200844  200849         SPORTS   \n",
       "200845  200850         SPORTS   \n",
       "200846  200851         SPORTS   \n",
       "200847  200852         SPORTS   \n",
       "\n",
       "                                                     text  \n",
       "0       2 mass shoot texa last week 1 tv left husband ...  \n",
       "1       smith join diplo nicki jam 2018 world cup offi...  \n",
       "2       hugh grant marri first time age 57 actor longt...  \n",
       "3       jim carrey blast castrato adam schiff democrat...  \n",
       "4       julianna marguli use donald trump poop bag pic...  \n",
       "...                                                   ...  \n",
       "200843  rim ceo thorsten hein signific plan blackberri...  \n",
       "200844  maria sharapova stun victoria azarenka austral...  \n",
       "200845  giant patriot jet colt among improb super bowl...  \n",
       "200846  aldon smith arrest 49er lineback bust dui corr...  \n",
       "200847  dwight howard rip teammat magic loss hornet fi...  \n",
       "\n",
       "[200848 rows x 3 columns]"
      ]
     },
     "execution_count": 256,
     "metadata": {},
     "output_type": "execute_result"
    }
   ],
   "source": [
    "df_liquid_text2 = pd.read_pickle('./Data/clean_liquidtext_headline_short_description.pkl')\n",
    "df_liquid_text2"
   ]
  },
  {
   "cell_type": "code",
   "execution_count": 257,
   "metadata": {
    "ExecuteTime": {
     "end_time": "2020-12-13T17:53:23.369872Z",
     "start_time": "2020-12-13T17:53:23.225849Z"
    }
   },
   "outputs": [
    {
     "name": "stdout",
     "output_type": "stream",
     "text": [
      "(180762, 3)\n",
      "(20086, 3)\n"
     ]
    }
   ],
   "source": [
    "train = df_liquid_text2[df_liquid_text2.id.isin(train_idx)]\n",
    "test = df_liquid_text2[df_liquid_text2.id.isin(test_idx)]\n",
    "print(train.shape)\n",
    "print(test.shape)"
   ]
  },
  {
   "cell_type": "code",
   "execution_count": 258,
   "metadata": {
    "ExecuteTime": {
     "end_time": "2020-12-13T17:53:32.867033Z",
     "start_time": "2020-12-13T17:53:23.369872Z"
    }
   },
   "outputs": [
    {
     "data": {
      "text/html": [
       "\n",
       "<div id=\"altair-viz-0f526675344148dcafe6f48dd02ac46c\"></div>\n",
       "<script type=\"text/javascript\">\n",
       "  (function(spec, embedOpt){\n",
       "    let outputDiv = document.currentScript.previousElementSibling;\n",
       "    if (outputDiv.id !== \"altair-viz-0f526675344148dcafe6f48dd02ac46c\") {\n",
       "      outputDiv = document.getElementById(\"altair-viz-0f526675344148dcafe6f48dd02ac46c\");\n",
       "    }\n",
       "    const paths = {\n",
       "      \"vega\": \"https://cdn.jsdelivr.net/npm//vega@5?noext\",\n",
       "      \"vega-lib\": \"https://cdn.jsdelivr.net/npm//vega-lib?noext\",\n",
       "      \"vega-lite\": \"https://cdn.jsdelivr.net/npm//vega-lite@4.8.1?noext\",\n",
       "      \"vega-embed\": \"https://cdn.jsdelivr.net/npm//vega-embed@6?noext\",\n",
       "    };\n",
       "\n",
       "    function loadScript(lib) {\n",
       "      return new Promise(function(resolve, reject) {\n",
       "        var s = document.createElement('script');\n",
       "        s.src = paths[lib];\n",
       "        s.async = true;\n",
       "        s.onload = () => resolve(paths[lib]);\n",
       "        s.onerror = () => reject(`Error loading script: ${paths[lib]}`);\n",
       "        document.getElementsByTagName(\"head\")[0].appendChild(s);\n",
       "      });\n",
       "    }\n",
       "\n",
       "    function showError(err) {\n",
       "      outputDiv.innerHTML = `<div class=\"error\" style=\"color:red;\">${err}</div>`;\n",
       "      throw err;\n",
       "    }\n",
       "\n",
       "    function displayChart(vegaEmbed) {\n",
       "      vegaEmbed(outputDiv, spec, embedOpt)\n",
       "        .catch(err => showError(`Javascript Error: ${err.message}<br>This usually means there's a typo in your chart specification. See the javascript console for the full traceback.`));\n",
       "    }\n",
       "\n",
       "    if(typeof define === \"function\" && define.amd) {\n",
       "      requirejs.config({paths});\n",
       "      require([\"vega-embed\"], displayChart, err => showError(`Error loading script: ${err.message}`));\n",
       "    } else if (typeof vegaEmbed === \"function\") {\n",
       "      displayChart(vegaEmbed);\n",
       "    } else {\n",
       "      loadScript(\"vega\")\n",
       "        .then(() => loadScript(\"vega-lite\"))\n",
       "        .then(() => loadScript(\"vega-embed\"))\n",
       "        .catch(showError)\n",
       "        .then(() => displayChart(vegaEmbed));\n",
       "    }\n",
       "  })({\"config\": {\"view\": {\"continuousWidth\": 400, \"continuousHeight\": 300}}, \"data\": {\"name\": \"data-0fe28654ac441e9f2b80a093a02666d7\"}, \"facet\": {\"type\": \"nominal\", \"field\": \"category\"}, \"spec\": {\"mark\": \"bar\", \"encoding\": {\"tooltip\": [{\"type\": \"nominal\", \"field\": \"tok\"}, {\"type\": \"quantitative\", \"field\": \"count\"}], \"x\": {\"type\": \"quantitative\", \"field\": \"count\"}, \"y\": {\"type\": \"nominal\", \"field\": \"tok\", \"sort\": \"-x\"}}, \"height\": 50, \"width\": 120}, \"columns\": 4, \"resolve\": {\"scale\": {\"x\": \"independent\", \"y\": \"independent\"}}, \"$schema\": \"https://vega.github.io/schema/vega-lite/v4.8.1.json\", \"datasets\": {\"data-0fe28654ac441e9f2b80a093a02666d7\": [{\"category\": \"WORLDPOST\", \"tok\": \"world\", \"count\": 302}, {\"category\": \"WORLDPOST\", \"tok\": \"--\", \"count\": 257}, {\"category\": \"WORLDPOST\", \"tok\": \"''\", \"count\": 248}, {\"category\": \"WORLDPOST\", \"tok\": \"``\", \"count\": 247}, {\"category\": \"WORLDPOST\", \"tok\": \"state\", \"count\": 208}, {\"category\": \"WORLD NEWS\", \"tok\": \"trump\", \"count\": 289}, {\"category\": \"WORLD NEWS\", \"tok\": \"''\", \"count\": 271}, {\"category\": \"WORLD NEWS\", \"tok\": \"north\", \"count\": 237}, {\"category\": \"WORLD NEWS\", \"tok\": \"korea\", \"count\": 236}, {\"category\": \"WORLD NEWS\", \"tok\": \"``\", \"count\": 231}, {\"category\": \"WOMEN\", \"tok\": \"women\", \"count\": 1514}, {\"category\": \"WOMEN\", \"tok\": \"''\", \"count\": 647}, {\"category\": \"WOMEN\", \"tok\": \"``\", \"count\": 633}, {\"category\": \"WOMEN\", \"tok\": \"woman\", \"count\": 347}, {\"category\": \"WOMEN\", \"tok\": \"like\", \"count\": 305}, {\"category\": \"WELLNESS\", \"tok\": \"--\", \"count\": 3166}, {\"category\": \"WELLNESS\", \"tok\": \"``\", \"count\": 2944}, {\"category\": \"WELLNESS\", \"tok\": \"life\", \"count\": 2651}, {\"category\": \"WELLNESS\", \"tok\": \"''\", \"count\": 2356}, {\"category\": \"WELLNESS\", \"tok\": \"health\", \"count\": 2248}, {\"category\": \"WEIRD NEWS\", \"tok\": \"''\", \"count\": 462}, {\"category\": \"WEIRD NEWS\", \"tok\": \"``\", \"count\": 444}, {\"category\": \"WEIRD NEWS\", \"tok\": \"man\", \"count\": 307}, {\"category\": \"WEIRD NEWS\", \"tok\": \"!\", \"count\": 278}, {\"category\": \"WEIRD NEWS\", \"tok\": \"get\", \"count\": 180}, {\"category\": \"WEDDINGS\", \"tok\": \"wed\", \"count\": 3573}, {\"category\": \"WEDDINGS\", \"tok\": \"marriag\", \"count\": 794}, {\"category\": \"WEDDINGS\", \"tok\": \"``\", \"count\": 778}, {\"category\": \"WEDDINGS\", \"tok\": \"photo\", \"count\": 731}, {\"category\": \"WEDDINGS\", \"tok\": \"coupl\", \"count\": 724}, {\"category\": \"TRAVEL\", \"tok\": \"travel\", \"count\": 2902}, {\"category\": \"TRAVEL\", \"tok\": \"photo\", \"count\": 1904}, {\"category\": \"TRAVEL\", \"tok\": \"world\", \"count\": 1414}, {\"category\": \"TRAVEL\", \"tok\": \"hotel\", \"count\": 1246}, {\"category\": \"TRAVEL\", \"tok\": \"new\", \"count\": 1243}, {\"category\": \"THE WORLDPOST\", \"tok\": \"attack\", \"count\": 511}, {\"category\": \"THE WORLDPOST\", \"tok\": \"''\", \"count\": 479}, {\"category\": \"THE WORLDPOST\", \"tok\": \"kill\", \"count\": 468}, {\"category\": \"THE WORLDPOST\", \"tok\": \"say\", \"count\": 450}, {\"category\": \"THE WORLDPOST\", \"tok\": \"``\", \"count\": 432}, {\"category\": \"TECH\", \"tok\": \"appl\", \"count\": 411}, {\"category\": \"TECH\", \"tok\": \"new\", \"count\": 338}, {\"category\": \"TECH\", \"tok\": \"facebook\", \"count\": 311}, {\"category\": \"TECH\", \"tok\": \"``\", \"count\": 283}, {\"category\": \"TECH\", \"tok\": \"googl\", \"count\": 265}, {\"category\": \"TASTE\", \"tok\": \"make\", \"count\": 401}, {\"category\": \"TASTE\", \"tok\": \"recip\", \"count\": 340}, {\"category\": \"TASTE\", \"tok\": \"food\", \"count\": 306}, {\"category\": \"TASTE\", \"tok\": \"!\", \"count\": 201}, {\"category\": \"TASTE\", \"tok\": \"get\", \"count\": 159}, {\"category\": \"STYLE & BEAUTY\", \"tok\": \"photo\", \"count\": 5368}, {\"category\": \"STYLE & BEAUTY\", \"tok\": \"style\", \"count\": 2267}, {\"category\": \"STYLE & BEAUTY\", \"tok\": \"fashion\", \"count\": 2174}, {\"category\": \"STYLE & BEAUTY\", \"tok\": \"look\", \"count\": 1912}, {\"category\": \"STYLE & BEAUTY\", \"tok\": \"week\", \"count\": 1568}, {\"category\": \"STYLE\", \"tok\": \"look\", \"count\": 298}, {\"category\": \"STYLE\", \"tok\": \"fashion\", \"count\": 252}, {\"category\": \"STYLE\", \"tok\": \"new\", \"count\": 206}, {\"category\": \"STYLE\", \"tok\": \"dress\", \"count\": 180}, {\"category\": \"STYLE\", \"tok\": \"beauti\", \"count\": 176}, {\"category\": \"SPORTS\", \"tok\": \"``\", \"count\": 790}, {\"category\": \"SPORTS\", \"tok\": \"''\", \"count\": 782}, {\"category\": \"SPORTS\", \"tok\": \"game\", \"count\": 576}, {\"category\": \"SPORTS\", \"tok\": \"player\", \"count\": 491}, {\"category\": \"SPORTS\", \"tok\": \"nfl\", \"count\": 483}, {\"category\": \"SCIENCE\", \"tok\": \"``\", \"count\": 325}, {\"category\": \"SCIENCE\", \"tok\": \"new\", \"count\": 306}, {\"category\": \"SCIENCE\", \"tok\": \"scientist\", \"count\": 282}, {\"category\": \"SCIENCE\", \"tok\": \"''\", \"count\": 264}, {\"category\": \"SCIENCE\", \"tok\": \"may\", \"count\": 258}, {\"category\": \"RELIGION\", \"tok\": \"''\", \"count\": 371}, {\"category\": \"RELIGION\", \"tok\": \"``\", \"count\": 366}, {\"category\": \"RELIGION\", \"tok\": \"pope\", \"count\": 347}, {\"category\": \"RELIGION\", \"tok\": \"church\", \"count\": 286}, {\"category\": \"RELIGION\", \"tok\": \"christian\", \"count\": 282}, {\"category\": \"QUEER VOICES\", \"tok\": \"gay\", \"count\": 2107}, {\"category\": \"QUEER VOICES\", \"tok\": \"``\", \"count\": 1734}, {\"category\": \"QUEER VOICES\", \"tok\": \"''\", \"count\": 1631}, {\"category\": \"QUEER VOICES\", \"tok\": \"new\", \"count\": 808}, {\"category\": \"QUEER VOICES\", \"tok\": \"peopl\", \"count\": 732}, {\"category\": \"POLITICS\", \"tok\": \"trump\", \"count\": 12788}, {\"category\": \"POLITICS\", \"tok\": \"''\", \"count\": 5856}, {\"category\": \"POLITICS\", \"tok\": \"``\", \"count\": 5472}, {\"category\": \"POLITICS\", \"tok\": \"donald\", \"count\": 4379}, {\"category\": \"POLITICS\", \"tok\": \"presid\", \"count\": 3432}, {\"category\": \"PARENTS\", \"tok\": \"kid\", \"count\": 970}, {\"category\": \"PARENTS\", \"tok\": \"parent\", \"count\": 967}, {\"category\": \"PARENTS\", \"tok\": \"mom\", \"count\": 769}, {\"category\": \"PARENTS\", \"tok\": \"''\", \"count\": 737}, {\"category\": \"PARENTS\", \"tok\": \"``\", \"count\": 725}, {\"category\": \"PARENTING\", \"tok\": \"parent\", \"count\": 2548}, {\"category\": \"PARENTING\", \"tok\": \"kid\", \"count\": 2509}, {\"category\": \"PARENTING\", \"tok\": \"``\", \"count\": 1679}, {\"category\": \"PARENTING\", \"tok\": \"children\", \"count\": 1665}, {\"category\": \"PARENTING\", \"tok\": \"''\", \"count\": 1373}, {\"category\": \"MONEY\", \"tok\": \"credit\", \"count\": 335}, {\"category\": \"MONEY\", \"tok\": \"money\", \"count\": 332}, {\"category\": \"MONEY\", \"tok\": \"tax\", \"count\": 320}, {\"category\": \"MONEY\", \"tok\": \"$\", \"count\": 267}, {\"category\": \"MONEY\", \"tok\": \"financi\", \"count\": 254}, {\"category\": \"MEDIA\", \"tok\": \"news\", \"count\": 648}, {\"category\": \"MEDIA\", \"tok\": \"''\", \"count\": 646}, {\"category\": \"MEDIA\", \"tok\": \"trump\", \"count\": 633}, {\"category\": \"MEDIA\", \"tok\": \"``\", \"count\": 625}, {\"category\": \"MEDIA\", \"tok\": \"media\", \"count\": 398}, {\"category\": \"LATINO VOICES\", \"tok\": \"latino\", \"count\": 325}, {\"category\": \"LATINO VOICES\", \"tok\": \"''\", \"count\": 279}, {\"category\": \"LATINO VOICES\", \"tok\": \"``\", \"count\": 269}, {\"category\": \"LATINO VOICES\", \"tok\": \"immigr\", \"count\": 146}, {\"category\": \"LATINO VOICES\", \"tok\": \"trump\", \"count\": 141}, {\"category\": \"IMPACT\", \"tok\": \"peopl\", \"count\": 522}, {\"category\": \"IMPACT\", \"tok\": \"world\", \"count\": 503}, {\"category\": \"IMPACT\", \"tok\": \"day\", \"count\": 475}, {\"category\": \"IMPACT\", \"tok\": \"``\", \"count\": 442}, {\"category\": \"IMPACT\", \"tok\": \"one\", \"count\": 438}, {\"category\": \"HOME & LIVING\", \"tok\": \"home\", \"count\": 1821}, {\"category\": \"HOME & LIVING\", \"tok\": \"photo\", \"count\": 1687}, {\"category\": \"HOME & LIVING\", \"tok\": \"idea\", \"count\": 586}, {\"category\": \"HOME & LIVING\", \"tok\": \"make\", \"count\": 578}, {\"category\": \"HOME & LIVING\", \"tok\": \"day\", \"count\": 539}, {\"category\": \"HEALTHY LIVING\", \"tok\": \"life\", \"count\": 793}, {\"category\": \"HEALTHY LIVING\", \"tok\": \"health\", \"count\": 787}, {\"category\": \"HEALTHY LIVING\", \"tok\": \"way\", \"count\": 668}, {\"category\": \"HEALTHY LIVING\", \"tok\": \"peopl\", \"count\": 623}, {\"category\": \"HEALTHY LIVING\", \"tok\": \"make\", \"count\": 621}, {\"category\": \"GREEN\", \"tok\": \"climat\", \"count\": 635}, {\"category\": \"GREEN\", \"tok\": \"chang\", \"count\": 404}, {\"category\": \"GREEN\", \"tok\": \"''\", \"count\": 254}, {\"category\": \"GREEN\", \"tok\": \"``\", \"count\": 240}, {\"category\": \"GREEN\", \"tok\": \"dog\", \"count\": 239}, {\"category\": \"GOOD NEWS\", \"tok\": \"''\", \"count\": 243}, {\"category\": \"GOOD NEWS\", \"tok\": \"``\", \"count\": 241}, {\"category\": \"GOOD NEWS\", \"tok\": \"dog\", \"count\": 199}, {\"category\": \"GOOD NEWS\", \"tok\": \"get\", \"count\": 129}, {\"category\": \"GOOD NEWS\", \"tok\": \"!\", \"count\": 125}, {\"category\": \"FOOD & DRINK\", \"tok\": \"recip\", \"count\": 1586}, {\"category\": \"FOOD & DRINK\", \"tok\": \"food\", \"count\": 1211}, {\"category\": \"FOOD & DRINK\", \"tok\": \"make\", \"count\": 1016}, {\"category\": \"FOOD & DRINK\", \"tok\": \"photo\", \"count\": 890}, {\"category\": \"FOOD & DRINK\", \"tok\": \"best\", \"count\": 754}, {\"category\": \"FIFTY\", \"tok\": \"year\", \"count\": 237}, {\"category\": \"FIFTY\", \"tok\": \"--\", \"count\": 226}, {\"category\": \"FIFTY\", \"tok\": \"one\", \"count\": 222}, {\"category\": \"FIFTY\", \"tok\": \"age\", \"count\": 219}, {\"category\": \"FIFTY\", \"tok\": \"life\", \"count\": 209}, {\"category\": \"ENVIRONMENT\", \"tok\": \"photo\", \"count\": 294}, {\"category\": \"ENVIRONMENT\", \"tok\": \"week\", \"count\": 291}, {\"category\": \"ENVIRONMENT\", \"tok\": \"anim\", \"count\": 287}, {\"category\": \"ENVIRONMENT\", \"tok\": \"climat\", \"count\": 236}, {\"category\": \"ENVIRONMENT\", \"tok\": \"``\", \"count\": 176}, {\"category\": \"ENTERTAINMENT\", \"tok\": \"``\", \"count\": 4629}, {\"category\": \"ENTERTAINMENT\", \"tok\": \"''\", \"count\": 4488}, {\"category\": \"ENTERTAINMENT\", \"tok\": \"new\", \"count\": 1883}, {\"category\": \"ENTERTAINMENT\", \"tok\": \"star\", \"count\": 1213}, {\"category\": \"ENTERTAINMENT\", \"tok\": \"show\", \"count\": 1128}, {\"category\": \"EDUCATION\", \"tok\": \"school\", \"count\": 482}, {\"category\": \"EDUCATION\", \"tok\": \"educ\", \"count\": 439}, {\"category\": \"EDUCATION\", \"tok\": \"student\", \"count\": 332}, {\"category\": \"EDUCATION\", \"tok\": \"teacher\", \"count\": 282}, {\"category\": \"EDUCATION\", \"tok\": \"``\", \"count\": 138}, {\"category\": \"DIVORCE\", \"tok\": \"divorc\", \"count\": 2963}, {\"category\": \"DIVORCE\", \"tok\": \"``\", \"count\": 668}, {\"category\": \"DIVORCE\", \"tok\": \"marriag\", \"count\": 608}, {\"category\": \"DIVORCE\", \"tok\": \"''\", \"count\": 516}, {\"category\": \"DIVORCE\", \"tok\": \"--\", \"count\": 460}, {\"category\": \"CULTURE & ARTS\", \"tok\": \"art\", \"count\": 344}, {\"category\": \"CULTURE & ARTS\", \"tok\": \"photo\", \"count\": 327}, {\"category\": \"CULTURE & ARTS\", \"tok\": \"``\", \"count\": 258}, {\"category\": \"CULTURE & ARTS\", \"tok\": \"''\", \"count\": 238}, {\"category\": \"CULTURE & ARTS\", \"tok\": \"artist\", \"count\": 204}, {\"category\": \"CRIME\", \"tok\": \"polic\", \"count\": 823}, {\"category\": \"CRIME\", \"tok\": \"man\", \"count\": 567}, {\"category\": \"CRIME\", \"tok\": \"``\", \"count\": 544}, {\"category\": \"CRIME\", \"tok\": \"kill\", \"count\": 543}, {\"category\": \"CRIME\", \"tok\": \"''\", \"count\": 519}, {\"category\": \"COMEDY\", \"tok\": \"''\", \"count\": 1697}, {\"category\": \"COMEDY\", \"tok\": \"``\", \"count\": 1689}, {\"category\": \"COMEDY\", \"tok\": \"trump\", \"count\": 1173}, {\"category\": \"COMEDY\", \"tok\": \"video\", \"count\": 640}, {\"category\": \"COMEDY\", \"tok\": \"donald\", \"count\": 621}, {\"category\": \"COLLEGE\", \"tok\": \"colleg\", \"count\": 545}, {\"category\": \"COLLEGE\", \"tok\": \"student\", \"count\": 408}, {\"category\": \"COLLEGE\", \"tok\": \"univers\", \"count\": 247}, {\"category\": \"COLLEGE\", \"tok\": \"campus\", \"count\": 152}, {\"category\": \"COLLEGE\", \"tok\": \"''\", \"count\": 151}, {\"category\": \"BUSINESS\", \"tok\": \"busi\", \"count\": 889}, {\"category\": \"BUSINESS\", \"tok\": \"``\", \"count\": 724}, {\"category\": \"BUSINESS\", \"tok\": \"compani\", \"count\": 701}, {\"category\": \"BUSINESS\", \"tok\": \"''\", \"count\": 653}, {\"category\": \"BUSINESS\", \"tok\": \"new\", \"count\": 650}, {\"category\": \"BLACK VOICES\", \"tok\": \"black\", \"count\": 1609}, {\"category\": \"BLACK VOICES\", \"tok\": \"``\", \"count\": 957}, {\"category\": \"BLACK VOICES\", \"tok\": \"''\", \"count\": 949}, {\"category\": \"BLACK VOICES\", \"tok\": \"new\", \"count\": 464}, {\"category\": \"BLACK VOICES\", \"tok\": \"polic\", \"count\": 410}, {\"category\": \"ARTS & CULTURE\", \"tok\": \"''\", \"count\": 353}, {\"category\": \"ARTS & CULTURE\", \"tok\": \"``\", \"count\": 342}, {\"category\": \"ARTS & CULTURE\", \"tok\": \"art\", \"count\": 220}, {\"category\": \"ARTS & CULTURE\", \"tok\": \"artist\", \"count\": 213}, {\"category\": \"ARTS & CULTURE\", \"tok\": \"book\", \"count\": 203}, {\"category\": \"ARTS\", \"tok\": \"art\", \"count\": 382}, {\"category\": \"ARTS\", \"tok\": \"artist\", \"count\": 238}, {\"category\": \"ARTS\", \"tok\": \"''\", \"count\": 205}, {\"category\": \"ARTS\", \"tok\": \"``\", \"count\": 205}, {\"category\": \"ARTS\", \"tok\": \"new\", \"count\": 178}]}}, {\"mode\": \"vega-lite\"});\n",
       "</script>"
      ],
      "text/plain": [
       "alt.FacetChart(...)"
      ]
     },
     "execution_count": 258,
     "metadata": {},
     "output_type": "execute_result"
    }
   ],
   "source": [
    "df_tok_clean = pd.read_pickle('./Data/clean_data_headline_short_description.pkl')\n",
    "plot_freq_x_context(df_tok_clean)"
   ]
  },
  {
   "cell_type": "markdown",
   "metadata": {},
   "source": [
    "Separemos una porción de los datos para hacer el entrenamiento y una porción para hacer el test"
   ]
  },
  {
   "cell_type": "code",
   "execution_count": 259,
   "metadata": {
    "ExecuteTime": {
     "end_time": "2020-12-13T17:53:34.011535Z",
     "start_time": "2020-12-13T17:53:32.875037Z"
    }
   },
   "outputs": [
    {
     "name": "stdout",
     "output_type": "stream",
     "text": [
      "Best parameter (CV score=0.506):\n",
      "{'tfidf__use_idf': True, 'vect__max_features': 5000}\n"
     ]
    }
   ],
   "source": [
    "if os.path.exists(filename):\n",
    "    model_data = load(filename)\n",
    "    search = model_data['model_CV']\n",
    "else:\n",
    "    search = GridSearchCV(text_clf_CV, param_grid, n_jobs=2)\n",
    "    search.fit(train.text, train.category)\n",
    "print(\"Best parameter (CV score=%0.3f):\" % search.best_score_)\n",
    "print(search.best_params_)"
   ]
  },
  {
   "cell_type": "code",
   "execution_count": 260,
   "metadata": {
    "ExecuteTime": {
     "end_time": "2020-12-13T17:53:34.211537Z",
     "start_time": "2020-12-13T17:53:34.011535Z"
    }
   },
   "outputs": [
    {
     "data": {
      "text/html": [
       "\n",
       "<div id=\"altair-viz-8999484139964720953974688f2fff0c\"></div>\n",
       "<script type=\"text/javascript\">\n",
       "  (function(spec, embedOpt){\n",
       "    let outputDiv = document.currentScript.previousElementSibling;\n",
       "    if (outputDiv.id !== \"altair-viz-8999484139964720953974688f2fff0c\") {\n",
       "      outputDiv = document.getElementById(\"altair-viz-8999484139964720953974688f2fff0c\");\n",
       "    }\n",
       "    const paths = {\n",
       "      \"vega\": \"https://cdn.jsdelivr.net/npm//vega@5?noext\",\n",
       "      \"vega-lib\": \"https://cdn.jsdelivr.net/npm//vega-lib?noext\",\n",
       "      \"vega-lite\": \"https://cdn.jsdelivr.net/npm//vega-lite@4.8.1?noext\",\n",
       "      \"vega-embed\": \"https://cdn.jsdelivr.net/npm//vega-embed@6?noext\",\n",
       "    };\n",
       "\n",
       "    function loadScript(lib) {\n",
       "      return new Promise(function(resolve, reject) {\n",
       "        var s = document.createElement('script');\n",
       "        s.src = paths[lib];\n",
       "        s.async = true;\n",
       "        s.onload = () => resolve(paths[lib]);\n",
       "        s.onerror = () => reject(`Error loading script: ${paths[lib]}`);\n",
       "        document.getElementsByTagName(\"head\")[0].appendChild(s);\n",
       "      });\n",
       "    }\n",
       "\n",
       "    function showError(err) {\n",
       "      outputDiv.innerHTML = `<div class=\"error\" style=\"color:red;\">${err}</div>`;\n",
       "      throw err;\n",
       "    }\n",
       "\n",
       "    function displayChart(vegaEmbed) {\n",
       "      vegaEmbed(outputDiv, spec, embedOpt)\n",
       "        .catch(err => showError(`Javascript Error: ${err.message}<br>This usually means there's a typo in your chart specification. See the javascript console for the full traceback.`));\n",
       "    }\n",
       "\n",
       "    if(typeof define === \"function\" && define.amd) {\n",
       "      requirejs.config({paths});\n",
       "      require([\"vega-embed\"], displayChart, err => showError(`Error loading script: ${err.message}`));\n",
       "    } else if (typeof vegaEmbed === \"function\") {\n",
       "      displayChart(vegaEmbed);\n",
       "    } else {\n",
       "      loadScript(\"vega\")\n",
       "        .then(() => loadScript(\"vega-lite\"))\n",
       "        .then(() => loadScript(\"vega-embed\"))\n",
       "        .catch(showError)\n",
       "        .then(() => displayChart(vegaEmbed));\n",
       "    }\n",
       "  })({\"config\": {\"view\": {\"continuousWidth\": 400, \"continuousHeight\": 300}}, \"layer\": [{\"mark\": {\"type\": \"point\", \"filled\": true, \"size\": 10}, \"encoding\": {\"color\": {\"type\": \"nominal\", \"field\": \"tfidf__use_idf\"}, \"tooltip\": [{\"type\": \"quantitative\", \"field\": \"mean\"}, {\"type\": \"quantitative\", \"field\": \"std\"}], \"x\": {\"type\": \"quantitative\", \"field\": \"vect__max_features\"}, \"y\": {\"type\": \"quantitative\", \"field\": \"mean\"}}, \"transform\": [{\"calculate\": \"datum.mean-2*datum.std\", \"as\": \"ymin\"}, {\"calculate\": \"datum.mean+2*datum.std\", \"as\": \"ymax\"}]}, {\"mark\": \"errorbar\", \"encoding\": {\"color\": {\"type\": \"nominal\", \"field\": \"tfidf__use_idf\"}, \"x\": {\"type\": \"quantitative\", \"field\": \"vect__max_features\"}, \"y\": {\"type\": \"quantitative\", \"field\": \"ymin\"}, \"y2\": {\"field\": \"ymax\"}}, \"transform\": [{\"calculate\": \"datum.mean-2*datum.std\", \"as\": \"ymin\"}, {\"calculate\": \"datum.mean+2*datum.std\", \"as\": \"ymax\"}]}], \"data\": {\"name\": \"data-ef0f35fabaab796d1e5e2cd143e22837\"}, \"$schema\": \"https://vega.github.io/schema/vega-lite/v4.8.1.json\", \"datasets\": {\"data-ef0f35fabaab796d1e5e2cd143e22837\": [{\"tfidf__use_idf\": true, \"vect__max_features\": 572, \"mean\": 0.3947843377063477, \"std\": 0.006715751194215521}, {\"tfidf__use_idf\": true, \"vect__max_features\": 947, \"mean\": 0.4375809645266867, \"std\": 0.007570860112937242}, {\"tfidf__use_idf\": true, \"vect__max_features\": 5017, \"mean\": 0.5055708675296522, \"std\": 0.006120072528681823}, {\"tfidf__use_idf\": true, \"vect__max_features\": 10092, \"mean\": 0.4945674808632611, \"std\": 0.0060586319810523705}, {\"tfidf__use_idf\": false, \"vect__max_features\": 467, \"mean\": 0.39385494675462385, \"std\": 0.007124583064307968}, {\"tfidf__use_idf\": false, \"vect__max_features\": 1095, \"mean\": 0.43565025227450543, \"std\": 0.00761988432831158}, {\"tfidf__use_idf\": false, \"vect__max_features\": 5003, \"mean\": 0.4979642090501418, \"std\": 0.0064957990891361455}, {\"tfidf__use_idf\": false, \"vect__max_features\": 9909, \"mean\": 0.4817052868918026, \"std\": 0.007107890709286922}]}}, {\"mode\": \"vega-lite\"});\n",
       "</script>"
      ],
      "text/plain": [
       "alt.LayerChart(...)"
      ]
     },
     "execution_count": 260,
     "metadata": {},
     "output_type": "execute_result"
    }
   ],
   "source": [
    "descrete = 'tfidf__use_idf'\n",
    "continuous = 'vect__max_features'\n",
    "result_values = GridSearchResultToDF(search)\n",
    "PlotComparison(result_values, descrete, continuous)"
   ]
  },
  {
   "cell_type": "code",
   "execution_count": 261,
   "metadata": {
    "ExecuteTime": {
     "end_time": "2020-12-13T17:53:34.243538Z",
     "start_time": "2020-12-13T17:53:34.211537Z"
    }
   },
   "outputs": [
    {
     "data": {
      "text/html": [
       "<div>\n",
       "<style scoped>\n",
       "    .dataframe tbody tr th:only-of-type {\n",
       "        vertical-align: middle;\n",
       "    }\n",
       "\n",
       "    .dataframe tbody tr th {\n",
       "        vertical-align: top;\n",
       "    }\n",
       "\n",
       "    .dataframe thead th {\n",
       "        text-align: right;\n",
       "    }\n",
       "</style>\n",
       "<table border=\"1\" class=\"dataframe\">\n",
       "  <thead>\n",
       "    <tr style=\"text-align: right;\">\n",
       "      <th></th>\n",
       "      <th>mean</th>\n",
       "    </tr>\n",
       "    <tr>\n",
       "      <th>tfidf__use_idf</th>\n",
       "      <th></th>\n",
       "    </tr>\n",
       "  </thead>\n",
       "  <tbody>\n",
       "    <tr>\n",
       "      <th>False</th>\n",
       "      <td>0.452294</td>\n",
       "    </tr>\n",
       "    <tr>\n",
       "      <th>True</th>\n",
       "      <td>0.458126</td>\n",
       "    </tr>\n",
       "  </tbody>\n",
       "</table>\n",
       "</div>"
      ],
      "text/plain": [
       "                    mean\n",
       "tfidf__use_idf          \n",
       "False           0.452294\n",
       "True            0.458126"
      ]
     },
     "execution_count": 261,
     "metadata": {},
     "output_type": "execute_result"
    }
   ],
   "source": [
    "result_values.groupby(['tfidf__use_idf'])['mean'].agg(['mean'])"
   ]
  },
  {
   "cell_type": "code",
   "execution_count": 262,
   "metadata": {
    "ExecuteTime": {
     "end_time": "2020-12-13T17:53:45.470242Z",
     "start_time": "2020-12-13T17:53:34.243538Z"
    }
   },
   "outputs": [
    {
     "data": {
      "text/plain": [
       "0.5291745494374192"
      ]
     },
     "execution_count": 262,
     "metadata": {},
     "output_type": "execute_result"
    }
   ],
   "source": [
    "text_clf = search.best_estimator_.fit(train['text'], train.category)\n",
    "predicted_test = text_clf.predict(test['text'])\n",
    "np.mean(predicted_test == test.category)"
   ]
  },
  {
   "cell_type": "code",
   "execution_count": 263,
   "metadata": {
    "ExecuteTime": {
     "end_time": "2020-12-13T17:53:46.646264Z",
     "start_time": "2020-12-13T17:53:45.470242Z"
    }
   },
   "outputs": [],
   "source": [
    "if not os.path.exists(filename) or rewrite:\n",
    "    test_copy = test.copy()\n",
    "    test_copy['pred'] = predicted_test\n",
    "    model_dict = {\n",
    "        'model_name': model_name,\n",
    "        'model_description': model_description,\n",
    "        'model_CV': search,\n",
    "        'model_results': test_copy\n",
    "    }\n",
    "    dump(model_dict,filename)"
   ]
  },
  {
   "cell_type": "code",
   "execution_count": 264,
   "metadata": {
    "ExecuteTime": {
     "end_time": "2020-12-13T17:53:58.455354Z",
     "start_time": "2020-12-13T17:53:46.646264Z"
    }
   },
   "outputs": [
    {
     "data": {
      "image/png": "[encoded data removed]",
      "text/plain": [
       "<Figure size 1080x1080 with 2 Axes>"
      ]
     },
     "metadata": {
      "needs_background": "light"
     },
     "output_type": "display_data"
    }
   ],
   "source": [
    "fig, ax = plt.subplots(figsize=(15, 15))\n",
    "disp = plot_confusion_matrix(text_clf, test['text'], test.category,\n",
    "                             cmap=plt.cm.Blues,\n",
    "                             normalize=None,\n",
    "                             ax = ax)"
   ]
  },
  {
   "cell_type": "code",
   "execution_count": 265,
   "metadata": {
    "ExecuteTime": {
     "end_time": "2020-12-13T17:53:59.519497Z",
     "start_time": "2020-12-13T17:53:58.455354Z"
    }
   },
   "outputs": [
    {
     "name": "stdout",
     "output_type": "stream",
     "text": [
      "                precision    recall  f1-score   support\n",
      "\n",
      "          ARTS       0.50      0.05      0.10       146\n",
      "ARTS & CULTURE       0.67      0.01      0.03       149\n",
      "  BLACK VOICES       0.52      0.14      0.22       451\n",
      "      BUSINESS       0.48      0.33      0.39       557\n",
      "       COLLEGE       0.75      0.03      0.05       115\n",
      "        COMEDY       0.69      0.28      0.40       523\n",
      "         CRIME       0.59      0.53      0.55       327\n",
      "CULTURE & ARTS       1.00      0.11      0.20       115\n",
      "       DIVORCE       0.82      0.51      0.63       350\n",
      "     EDUCATION       1.00      0.03      0.06        93\n",
      " ENTERTAINMENT       0.47      0.78      0.58      1602\n",
      "   ENVIRONMENT       0.86      0.09      0.16       138\n",
      "         FIFTY       0.50      0.01      0.01       146\n",
      "  FOOD & DRINK       0.56      0.75      0.64       610\n",
      "     GOOD NEWS       0.75      0.05      0.09       131\n",
      "         GREEN       0.44      0.17      0.24       274\n",
      "HEALTHY LIVING       0.58      0.04      0.08       679\n",
      " HOME & LIVING       0.80      0.55      0.66       415\n",
      "        IMPACT       0.37      0.09      0.14       323\n",
      " LATINO VOICES       1.00      0.01      0.02        97\n",
      "         MEDIA       0.73      0.13      0.21       262\n",
      "         MONEY       0.73      0.12      0.20       188\n",
      "     PARENTING       0.43      0.56      0.49       859\n",
      "       PARENTS       0.46      0.04      0.08       375\n",
      "      POLITICS       0.52      0.92      0.66      3255\n",
      "  QUEER VOICES       0.76      0.50      0.60       656\n",
      "      RELIGION       0.65      0.19      0.29       252\n",
      "       SCIENCE       0.73      0.17      0.28       219\n",
      "        SPORTS       0.72      0.50      0.59       511\n",
      "         STYLE       0.67      0.01      0.02       223\n",
      "STYLE & BEAUTY       0.66      0.76      0.71       989\n",
      "         TASTE       1.00      0.01      0.02       228\n",
      "          TECH       0.75      0.14      0.23       217\n",
      " THE WORLDPOST       0.51      0.40      0.45       347\n",
      "        TRAVEL       0.59      0.77      0.67      1018\n",
      "      WEDDINGS       0.89      0.56      0.69       389\n",
      "    WEIRD NEWS       0.64      0.12      0.20       268\n",
      "      WELLNESS       0.42      0.89      0.57      1748\n",
      "         WOMEN       0.63      0.12      0.20       340\n",
      "    WORLD NEWS       0.63      0.08      0.14       218\n",
      "     WORLDPOST       0.50      0.08      0.14       283\n",
      "\n",
      "      accuracy                           0.53     20086\n",
      "     macro avg       0.66      0.28      0.31     20086\n",
      "  weighted avg       0.58      0.53      0.47     20086\n",
      "\n"
     ]
    }
   ],
   "source": [
    "print(classification_report(test.category, predicted_test))"
   ]
  },
  {
   "cell_type": "markdown",
   "metadata": {},
   "source": [
    "## Limiting Number of Categories NB"
   ]
  },
  {
   "cell_type": "code",
   "execution_count": 266,
   "metadata": {
    "ExecuteTime": {
     "end_time": "2020-12-13T17:53:59.535499Z",
     "start_time": "2020-12-13T17:53:59.519497Z"
    }
   },
   "outputs": [],
   "source": [
    "model_name = 'headlines_description_7_categories_NB'\n",
    "model_description = 'Naive Bayes Model on headlines and short description and only taking 7 classes'\n",
    "filename = f\"./Data/model_{model_name}.joblib\""
   ]
  },
  {
   "cell_type": "markdown",
   "metadata": {},
   "source": [
    "Only keep the first 7 categories which more than 50%. Initially, combine categories \"PARENTS\" and \"PARENTING\""
   ]
  },
  {
   "cell_type": "code",
   "execution_count": 267,
   "metadata": {
    "ExecuteTime": {
     "end_time": "2020-12-13T17:53:59.791512Z",
     "start_time": "2020-12-13T17:53:59.535499Z"
    }
   },
   "outputs": [],
   "source": [
    "df_liquid_text2 = pd.read_pickle('./Data/clean_liquidtext_headline_short_description.pkl')\n",
    "df_liquid_text2.loc[df_liquid_text2['category']=='PARENTS','category'] = 'PARENTING'"
   ]
  },
  {
   "cell_type": "markdown",
   "metadata": {},
   "source": [
    "Combine the rest of categories in one called \"OTHER\""
   ]
  },
  {
   "cell_type": "code",
   "execution_count": null,
   "metadata": {},
   "outputs": [],
   "source": []
  },
  {
   "cell_type": "code",
   "execution_count": 268,
   "metadata": {
    "ExecuteTime": {
     "end_time": "2020-12-13T17:54:05.728074Z",
     "start_time": "2020-12-13T17:53:59.791512Z"
    }
   },
   "outputs": [],
   "source": [
    "to_other = ['QUEER VOICES','FOOD & DRINK','BUSINESS','COMEDY','SPORTS','BLACK VOICES','HOME & LIVING',\n",
    " 'THE WORLDPOST','WEDDINGS','WOMEN','IMPACT','DIVORCE','CRIME','MEDIA','WEIRD NEWS','GREEN',\n",
    " 'WORLDPOST','RELIGION','STYLE','SCIENCE','WORLD NEWS','TASTE','TECH','MONEY','ARTS','FIFTY',\n",
    " 'GOOD NEWS','ARTS & CULTURE','ENVIRONMENT','COLLEGE','LATINO VOICES','CULTURE & ARTS','EDUCATION']\n",
    "df_liquid_text2['category'] = df_liquid_text2.apply(lambda x: 'OTHER' if x['category'] in to_other else x['category'], axis = 1)"
   ]
  },
  {
   "cell_type": "code",
   "execution_count": 269,
   "metadata": {
    "ExecuteTime": {
     "end_time": "2020-12-13T17:54:06.160111Z",
     "start_time": "2020-12-13T17:54:05.728074Z"
    }
   },
   "outputs": [
    {
     "data": {
      "text/plain": [
       "<AxesSubplot:>"
      ]
     },
     "execution_count": 269,
     "metadata": {},
     "output_type": "execute_result"
    },
    {
     "data": {
      "image/png": "[encoded data removed]",
      "text/plain": [
       "<Figure size 432x288 with 1 Axes>"
      ]
     },
     "metadata": {
      "needs_background": "light"
     },
     "output_type": "display_data"
    }
   ],
   "source": [
    "df_liquid_text2.category.value_counts().plot.bar()"
   ]
  },
  {
   "cell_type": "code",
   "execution_count": 270,
   "metadata": {
    "ExecuteTime": {
     "end_time": "2020-12-13T17:54:06.264091Z",
     "start_time": "2020-12-13T17:54:06.160111Z"
    }
   },
   "outputs": [
    {
     "name": "stdout",
     "output_type": "stream",
     "text": [
      "(180762, 3)\n",
      "(20086, 3)\n"
     ]
    }
   ],
   "source": [
    "train = df_liquid_text2[df_liquid_text2.id.isin(train_idx)]\n",
    "test = df_liquid_text2[df_liquid_text2.id.isin(test_idx)]\n",
    "print(train.shape)\n",
    "print(test.shape)"
   ]
  },
  {
   "cell_type": "code",
   "execution_count": 271,
   "metadata": {
    "ExecuteTime": {
     "end_time": "2020-12-13T17:54:07.024108Z",
     "start_time": "2020-12-13T17:54:06.264091Z"
    }
   },
   "outputs": [
    {
     "name": "stdout",
     "output_type": "stream",
     "text": [
      "Best parameter (CV score=0.651):\n",
      "{'tfidf__use_idf': True, 'vect__max_features': 10000}\n"
     ]
    }
   ],
   "source": [
    "if os.path.exists(filename):\n",
    "    model_data = load(filename)\n",
    "    search = model_data['model_CV']\n",
    "else:\n",
    "    search = GridSearchCV(text_clf_CV, param_grid, n_jobs=2)\n",
    "    search.fit(train.text, train.category)\n",
    "print(\"Best parameter (CV score=%0.3f):\" % search.best_score_)\n",
    "print(search.best_params_)"
   ]
  },
  {
   "cell_type": "code",
   "execution_count": 272,
   "metadata": {
    "ExecuteTime": {
     "end_time": "2020-12-13T17:54:07.160113Z",
     "start_time": "2020-12-13T17:54:07.024108Z"
    },
    "scrolled": true
   },
   "outputs": [
    {
     "data": {
      "text/html": [
       "\n",
       "<div id=\"altair-viz-024e4d4ce70f40b585d7a51f2d2faaea\"></div>\n",
       "<script type=\"text/javascript\">\n",
       "  (function(spec, embedOpt){\n",
       "    let outputDiv = document.currentScript.previousElementSibling;\n",
       "    if (outputDiv.id !== \"altair-viz-024e4d4ce70f40b585d7a51f2d2faaea\") {\n",
       "      outputDiv = document.getElementById(\"altair-viz-024e4d4ce70f40b585d7a51f2d2faaea\");\n",
       "    }\n",
       "    const paths = {\n",
       "      \"vega\": \"https://cdn.jsdelivr.net/npm//vega@5?noext\",\n",
       "      \"vega-lib\": \"https://cdn.jsdelivr.net/npm//vega-lib?noext\",\n",
       "      \"vega-lite\": \"https://cdn.jsdelivr.net/npm//vega-lite@4.8.1?noext\",\n",
       "      \"vega-embed\": \"https://cdn.jsdelivr.net/npm//vega-embed@6?noext\",\n",
       "    };\n",
       "\n",
       "    function loadScript(lib) {\n",
       "      return new Promise(function(resolve, reject) {\n",
       "        var s = document.createElement('script');\n",
       "        s.src = paths[lib];\n",
       "        s.async = true;\n",
       "        s.onload = () => resolve(paths[lib]);\n",
       "        s.onerror = () => reject(`Error loading script: ${paths[lib]}`);\n",
       "        document.getElementsByTagName(\"head\")[0].appendChild(s);\n",
       "      });\n",
       "    }\n",
       "\n",
       "    function showError(err) {\n",
       "      outputDiv.innerHTML = `<div class=\"error\" style=\"color:red;\">${err}</div>`;\n",
       "      throw err;\n",
       "    }\n",
       "\n",
       "    function displayChart(vegaEmbed) {\n",
       "      vegaEmbed(outputDiv, spec, embedOpt)\n",
       "        .catch(err => showError(`Javascript Error: ${err.message}<br>This usually means there's a typo in your chart specification. See the javascript console for the full traceback.`));\n",
       "    }\n",
       "\n",
       "    if(typeof define === \"function\" && define.amd) {\n",
       "      requirejs.config({paths});\n",
       "      require([\"vega-embed\"], displayChart, err => showError(`Error loading script: ${err.message}`));\n",
       "    } else if (typeof vegaEmbed === \"function\") {\n",
       "      displayChart(vegaEmbed);\n",
       "    } else {\n",
       "      loadScript(\"vega\")\n",
       "        .then(() => loadScript(\"vega-lite\"))\n",
       "        .then(() => loadScript(\"vega-embed\"))\n",
       "        .catch(showError)\n",
       "        .then(() => displayChart(vegaEmbed));\n",
       "    }\n",
       "  })({\"config\": {\"view\": {\"continuousWidth\": 400, \"continuousHeight\": 300}}, \"layer\": [{\"mark\": {\"type\": \"point\", \"filled\": true, \"size\": 10}, \"encoding\": {\"color\": {\"type\": \"nominal\", \"field\": \"tfidf__use_idf\"}, \"tooltip\": [{\"type\": \"quantitative\", \"field\": \"mean\"}, {\"type\": \"quantitative\", \"field\": \"std\"}], \"x\": {\"type\": \"quantitative\", \"field\": \"vect__max_features\"}, \"y\": {\"type\": \"quantitative\", \"field\": \"mean\"}}, \"transform\": [{\"calculate\": \"datum.mean-2*datum.std\", \"as\": \"ymin\"}, {\"calculate\": \"datum.mean+2*datum.std\", \"as\": \"ymax\"}]}, {\"mark\": \"errorbar\", \"encoding\": {\"color\": {\"type\": \"nominal\", \"field\": \"tfidf__use_idf\"}, \"x\": {\"type\": \"quantitative\", \"field\": \"vect__max_features\"}, \"y\": {\"type\": \"quantitative\", \"field\": \"ymin\"}, \"y2\": {\"field\": \"ymax\"}}, \"transform\": [{\"calculate\": \"datum.mean-2*datum.std\", \"as\": \"ymin\"}, {\"calculate\": \"datum.mean+2*datum.std\", \"as\": \"ymax\"}]}], \"data\": {\"name\": \"data-63f11adb336d6408dd3b8de86c00628f\"}, \"$schema\": \"https://vega.github.io/schema/vega-lite/v4.8.1.json\", \"datasets\": {\"data-63f11adb336d6408dd3b8de86c00628f\": [{\"tfidf__use_idf\": true, \"vect__max_features\": 572, \"mean\": 0.570153234262486, \"std\": 0.022534830980716108}, {\"tfidf__use_idf\": true, \"vect__max_features\": 947, \"mean\": 0.591595788495878, \"std\": 0.02213404299219626}, {\"tfidf__use_idf\": true, \"vect__max_features\": 5017, \"mean\": 0.6457443585741152, \"std\": 0.0249005139782398}, {\"tfidf__use_idf\": true, \"vect__max_features\": 10092, \"mean\": 0.6509833135411867, \"std\": 0.02587265454784518}, {\"tfidf__use_idf\": false, \"vect__max_features\": 467, \"mean\": 0.568305498391199, \"std\": 0.024201294926615328}, {\"tfidf__use_idf\": false, \"vect__max_features\": 1095, \"mean\": 0.5890510159524806, \"std\": 0.02384789208619265}, {\"tfidf__use_idf\": false, \"vect__max_features\": 5003, \"mean\": 0.6407820630555491, \"std\": 0.02744505310177423}, {\"tfidf__use_idf\": false, \"vect__max_features\": 9909, \"mean\": 0.6415897667817287, \"std\": 0.027191108897608826}]}}, {\"mode\": \"vega-lite\"});\n",
       "</script>"
      ],
      "text/plain": [
       "alt.LayerChart(...)"
      ]
     },
     "execution_count": 272,
     "metadata": {},
     "output_type": "execute_result"
    }
   ],
   "source": [
    "descrete = 'tfidf__use_idf'\n",
    "continuous = 'vect__max_features'\n",
    "result_values = GridSearchResultToDF(search)    \n",
    "PlotComparison(result_values, descrete, continuous)"
   ]
  },
  {
   "cell_type": "code",
   "execution_count": 273,
   "metadata": {
    "ExecuteTime": {
     "end_time": "2020-12-13T17:54:18.195948Z",
     "start_time": "2020-12-13T17:54:07.160113Z"
    }
   },
   "outputs": [
    {
     "data": {
      "text/plain": [
       "0.6824653987852235"
      ]
     },
     "execution_count": 273,
     "metadata": {},
     "output_type": "execute_result"
    }
   ],
   "source": [
    "text_clf = search.best_estimator_.fit(train['text'], train.category)\n",
    "predicted_test = text_clf.predict(test['text'])\n",
    "np.mean(predicted_test == test.category)"
   ]
  },
  {
   "cell_type": "code",
   "execution_count": 274,
   "metadata": {
    "ExecuteTime": {
     "end_time": "2020-12-13T17:54:18.323958Z",
     "start_time": "2020-12-13T17:54:18.195948Z"
    }
   },
   "outputs": [
    {
     "data": {
      "text/plain": [
       "{'mass': 5551,\n",
       " 'shoot': 8058,\n",
       " 'texa': 8937,\n",
       " 'last': 5101,\n",
       " 'week': 9737,\n",
       " 'tv': 9258,\n",
       " 'left': 5163,\n",
       " 'husband': 4412,\n",
       " 'kill': 4979,\n",
       " 'children': 1703,\n",
       " 'anoth': 540,\n",
       " 'day': 2377,\n",
       " 'america': 479,\n",
       " 'smith': 8233,\n",
       " 'join': 4847,\n",
       " 'nicki': 6107,\n",
       " 'jam': 4769,\n",
       " '2018': 92,\n",
       " 'world': 9887,\n",
       " 'cup': 2283,\n",
       " 'offici': 6271,\n",
       " 'song': 8319,\n",
       " 'cours': 2163,\n",
       " 'hugh': 4386,\n",
       " 'grant': 3938,\n",
       " 'marri': 5528,\n",
       " 'first': 3461,\n",
       " 'time': 9039,\n",
       " 'age': 356,\n",
       " '57': 155,\n",
       " 'actor': 286,\n",
       " 'longtim': 5338,\n",
       " 'girlfriend': 3823,\n",
       " 'anna': 532,\n",
       " 'tie': 9025,\n",
       " 'knot': 5014,\n",
       " 'civil': 1775,\n",
       " 'ceremoni': 1602,\n",
       " 'jim': 4828,\n",
       " 'carrey': 1520,\n",
       " 'blast': 1090,\n",
       " 'adam': 293,\n",
       " 'schiff': 7824,\n",
       " 'democrat': 2494,\n",
       " 'new': 6081,\n",
       " 'artwork': 663,\n",
       " 'give': 3827,\n",
       " 'dem': 2486,\n",
       " 'ass': 681,\n",
       " 'kick': 4972,\n",
       " 'fight': 3428,\n",
       " 'hard': 4110,\n",
       " 'enough': 3081,\n",
       " 'donald': 2762,\n",
       " 'trump': 9220,\n",
       " 'morgan': 5882,\n",
       " 'freeman': 3639,\n",
       " 'devast': 2568,\n",
       " 'sexual': 7982,\n",
       " 'harass': 4108,\n",
       " 'claim': 1779,\n",
       " 'could': 2145,\n",
       " 'undermin': 9344,\n",
       " 'legaci': 5166,\n",
       " 'right': 7539,\n",
       " 'equat': 3123,\n",
       " 'horrif': 4341,\n",
       " 'incid': 4520,\n",
       " 'assault': 686,\n",
       " 'compliment': 1971,\n",
       " 'humor': 4399,\n",
       " 'said': 7716,\n",
       " 'statement': 8497,\n",
       " 'watch': 9699,\n",
       " 'amazon': 466,\n",
       " 'prime': 6969,\n",
       " 'great': 3956,\n",
       " 'mini': 5772,\n",
       " 'seri': 7955,\n",
       " 'mike': 5741,\n",
       " 'myer': 5968,\n",
       " 'reveal': 7480,\n",
       " 'like': 5252,\n",
       " 'fourth': 3601,\n",
       " 'austin': 745,\n",
       " 'power': 6892,\n",
       " 'film': 3437,\n",
       " 'kid': 4974,\n",
       " 'may': 5580,\n",
       " 'push': 7107,\n",
       " 'anyon': 563,\n",
       " 'hulu': 4389,\n",
       " 're': 7225,\n",
       " 'get': 3799,\n",
       " 'recent': 7261,\n",
       " 'academi': 248,\n",
       " 'award': 783,\n",
       " 'win': 9825,\n",
       " 'movi': 5917,\n",
       " 'justin': 4907,\n",
       " 'timberlak': 9038,\n",
       " 'visit': 9605,\n",
       " 'school': 7830,\n",
       " 'victim': 9563,\n",
       " 'pop': 6845,\n",
       " 'star': 8483,\n",
       " 'also': 446,\n",
       " 'wore': 9879,\n",
       " 'santa': 7762,\n",
       " 'fe': 3367,\n",
       " 'strong': 8608,\n",
       " 'shirt': 8049,\n",
       " 'show': 8073,\n",
       " 'houston': 4364,\n",
       " 'south': 8340,\n",
       " 'korean': 5025,\n",
       " 'presid': 6942,\n",
       " 'meet': 5637,\n",
       " 'north': 6164,\n",
       " 'korea': 5024,\n",
       " 'kim': 4981,\n",
       " 'jong': 4858,\n",
       " 'un': 9307,\n",
       " 'talk': 8832,\n",
       " 'summit': 8681,\n",
       " 'two': 9276,\n",
       " 'met': 5691,\n",
       " 'pave': 6567,\n",
       " 'way': 9711,\n",
       " 'crackdown': 2186,\n",
       " 'immigr': 4471,\n",
       " 'parent': 6506,\n",
       " 'put': 7109,\n",
       " 'alreadi': 444,\n",
       " 'strain': 8572,\n",
       " 'system': 8801,\n",
       " 'month': 5871,\n",
       " 'health': 4173,\n",
       " 'human': 4392,\n",
       " 'servic': 7962,\n",
       " 'govern': 3906,\n",
       " 'unabl': 9308,\n",
       " 'locat': 5314,\n",
       " 'near': 6032,\n",
       " '500': 146,\n",
       " 'releas': 7359,\n",
       " 'custodi': 2303,\n",
       " 'son': 8318,\n",
       " 'concern': 1990,\n",
       " 'fbi': 3364,\n",
       " 'obtain': 6247,\n",
       " 'wiretap': 9841,\n",
       " 'putin': 7110,\n",
       " 'alli': 430,\n",
       " 'jr': 4872,\n",
       " 'featur': 3373,\n",
       " 'convers': 2089,\n",
       " 'alexand': 409,\n",
       " 'convict': 2092,\n",
       " 'russian': 7686,\n",
       " 'money': 5856,\n",
       " 'launder': 5117,\n",
       " 'edward': 2955,\n",
       " 'snowden': 8264,\n",
       " 'one': 6300,\n",
       " 'love': 5369,\n",
       " 'vladimir': 9613,\n",
       " 'count': 2150,\n",
       " 'robert': 7582,\n",
       " 'mueller': 5928,\n",
       " 'nail': 5983,\n",
       " 'nsa': 6195,\n",
       " 'whistleblow': 9783,\n",
       " 'warn': 9689,\n",
       " 'obama': 6230,\n",
       " 'photograph': 6695,\n",
       " 'hilari': 4259,\n",
       " 'troll': 9205,\n",
       " 'spi': 8392,\n",
       " 'peep': 6593,\n",
       " 'minut': 5784,\n",
       " 'ireland': 4710,\n",
       " 'vote': 9635,\n",
       " 'repeal': 7402,\n",
       " 'abort': 230,\n",
       " 'amend': 478,\n",
       " 'landslid': 5078,\n",
       " 'referendum': 7310,\n",
       " 'irish': 4711,\n",
       " 'women': 9869,\n",
       " 'longer': 5333,\n",
       " 'travel': 9162,\n",
       " 'unit': 9385,\n",
       " 'kingdom': 4990,\n",
       " 'end': 3060,\n",
       " 'pregnanc': 6921,\n",
       " 'ryan': 7694,\n",
       " 'zink': 9990,\n",
       " 'look': 5339,\n",
       " 'reel': 7303,\n",
       " 'back': 801,\n",
       " 'critic': 2234,\n",
       " 'grand': 3928,\n",
       " 'pivot': 6750,\n",
       " 'conserv': 2044,\n",
       " 'interior': 4656,\n",
       " 'secretari': 7895,\n",
       " 'attempt': 721,\n",
       " 'damag': 2337,\n",
       " 'control': 2082,\n",
       " 'hunt': 4406,\n",
       " 'fish': 3465,\n",
       " 'group': 3995,\n",
       " 'fossil': 3591,\n",
       " 'fuel': 3676,\n",
       " 'focus': 3532,\n",
       " 'scottish': 7855,\n",
       " 'golf': 3874,\n",
       " 'resort': 7440,\n",
       " 'pay': 6569,\n",
       " 'signific': 8105,\n",
       " 'less': 5200,\n",
       " 'men': 5659,\n",
       " 'report': 7410,\n",
       " 'four': 3599,\n",
       " 'mani': 5477,\n",
       " 'male': 5454,\n",
       " 'femal': 3391,\n",
       " 'execut': 3225,\n",
       " 'weird': 9745,\n",
       " 'father': 3354,\n",
       " 'gift': 3808,\n",
       " 'dad': 2327,\n",
       " 'know': 5015,\n",
       " 'want': 9678,\n",
       " 'buy': 1404,\n",
       " 'bore': 1178,\n",
       " 'toy': 9118,\n",
       " 'twitter': 9274,\n",
       " 'univers': 9387,\n",
       " 'entertain': 3092,\n",
       " 'thing': 8977,\n",
       " 'much': 5926,\n",
       " 'war': 9679,\n",
       " 'still': 8543,\n",
       " 'open': 6312,\n",
       " 'cancel': 1462,\n",
       " 'announc': 535,\n",
       " 'came': 1447,\n",
       " 'repeat': 7403,\n",
       " 'threat': 8996,\n",
       " 'pull': 7085,\n",
       " 'saw': 7792,\n",
       " 'confront': 2018,\n",
       " 'remark': 7375,\n",
       " 'bomb': 1151,\n",
       " 'insid': 4614,\n",
       " 'indian': 4542,\n",
       " 'restaur': 7449,\n",
       " 'toronto': 9093,\n",
       " 'author': 751,\n",
       " 'say': 7793,\n",
       " 'fifteen': 3424,\n",
       " 'peopl': 6613,\n",
       " 'taken': 8825,\n",
       " 'hospit': 4346,\n",
       " 'three': 8998,\n",
       " 'injuri': 4598,\n",
       " 'thousand': 8994,\n",
       " 'home': 4305,\n",
       " 'access': 252,\n",
       " 'tri': 9182,\n",
       " 'read': 7230,\n",
       " 'tweet': 9262,\n",
       " 'without': 9855,\n",
       " 'cri': 2224,\n",
       " 'voter': 9636,\n",
       " 'set': 7965,\n",
       " 'liber': 5226,\n",
       " 'law': 5128,\n",
       " 'exit': 3236,\n",
       " 'poll': 6829,\n",
       " 'signal': 8103,\n",
       " 'begin': 952,\n",
       " 'saturday': 7779,\n",
       " 'warrior': 9694,\n",
       " 'coach': 1851,\n",
       " 'steve': 8530,\n",
       " 'kerr': 4959,\n",
       " 'call': 1438,\n",
       " 'nfl': 6099,\n",
       " 'ban': 849,\n",
       " 'protest': 7047,\n",
       " 'fake': 3312,\n",
       " 'patriot': 6557,\n",
       " 'forbid': 3559,\n",
       " 'player': 6773,\n",
       " 'take': 8821,\n",
       " 'knee': 5003,\n",
       " 'nation': 6014,\n",
       " 'anthem': 546,\n",
       " 'idiot': 4441,\n",
       " 'histor': 4274,\n",
       " 'victori': 9565,\n",
       " 'elect': 2982,\n",
       " 'minist': 5777,\n",
       " 'mia': 5709,\n",
       " 'even': 3185,\n",
       " 'earn': 2913,\n",
       " 'countri': 2156,\n",
       " 'recogniz': 7273,\n",
       " 'rihanna': 7542,\n",
       " 'polic': 6819,\n",
       " 'least': 5154,\n",
       " 'black': 1076,\n",
       " 'american': 480,\n",
       " 'moment': 5847,\n",
       " 'colin': 1884,\n",
       " 'kaepernick': 4910,\n",
       " 'deserv': 2541,\n",
       " 'statist': 8500,\n",
       " 'jack': 4754,\n",
       " 'johnson': 4846,\n",
       " 'pardon': 6505,\n",
       " 'taboo': 8808,\n",
       " 'sex': 7975,\n",
       " 'crimin': 2226,\n",
       " 'traffick': 9131,\n",
       " 'target': 8855,\n",
       " 'aim': 376,\n",
       " 'protect': 7045,\n",
       " 'bet': 1006,\n",
       " 'chairman': 1614,\n",
       " 'ceo': 1599,\n",
       " 'debra': 2406,\n",
       " 'lee': 5162,\n",
       " 'step': 8521,\n",
       " 'brought': 1316,\n",
       " 'origin': 6347,\n",
       " 'network': 6071,\n",
       " 'famili': 3322,\n",
       " 'program': 7011,\n",
       " 'rachel': 7155,\n",
       " 'face': 3292,\n",
       " 'feloni': 3388,\n",
       " 'charg': 1643,\n",
       " 'welfar': 9749,\n",
       " 'fraud': 3625,\n",
       " 'state': 8495,\n",
       " 'prosecutor': 7038,\n",
       " 'almost': 437,\n",
       " '84': 191,\n",
       " '000': 1,\n",
       " 'deposit': 2522,\n",
       " 'bank': 857,\n",
       " 'account': 262,\n",
       " 'receiv': 7260,\n",
       " 'public': 7077,\n",
       " 'assist': 692,\n",
       " 'chines': 1713,\n",
       " 'exclus': 3220,\n",
       " 'act': 282,\n",
       " 'help': 4215,\n",
       " 'us': 9458,\n",
       " 'understand': 9350,\n",
       " 'polit': 6824,\n",
       " 'today': 9058,\n",
       " 'bare': 873,\n",
       " 'mention': 5666,\n",
       " 'histori': 4275,\n",
       " 'class': 1789,\n",
       " 'pbs': 6574,\n",
       " 'documentari': 2739,\n",
       " 'director': 2633,\n",
       " 'burn': 1381,\n",
       " 'li': 5222,\n",
       " 'chang': 1627,\n",
       " 'them': 8955,\n",
       " 'swimwear': 8777,\n",
       " 'sink': 8139,\n",
       " 'swimsuit': 8776,\n",
       " 'make': 5443,\n",
       " 'racist': 7159,\n",
       " 'seth': 7967,\n",
       " 'meyer': 5707,\n",
       " 'funni': 3694,\n",
       " 'regret': 7332,\n",
       " 'goe': 3869,\n",
       " 'appreci': 598,\n",
       " 'colbert': 1879,\n",
       " 'turn': 9252,\n",
       " 'nyc': 6219,\n",
       " 'subway': 8654,\n",
       " 'ride': 7530,\n",
       " 'terribl': 8926,\n",
       " 'punish': 7092,\n",
       " 'late': 5102,\n",
       " 'host': 4347,\n",
       " 'michael': 5713,\n",
       " 'cohen': 1873,\n",
       " 'taxi': 8870,\n",
       " 'king': 4989,\n",
       " 'busi': 1390,\n",
       " 'partner': 6526,\n",
       " 'man': 5465,\n",
       " 'knife': 5007,\n",
       " 'stun': 8626,\n",
       " 'gun': 4026,\n",
       " 'muslim': 5958,\n",
       " 'student': 8619,\n",
       " 'mcdonald': 5597,\n",
       " 'thought': 8993,\n",
       " 'go': 3864,\n",
       " 'die': 2599,\n",
       " 'jimmi': 4829,\n",
       " 'kimmel': 4983,\n",
       " 'iran': 4706,\n",
       " 'suprem': 8714,\n",
       " 'leader': 5143,\n",
       " 'tom': 9068,\n",
       " 'jerri': 4810,\n",
       " 'reimagin': 7343,\n",
       " 'cartoon': 1528,\n",
       " 'ali': 413,\n",
       " 'cat': 1544,\n",
       " 'mous': 5913,\n",
       " 'defianc': 2454,\n",
       " 'injur': 4597,\n",
       " 'indiana': 4543,\n",
       " 'believ': 966,\n",
       " 'suspect': 8740,\n",
       " 'detain': 2557,\n",
       " 'accord': 261,\n",
       " 'rattl': 7216,\n",
       " 'nigerian': 6118,\n",
       " 'long': 5332,\n",
       " 'lost': 5354,\n",
       " 'brother': 1314,\n",
       " 'sesam': 7963,\n",
       " 'street': 8589,\n",
       " 'creator': 2213,\n",
       " 'sue': 8664,\n",
       " 'maker': 5445,\n",
       " 'upcom': 9433,\n",
       " 'adult': 318,\n",
       " 'puppet': 7095,\n",
       " 'murder': 5947,\n",
       " 'refer': 7307,\n",
       " 'classic': 1791,\n",
       " 'miss': 5801,\n",
       " 'saddest': 7706,\n",
       " 'death': 2397,\n",
       " 'aveng': 767,\n",
       " 'infin': 4570,\n",
       " 'joe': 4839,\n",
       " 'anthoni': 547,\n",
       " 'russo': 7687,\n",
       " 'answer': 542,\n",
       " 'press': 6946,\n",
       " 'question': 7136,\n",
       " 'georg': 3792,\n",
       " 'takei': 8824,\n",
       " 'accus': 266,\n",
       " 'walk': 9660,\n",
       " 'stori': 8564,\n",
       " 'drug': 2841,\n",
       " 'trek': 9175,\n",
       " 'grope': 3990,\n",
       " 'model': 5832,\n",
       " '36': 120,\n",
       " 'year': 9944,\n",
       " 'ago': 363,\n",
       " 'samantha': 7739,\n",
       " 'bee': 945,\n",
       " 'think': 8978,\n",
       " 'basic': 896,\n",
       " 'zone': 9994,\n",
       " 'sent': 7941,\n",
       " 'vest': 9549,\n",
       " 'jame': 4771,\n",
       " 'corden': 2116,\n",
       " 'levin': 5214,\n",
       " 'carpool': 1519,\n",
       " 'karaok': 4920,\n",
       " 'bound': 1194,\n",
       " 'happen': 4101,\n",
       " 'emilia': 3031,\n",
       " 'clark': 1786,\n",
       " 'dish': 2671,\n",
       " 'final': 3442,\n",
       " 'game': 3731,\n",
       " 'throne': 9006,\n",
       " 'scene': 7818,\n",
       " 'realli': 7241,\n",
       " 'curious': 2291,\n",
       " 'farewel': 3336,\n",
       " 'season': 7886,\n",
       " 'hollywood': 4300,\n",
       " 'need': 6042,\n",
       " 'difficult': 2606,\n",
       " 'crazi': 2205,\n",
       " 'ex': 3205,\n",
       " 'old': 6284,\n",
       " 'see': 7903,\n",
       " 'norm': 6161,\n",
       " 'harvey': 4135,\n",
       " 'weinstein': 9744,\n",
       " 'never': 6079,\n",
       " 'would': 9900,\n",
       " 'arrest': 647,\n",
       " 'actress': 287,\n",
       " 'forward': 3590,\n",
       " 'mogul': 5838,\n",
       " 'respond': 7446,\n",
       " 'surpris': 8728,\n",
       " 'relief': 7365,\n",
       " 'john': 4844,\n",
       " 'mayer': 5584,\n",
       " 'low': 5371,\n",
       " 'budget': 1344,\n",
       " 'video': 9568,\n",
       " 'meme': 5653,\n",
       " 'worthi': 9898,\n",
       " 'masterpiec': 5560,\n",
       " 'strang': 8574,\n",
       " 'light': 5246,\n",
       " 'spell': 8385,\n",
       " 'name': 5987,\n",
       " 'wrong': 9918,\n",
       " 'wan': 9672,\n",
       " 'develop': 2569,\n",
       " 'suggest': 8669,\n",
       " 'plan': 6759,\n",
       " 'june': 4894,\n",
       " '12': 11,\n",
       " 'earlier': 2910,\n",
       " 'roger': 7604,\n",
       " 'stone': 8557,\n",
       " 'email': 3016,\n",
       " 'hillari': 4261,\n",
       " 'clinton': 1824,\n",
       " 'wikileak': 9810,\n",
       " 'contact': 2059,\n",
       " 'julian': 4889,\n",
       " 'assang': 684,\n",
       " 'told': 9065,\n",
       " 'ask': 673,\n",
       " 'favor': 3362,\n",
       " 'everi': 3190,\n",
       " 'suspend': 8741,\n",
       " 'contribut': 2080,\n",
       " 'nra': 6194,\n",
       " 'politician': 6826,\n",
       " 'amid': 484,\n",
       " 'away': 784,\n",
       " 'activist': 285,\n",
       " 'bot': 1185,\n",
       " 'deliv': 2480,\n",
       " 'research': 7425,\n",
       " 'paper': 6493,\n",
       " 'result': 7456,\n",
       " 'given': 3829,\n",
       " 'narrow': 6000,\n",
       " 'margin': 5509,\n",
       " 'effect': 2957,\n",
       " 'possibl': 6870,\n",
       " 'larg': 5091,\n",
       " 'affect': 337,\n",
       " 'outcom': 6372,\n",
       " 'bag': 821,\n",
       " 'wet': 9760,\n",
       " 'sock': 8283,\n",
       " 'appar': 582,\n",
       " 'live': 5296,\n",
       " 'white': 9785,\n",
       " 'hous': 4359,\n",
       " 'brief': 1275,\n",
       " 'room': 7624,\n",
       " 'former': 3582,\n",
       " 'becom': 941,\n",
       " 'spot': 8427,\n",
       " 'member': 5651,\n",
       " 'far': 3333,\n",
       " 'proud': 7050,\n",
       " 'boy': 1206,\n",
       " 'menac': 5660,\n",
       " 'user': 9466,\n",
       " 'doorstep': 2772,\n",
       " 'made': 5417,\n",
       " 'fun': 3685,\n",
       " 'extremist': 3278,\n",
       " 'onlin': 6305,\n",
       " 'blame': 1084,\n",
       " 'door': 2771,\n",
       " 'guess': 4011,\n",
       " 'list': 5284,\n",
       " 'cathol': 1557,\n",
       " 'wo': 9860,\n",
       " 'save': 7787,\n",
       " 'expand': 3239,\n",
       " 'conscienc': 2038,\n",
       " 'though': 8992,\n",
       " 'faith': 3311,\n",
       " 'bas': 889,\n",
       " 'medicin': 5630,\n",
       " 'patient': 6551,\n",
       " 'order': 6338,\n",
       " 'easier': 2920,\n",
       " 'fire': 3455,\n",
       " 'feder': 3377,\n",
       " 'worker': 9882,\n",
       " 'union': 9383,\n",
       " 'denounc': 2506,\n",
       " 'action': 283,\n",
       " 'democraci': 2493,\n",
       " 'monsanto': 5865,\n",
       " 'merg': 5676,\n",
       " 'care': 1501,\n",
       " 'togeth': 9062,\n",
       " 'influenc': 4576,\n",
       " 'market': 5523,\n",
       " 'scale': 7796,\n",
       " 'seen': 7908,\n",
       " 'joy': 4868,\n",
       " 'delici': 2478,\n",
       " 'abus': 245,\n",
       " 'held': 4207,\n",
       " '20': 72,\n",
       " 'funniest': 3695,\n",
       " 'welcom': 9748,\n",
       " 'adulthood': 319,\n",
       " 'favorit': 3363,\n",
       " 'queer': 7133,\n",
       " 'eye': 3282,\n",
       " 'bobbi': 1136,\n",
       " 'gave': 3758,\n",
       " 'desk': 2544,\n",
       " 'makeov': 5444,\n",
       " 'incred': 4532,\n",
       " 'rupaul': 7680,\n",
       " 'drag': 2803,\n",
       " 'race': 7153,\n",
       " 'teach': 8875,\n",
       " 'straight': 8569,\n",
       " 'cultur': 2279,\n",
       " 'mainstream': 5436,\n",
       " 'potenti': 6881,\n",
       " 'benefit': 980,\n",
       " 'continu': 2073,\n",
       " 'promin': 7018,\n",
       " 'freedom': 3636,\n",
       " 'fred': 3631,\n",
       " '70': 172,\n",
       " 'pound': 6886,\n",
       " 'owner': 6427,\n",
       " 'sell': 7922,\n",
       " 'product': 7004,\n",
       " 'play': 6770,\n",
       " 'hide': 4248,\n",
       " 'and': 508,\n",
       " 'seek': 7905,\n",
       " 'friend': 3655,\n",
       " 'threaten': 8997,\n",
       " 'nuclear': 6198,\n",
       " 'showdown': 8075,\n",
       " 'top': 9084,\n",
       " 'pyongyang': 7113,\n",
       " 'lambast': 5067,\n",
       " 'dummi': 2872,\n",
       " 'penc': 6600,\n",
       " 'caution': 1564,\n",
       " 'ignor': 4449,\n",
       " 'investig': 4690,\n",
       " 'find': 3446,\n",
       " 'missil': 5802,\n",
       " 'shot': 8067,\n",
       " 'flight': 3502,\n",
       " 'clear': 1802,\n",
       " 'oper': 6313,\n",
       " 'hit': 4277,\n",
       " 'plane': 6760,\n",
       " 'eastern': 2925,\n",
       " 'ukrain': 9301,\n",
       " '2014': 88,\n",
       " 'demolish': 2496,\n",
       " 'tunnel': 9244,\n",
       " 'test': 8933,\n",
       " 'site': 8150,\n",
       " 'conduct': 2005,\n",
       " 'six': 8152,\n",
       " 'bait': 830,\n",
       " 'negoti': 6050,\n",
       " 'isol': 4732,\n",
       " 'asian': 671,\n",
       " 'michell': 5716,\n",
       " 'cover': 2172,\n",
       " 'memoir': 5655,\n",
       " 'process': 6998,\n",
       " 'write': 9915,\n",
       " 'book': 1164,\n",
       " 'person': 6644,\n",
       " 'meaning': 5608,\n",
       " 'illumin': 4457,\n",
       " 'night': 6119,\n",
       " 'writer': 9916,\n",
       " 'breathless': 1252,\n",
       " 'royal': 7655,\n",
       " 'wed': 9732,\n",
       " 'recap': 7257,\n",
       " 'bite': 1070,\n",
       " 'lip': 5278,\n",
       " 'hmm': 4281,\n",
       " 'girl': 3822,\n",
       " 'inappropri': 4513,\n",
       " 'behavior': 957,\n",
       " 'eight': 2971,\n",
       " 'cnn': 1848,\n",
       " 'jet': 4817,\n",
       " 'christoph': 1741,\n",
       " 'fine': 3447,\n",
       " 'restrict': 7454,\n",
       " 'speech': 8382,\n",
       " 'andi': 510,\n",
       " 'taylor': 8872,\n",
       " 'swift': 8773,\n",
       " 'kati': 4934,\n",
       " 'perri': 6640,\n",
       " 'drama': 2807,\n",
       " 'bad': 815,\n",
       " 'blood': 1113,\n",
       " 'marvel': 5541,\n",
       " 'problemat': 6995,\n",
       " 'timelin': 9041,\n",
       " 'stephen': 8524,\n",
       " 'clarifi': 1784,\n",
       " 'acquir': 276,\n",
       " 'david': 2372,\n",
       " 'chew': 1692,\n",
       " 'glass': 3840,\n",
       " 'let': 5204,\n",
       " 'cheek': 1671,\n",
       " 'sure': 8717,\n",
       " 'gross': 3991,\n",
       " 'ami': 482,\n",
       " 'poehler': 6802,\n",
       " 'park': 6510,\n",
       " 'recreat': 7284,\n",
       " 'reviv': 7492,\n",
       " 'amaz': 465,\n",
       " 'co': 1849,\n",
       " 'nick': 6106,\n",
       " 'seem': 7907,\n",
       " 'board': 1132,\n",
       " 'condit': 2000,\n",
       " 'expos': 3261,\n",
       " 'biggest': 1036,\n",
       " 'flaw': 3489,\n",
       " 'latest': 5104,\n",
       " 'conspiraci': 2051,\n",
       " 'theori': 8959,\n",
       " 'follow': 3542,\n",
       " 'rabbit': 7152,\n",
       " 'hole': 4293,\n",
       " 'valuabl': 9490,\n",
       " 'advic': 327,\n",
       " 'stop': 8561,\n",
       " 'fetch': 3405,\n",
       " 'launch': 5116,\n",
       " 'auto': 755,\n",
       " 'import': 4496,\n",
       " 'probe': 6992,\n",
       " 'china': 1712,\n",
       " 'vow': 9637,\n",
       " 'defend': 2450,\n",
       " 'interest': 4651,\n",
       " 'lead': 5142,\n",
       " 'tariff': 8856,\n",
       " 'similar': 8114,\n",
       " 'impos': 4497,\n",
       " 'steel': 8512,\n",
       " 'aluminum': 456,\n",
       " 'march': 5502,\n",
       " 'land': 5074,\n",
       " 'dream': 2817,\n",
       " 'job': 4836,\n",
       " 'jessica': 4815,\n",
       " 'score': 7849,\n",
       " 'spotifi': 8428,\n",
       " 'roast': 7575,\n",
       " 'rush': 7683,\n",
       " 'tomi': 9072,\n",
       " 'lahren': 5060,\n",
       " 'real': 7236,\n",
       " 'splash': 8410,\n",
       " 'water': 9702,\n",
       " 'flint': 3503,\n",
       " 'entir': 3096,\n",
       " 'safe': 7708,\n",
       " 'abrupt': 236,\n",
       " 'cite': 1768,\n",
       " 'tremend': 9176,\n",
       " 'anger': 521,\n",
       " 'hostil': 4351,\n",
       " 'singapor': 8133,\n",
       " 'devin': 2573,\n",
       " 'link': 5275,\n",
       " 'wineri': 9830,\n",
       " 'suit': 8671,\n",
       " 'alleg': 423,\n",
       " 'coke': 1877,\n",
       " 'prostitut': 7043,\n",
       " 'yacht': 9933,\n",
       " 'parti': 6520,\n",
       " 'lawmak': 5129,\n",
       " '50': 145,\n",
       " 'investor': 4691,\n",
       " 'compani': 1948,\n",
       " 'involv': 4695,\n",
       " 'border': 1177,\n",
       " 'patrol': 6558,\n",
       " 'neglect': 6048,\n",
       " '16': 24,\n",
       " 'file': 3433,\n",
       " 'complaint': 1962,\n",
       " 'agent': 359,\n",
       " 'threw': 9000,\n",
       " 'smash': 8229,\n",
       " 'head': 4165,\n",
       " 'ground': 3992,\n",
       " 'boot': 1171,\n",
       " 'legal': 5167,\n",
       " 'haunt': 4146,\n",
       " 'brexit': 1264,\n",
       " 'tip': 9047,\n",
       " 'lawyer': 5133,\n",
       " 'attend': 722,\n",
       " 'doj': 2747,\n",
       " 'confidenti': 2012,\n",
       " 'inform': 4581,\n",
       " 'flood': 3508,\n",
       " 'attorney': 728,\n",
       " 'deal': 2392,\n",
       " 'russia': 7685,\n",
       " 'present': 6940,\n",
       " 'controversi': 2083,\n",
       " 'senat': 7931,\n",
       " 'advanc': 320,\n",
       " 'court': 2164,\n",
       " 'pick': 6706,\n",
       " 'parenthood': 6507,\n",
       " '150': 22,\n",
       " 'republican': 7417,\n",
       " 'judiciari': 4881,\n",
       " 'committe': 1940,\n",
       " 'wendi': 9752,\n",
       " 'rudi': 7663,\n",
       " 'giuliani': 3825,\n",
       " 'interview': 4668,\n",
       " 'mean': 5607,\n",
       " 'special': 8372,\n",
       " 'counsel': 2148,\n",
       " 'anytim': 565,\n",
       " 'soon': 8323,\n",
       " 'kentucki': 4955,\n",
       " 'run': 7673,\n",
       " 'judg': 4876,\n",
       " 'primari': 6967,\n",
       " 'danni': 2352,\n",
       " 'vy': 9644,\n",
       " 'jefferson': 4795,\n",
       " 'counti': 2154,\n",
       " 'district': 2711,\n",
       " 'louisvill': 5365,\n",
       " 'chrissi': 1734,\n",
       " 'teigen': 8894,\n",
       " 'taunt': 8867,\n",
       " 'block': 1107,\n",
       " 'rule': 7669,\n",
       " 'tweeter': 9263,\n",
       " 'includ': 4523,\n",
       " 'mexico': 5706,\n",
       " 'fox': 3602,\n",
       " 'poke': 6812,\n",
       " 'news': 6091,\n",
       " 'koch': 5022,\n",
       " 'congressmen': 2027,\n",
       " 'billionair': 1047,\n",
       " 'support': 8711,\n",
       " 'agenda': 358,\n",
       " 'ellen': 3003,\n",
       " 'tear': 8879,\n",
       " 'ashton': 669,\n",
       " 'kutcher': 5041,\n",
       " 'donat': 2763,\n",
       " 'million': 5760,\n",
       " 'wildlif': 9816,\n",
       " 'fund': 3687,\n",
       " 'got': 3900,\n",
       " 'button': 1403,\n",
       " 'transfer': 9147,\n",
       " 'ariana': 629,\n",
       " 'tattoo': 8864,\n",
       " 'honor': 4327,\n",
       " 'manchest': 5468,\n",
       " 'attack': 719,\n",
       " 'symbol': 8789,\n",
       " 'citi': 1769,\n",
       " 'incorpor': 4529,\n",
       " 'coat': 1859,\n",
       " 'arm': 635,\n",
       " 'kardashian': 4921,\n",
       " 'wish': 9847,\n",
       " 'kany': 4918,\n",
       " 'west': 9755,\n",
       " 'happi': 4102,\n",
       " 'anniversari': 534,\n",
       " 'pretti': 6952,\n",
       " 'cute': 2307,\n",
       " 'forev': 3570,\n",
       " 'mose': 5894,\n",
       " 'woodi': 9875,\n",
       " 'allen': 425,\n",
       " 'dylan': 2897,\n",
       " 'essay': 3150,\n",
       " 'beyond': 1020,\n",
       " 'hurt': 4411,\n",
       " 'easili': 2922,\n",
       " 'gwyneth': 4040,\n",
       " 'paltrow': 6471,\n",
       " 'brad': 1216,\n",
       " 'pitt': 6748,\n",
       " 'produc': 7003,\n",
       " 'then': 8957,\n",
       " 'boyfriend': 1209,\n",
       " 'horror': 4343,\n",
       " 'master': 5557,\n",
       " 'took': 9081,\n",
       " 'creepi': 2222,\n",
       " 'fan': 3327,\n",
       " 'walter': 9671,\n",
       " 'address': 298,\n",
       " 'verbal': 9532,\n",
       " 'jeffrey': 4796,\n",
       " 'griev': 3975,\n",
       " 'discuss': 2664,\n",
       " 'brush': 1327,\n",
       " '60': 159,\n",
       " 'work': 9880,\n",
       " 'anybodi': 561,\n",
       " 'yell': 9948,\n",
       " 'expect': 3242,\n",
       " 'nypd': 6223,\n",
       " 'crime': 2225,\n",
       " 'york': 9965,\n",
       " 'torch': 9089,\n",
       " 'ice': 4427,\n",
       " 'shut': 8086,\n",
       " 'serious': 7957,\n",
       " 'aw': 778,\n",
       " 'actual': 288,\n",
       " 'scott': 7854,\n",
       " 'pruitt': 7060,\n",
       " 'twice': 9268,\n",
       " 'introduc': 4676,\n",
       " 'anti': 548,\n",
       " 'bill': 1043,\n",
       " 'properti': 7030,\n",
       " 'fetus': 3407,\n",
       " 'embattl': 3021,\n",
       " 'epa': 3113,\n",
       " 'chief': 1699,\n",
       " 'mock': 5830,\n",
       " 'pot': 6878,\n",
       " 'rip': 7550,\n",
       " 'revis': 7489,\n",
       " 'polici': 6820,\n",
       " 'past': 6537,\n",
       " 'offens': 6268,\n",
       " 'sever': 7973,\n",
       " 'pervas': 6650,\n",
       " 'aclu': 273,\n",
       " 'alabama': 392,\n",
       " 'exclud': 3219,\n",
       " 'undocu': 9360,\n",
       " 'census': 1591,\n",
       " 'expert': 3249,\n",
       " 'big': 1034,\n",
       " 'cynthia': 2319,\n",
       " 'nixon': 6134,\n",
       " 'keep': 4940,\n",
       " 'predict': 6918,\n",
       " 'lose': 5351,\n",
       " 'endors': 3064,\n",
       " 'requir': 7421,\n",
       " 'number': 6204,\n",
       " 'petit': 6660,\n",
       " 'signatur': 8104,\n",
       " 'onto': 6309,\n",
       " 'ballot': 845,\n",
       " 'consid': 2046,\n",
       " ...}"
      ]
     },
     "execution_count": 274,
     "metadata": {},
     "output_type": "execute_result"
    }
   ],
   "source": [
    "wv = text_clf.named_steps['vect']\n",
    "wv.vocabulary_"
   ]
  },
  {
   "cell_type": "code",
   "execution_count": 275,
   "metadata": {
    "ExecuteTime": {
     "end_time": "2020-12-13T17:54:18.363951Z",
     "start_time": "2020-12-13T17:54:18.331951Z"
    }
   },
   "outputs": [
    {
     "data": {
      "text/plain": [
       "(array([4], dtype=int64), array([9220], dtype=int64))"
      ]
     },
     "execution_count": 275,
     "metadata": {},
     "output_type": "execute_result"
    }
   ],
   "source": [
    "nb = text_clf.named_steps['clf']\n",
    "np.where(nb.feature_log_prob_ == np.max(nb.feature_log_prob_))"
   ]
  },
  {
   "cell_type": "code",
   "execution_count": 276,
   "metadata": {
    "ExecuteTime": {
     "end_time": "2020-12-13T17:54:18.379951Z",
     "start_time": "2020-12-13T17:54:18.363951Z"
    }
   },
   "outputs": [
    {
     "data": {
      "text/plain": [
       "array(['ENTERTAINMENT', 'HEALTHY LIVING', 'OTHER', 'PARENTING',\n",
       "       'POLITICS', 'STYLE & BEAUTY', 'TRAVEL', 'WELLNESS'], dtype='<U14')"
      ]
     },
     "execution_count": 276,
     "metadata": {},
     "output_type": "execute_result"
    }
   ],
   "source": [
    "nb.classes_"
   ]
  },
  {
   "cell_type": "code",
   "execution_count": 277,
   "metadata": {
    "ExecuteTime": {
     "end_time": "2020-12-13T17:54:18.427954Z",
     "start_time": "2020-12-13T17:54:18.379951Z"
    }
   },
   "outputs": [
    {
     "name": "stdout",
     "output_type": "stream",
     "text": [
      "julianna marguli use donald trump poop bag pick dog `` dietland '' actress said use bag `` realli cathart therapeut moment ''\n"
     ]
    },
    {
     "data": {
      "text/plain": [
       "array([[-2.76020323, -4.10235419, -0.36964973, -2.81302267, -2.47043634,\n",
       "        -3.34383492, -4.10924796, -3.41372404]])"
      ]
     },
     "execution_count": 277,
     "metadata": {},
     "output_type": "execute_result"
    }
   ],
   "source": [
    "print(test.iloc[0].text)\n",
    "text_clf.predict_log_proba([test.iloc[0].text])\n",
    "# print(np.max(nb.coef_))\n",
    "# np.where(nb.coef_ == np.max(nb.coef_))"
   ]
  },
  {
   "cell_type": "code",
   "execution_count": 278,
   "metadata": {
    "ExecuteTime": {
     "end_time": "2020-12-13T17:54:18.459954Z",
     "start_time": "2020-12-13T17:54:18.427954Z"
    }
   },
   "outputs": [
    {
     "data": {
      "text/plain": [
       "'trump'"
      ]
     },
     "execution_count": 278,
     "metadata": {},
     "output_type": "execute_result"
    }
   ],
   "source": [
    "wv.get_feature_names()[9220]"
   ]
  },
  {
   "cell_type": "code",
   "execution_count": 279,
   "metadata": {
    "ExecuteTime": {
     "end_time": "2020-12-13T17:54:19.956857Z",
     "start_time": "2020-12-13T17:54:18.459954Z"
    }
   },
   "outputs": [],
   "source": [
    "if not os.path.exists(filename) or rewrite:\n",
    "    test_copy = test.copy()\n",
    "    test_copy['pred'] = predicted_test\n",
    "    model_dict = {\n",
    "        'model_name': model_name,\n",
    "        'model_description': model_description,\n",
    "        'model_CV': search,\n",
    "        'model_results': test_copy\n",
    "    }\n",
    "    dump(model_dict,filename)"
   ]
  },
  {
   "cell_type": "code",
   "execution_count": 280,
   "metadata": {
    "ExecuteTime": {
     "end_time": "2020-12-13T17:54:22.353387Z",
     "start_time": "2020-12-13T17:54:19.956857Z"
    }
   },
   "outputs": [
    {
     "data": {
      "image/png": "[encoded data removed]",
      "text/plain": [
       "<Figure size 1080x1080 with 2 Axes>"
      ]
     },
     "metadata": {
      "needs_background": "light"
     },
     "output_type": "display_data"
    }
   ],
   "source": [
    "fig, ax = plt.subplots(figsize=(15, 15))\n",
    "disp = plot_confusion_matrix(text_clf, test['text'], test.category,\n",
    "                             cmap=plt.cm.Blues,\n",
    "                             normalize=None,\n",
    "                             ax = ax)"
   ]
  },
  {
   "cell_type": "markdown",
   "metadata": {},
   "source": [
    "# Conclusions"
   ]
  },
  {
   "cell_type": "code",
   "execution_count": 281,
   "metadata": {
    "ExecuteTime": {
     "end_time": "2020-12-13T17:54:24.649556Z",
     "start_time": "2020-12-13T17:54:22.353387Z"
    }
   },
   "outputs": [],
   "source": [
    "from os import listdir\n",
    "from os.path import isfile, join\n",
    "mypath = './Data'\n",
    "model_files = [load(join(mypath, f)) for f in listdir(mypath) if isfile(join(mypath, f)) and f.startswith('model_')]"
   ]
  },
  {
   "cell_type": "code",
   "execution_count": 294,
   "metadata": {
    "ExecuteTime": {
     "end_time": "2020-12-13T18:07:00.371856Z",
     "start_time": "2020-12-13T18:07:00.355855Z"
    }
   },
   "outputs": [
    {
     "name": "stdout",
     "output_type": "stream",
     "text": [
      "{'precision': 0.4557433731269744, 'recall': 0.16431496399708448, 'f1-score': 0.17497203012101356, 'support': 20077}\n",
      "{'precision': 0.450294068741383, 'recall': 0.39428201424515613, 'f1-score': 0.316927594784342, 'support': 20077}\n"
     ]
    }
   ],
   "source": [
    "print(class_report['macro avg'])\n",
    "print(class_report['weighted avg'])"
   ]
  },
  {
   "cell_type": "code",
   "execution_count": 299,
   "metadata": {
    "ExecuteTime": {
     "end_time": "2020-12-13T18:15:22.010511Z",
     "start_time": "2020-12-13T18:15:17.675378Z"
    }
   },
   "outputs": [
    {
     "name": "stderr",
     "output_type": "stream",
     "text": [
      "c:\\users\\mauricio\\appdata\\local\\programs\\python\\python37\\lib\\site-packages\\sklearn\\metrics\\_classification.py:1221: UndefinedMetricWarning: Precision and F-score are ill-defined and being set to 0.0 in labels with no predicted samples. Use `zero_division` parameter to control this behavior.\n",
      "  _warn_prf(average, modifier, msg_start, len(result))\n"
     ]
    },
    {
     "data": {
      "text/html": [
       "<div>\n",
       "<style scoped>\n",
       "    .dataframe tbody tr th:only-of-type {\n",
       "        vertical-align: middle;\n",
       "    }\n",
       "\n",
       "    .dataframe tbody tr th {\n",
       "        vertical-align: top;\n",
       "    }\n",
       "\n",
       "    .dataframe thead th {\n",
       "        text-align: right;\n",
       "    }\n",
       "</style>\n",
       "<table border=\"1\" class=\"dataframe\">\n",
       "  <thead>\n",
       "    <tr style=\"text-align: right;\">\n",
       "      <th></th>\n",
       "      <th>model_name</th>\n",
       "      <th>train_accuracy</th>\n",
       "      <th>test_accuracy</th>\n",
       "      <th>test_macro_avg_precision</th>\n",
       "      <th>test_macro_avg_recall</th>\n",
       "      <th>test_macro_avg_f1-score</th>\n",
       "      <th>test_weighted_avg_precision</th>\n",
       "      <th>test_weighted_avg_recall</th>\n",
       "      <th>test_weighted_avg_f1-score</th>\n",
       "    </tr>\n",
       "  </thead>\n",
       "  <tbody>\n",
       "    <tr>\n",
       "      <th>0</th>\n",
       "      <td>headlines_description_7_categories_NB</td>\n",
       "      <td>0.65</td>\n",
       "      <td>0.68</td>\n",
       "      <td>0.784085</td>\n",
       "      <td>0.465728</td>\n",
       "      <td>0.528147</td>\n",
       "      <td>0.717961</td>\n",
       "      <td>0.682465</td>\n",
       "      <td>0.654087</td>\n",
       "    </tr>\n",
       "    <tr>\n",
       "      <th>1</th>\n",
       "      <td>headlines_description_NB</td>\n",
       "      <td>0.51</td>\n",
       "      <td>0.53</td>\n",
       "      <td>0.658130</td>\n",
       "      <td>0.283313</td>\n",
       "      <td>0.310024</td>\n",
       "      <td>0.584066</td>\n",
       "      <td>0.529175</td>\n",
       "      <td>0.466564</td>\n",
       "    </tr>\n",
       "    <tr>\n",
       "      <th>2</th>\n",
       "      <td>headlines_NB</td>\n",
       "      <td>0.48</td>\n",
       "      <td>0.50</td>\n",
       "      <td>0.632091</td>\n",
       "      <td>0.263814</td>\n",
       "      <td>0.291886</td>\n",
       "      <td>0.562842</td>\n",
       "      <td>0.501643</td>\n",
       "      <td>0.441381</td>\n",
       "    </tr>\n",
       "    <tr>\n",
       "      <th>3</th>\n",
       "      <td>short_description_NB</td>\n",
       "      <td>0.37</td>\n",
       "      <td>0.39</td>\n",
       "      <td>0.455743</td>\n",
       "      <td>0.164315</td>\n",
       "      <td>0.174972</td>\n",
       "      <td>0.450294</td>\n",
       "      <td>0.394282</td>\n",
       "      <td>0.316928</td>\n",
       "    </tr>\n",
       "  </tbody>\n",
       "</table>\n",
       "</div>"
      ],
      "text/plain": [
       "                              model_name train_accuracy test_accuracy  \\\n",
       "0  headlines_description_7_categories_NB           0.65          0.68   \n",
       "1               headlines_description_NB           0.51          0.53   \n",
       "2                           headlines_NB           0.48          0.50   \n",
       "3                   short_description_NB           0.37          0.39   \n",
       "\n",
       "   test_macro_avg_precision  test_macro_avg_recall  test_macro_avg_f1-score  \\\n",
       "0                  0.784085               0.465728                 0.528147   \n",
       "1                  0.658130               0.283313                 0.310024   \n",
       "2                  0.632091               0.263814                 0.291886   \n",
       "3                  0.455743               0.164315                 0.174972   \n",
       "\n",
       "   test_weighted_avg_precision  test_weighted_avg_recall  \\\n",
       "0                     0.717961                  0.682465   \n",
       "1                     0.584066                  0.529175   \n",
       "2                     0.562842                  0.501643   \n",
       "3                     0.450294                  0.394282   \n",
       "\n",
       "   test_weighted_avg_f1-score  \n",
       "0                    0.654087  \n",
       "1                    0.466564  \n",
       "2                    0.441381  \n",
       "3                    0.316928  "
      ]
     },
     "execution_count": 299,
     "metadata": {},
     "output_type": "execute_result"
    }
   ],
   "source": [
    "df_final = pd.DataFrame(columns=['model_name','train_accuracy','test_accuracy',\n",
    "                                 'test_macro_avg_precision','test_macro_avg_recall',\n",
    "                                 'test_macro_avg_f1-score','test_weighted_avg_precision',\n",
    "                                 'test_weighted_avg_recall','test_weighted_avg_f1-score'])\n",
    "for model_file in model_files:\n",
    "    results = model_file['model_results']\n",
    "    class_report = classification_report(results.category, results.pred, output_dict=True)\n",
    "    df_final = df_final.append({'model_name':model_file['model_name'],\n",
    "                                'train_accuracy':'{0:.2f}'.format(model_file['model_CV'].best_score_),\n",
    "                                'test_accuracy':'{0:.2f}'.format(class_report['accuracy']),\n",
    "                                'test_macro_avg_precision':class_report['macro avg']['precision'],\n",
    "                                'test_macro_avg_recall':class_report['macro avg']['recall'],\n",
    "                                'test_macro_avg_f1-score':class_report['macro avg']['f1-score'],\n",
    "                                'test_weighted_avg_precision':class_report['weighted avg']['precision'],\n",
    "                                'test_weighted_avg_recall':class_report['weighted avg']['recall'],\n",
    "                                'test_weighted_avg_f1-score':class_report['weighted avg']['f1-score']\n",
    "                               },ignore_index=True)\n",
    "df_final.sort_values('train_accuracy',ascending=False)"
   ]
  }
 ],
 "metadata": {
  "kernelspec": {
   "display_name": "WhaleAndJaguar-venv",
   "language": "python",
   "name": "whaleandjaguar-venv"
  },
  "language_info": {
   "codemirror_mode": {
    "name": "ipython",
    "version": 3
   },
   "file_extension": ".py",
   "mimetype": "text/x-python",
   "name": "python",
   "nbconvert_exporter": "python",
   "pygments_lexer": "ipython3",
   "version": "3.7.8"
  },
  "toc": {
   "base_numbering": 1,
   "nav_menu": {},
   "number_sections": true,
   "sideBar": true,
   "skip_h1_title": false,
   "title_cell": "Table of Contents",
   "title_sidebar": "Contents",
   "toc_cell": false,
   "toc_position": {
    "height": "calc(100% - 180px)",
    "left": "10px",
    "top": "150px",
    "width": "188.875px"
   },
   "toc_section_display": true,
   "toc_window_display": true
  }
 },
 "nbformat": 4,
 "nbformat_minor": 2
}
