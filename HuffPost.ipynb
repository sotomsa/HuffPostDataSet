{
  "nbformat": 4,
  "nbformat_minor": 0,
  "metadata": {
    "colab": {
      "name": "HuffPost.ipynb",
      "provenance": [],
      "collapsed_sections": [],
      "toc_visible": true
    },
    "kernelspec": {
      "name": "python3",
      "display_name": "Python 3"
    },
    "accelerator": "GPU"
  },
  "cells": [
    {
      "cell_type": "code",
      "metadata": {
        "colab": {
          "base_uri": "https://localhost:8080/"
        },
        "id": "cSwcRs074Fhn",
        "outputId": "d8fefebd-cb90-4c4f-e81b-65374c4c956c"
      },
      "source": [
        "!pip install -Uqq fastbook"
      ],
      "execution_count": 1,
      "outputs": [
        {
          "output_type": "stream",
          "text": [
            "\u001b[K     |████████████████████████████████| 727kB 7.8MB/s \n",
            "\u001b[K     |████████████████████████████████| 194kB 16.0MB/s \n",
            "\u001b[K     |████████████████████████████████| 51kB 9.3MB/s \n",
            "\u001b[K     |████████████████████████████████| 1.2MB 20.9MB/s \n",
            "\u001b[K     |████████████████████████████████| 61kB 10.4MB/s \n",
            "\u001b[?25h"
          ],
          "name": "stdout"
        }
      ]
    },
    {
      "cell_type": "code",
      "metadata": {
        "colab": {
          "base_uri": "https://localhost:8080/"
        },
        "id": "eKUvoWhLS1Uf",
        "outputId": "d81a71de-6d70-4f6f-8b56-84f2a45458b8"
      },
      "source": [
        "from google.colab import drive\r\n",
        "drive.mount('/content/gdrive')"
      ],
      "execution_count": 2,
      "outputs": [
        {
          "output_type": "stream",
          "text": [
            "Mounted at /content/gdrive\n"
          ],
          "name": "stdout"
        }
      ]
    },
    {
      "cell_type": "code",
      "metadata": {
        "id": "Lx0i1Bun4XL-"
      },
      "source": [
        "from fastai.text.all import *\r\n",
        "import pandas as pd\r\n",
        "import json\r\n",
        "import os\r\n",
        "from sklearn.model_selection import train_test_split"
      ],
      "execution_count": 3,
      "outputs": []
    },
    {
      "cell_type": "code",
      "metadata": {
        "id": "hBNIZjxr7Qy_"
      },
      "source": [
        "import zipfile\r\n",
        "file = '/content/News_Category_Dataset_v2.json'\r\n",
        "if not os.path.exists(file):\r\n",
        "  zip_file = '/content/gdrive/My Drive/fastai/News_Category_Dataset_v2.json.zip'\r\n",
        "  with zipfile.ZipFile(zip_file, 'r') as zip_ref:\r\n",
        "      zip_ref.extractall('/content/')"
      ],
      "execution_count": 4,
      "outputs": []
    },
    {
      "cell_type": "code",
      "metadata": {
        "colab": {
          "base_uri": "https://localhost:8080/",
          "height": 289
        },
        "id": "de2RHhBe8O0s",
        "outputId": "fe54fffd-c2ce-49d7-fd80-f6e475a2bb2b"
      },
      "source": [
        "df = pd.read_json(file, lines=True)\r\n",
        "df.index.rename('id', inplace=True)\r\n",
        "df = df.reset_index()\r\n",
        "df = df.rename(columns={'headline':'text'})\r\n",
        "df.head()"
      ],
      "execution_count": 5,
      "outputs": [
        {
          "output_type": "execute_result",
          "data": {
            "text/html": [
              "<div>\n",
              "<style scoped>\n",
              "    .dataframe tbody tr th:only-of-type {\n",
              "        vertical-align: middle;\n",
              "    }\n",
              "\n",
              "    .dataframe tbody tr th {\n",
              "        vertical-align: top;\n",
              "    }\n",
              "\n",
              "    .dataframe thead th {\n",
              "        text-align: right;\n",
              "    }\n",
              "</style>\n",
              "<table border=\"1\" class=\"dataframe\">\n",
              "  <thead>\n",
              "    <tr style=\"text-align: right;\">\n",
              "      <th></th>\n",
              "      <th>id</th>\n",
              "      <th>category</th>\n",
              "      <th>text</th>\n",
              "      <th>authors</th>\n",
              "      <th>link</th>\n",
              "      <th>short_description</th>\n",
              "      <th>date</th>\n",
              "    </tr>\n",
              "  </thead>\n",
              "  <tbody>\n",
              "    <tr>\n",
              "      <th>0</th>\n",
              "      <td>0</td>\n",
              "      <td>CRIME</td>\n",
              "      <td>There Were 2 Mass Shootings In Texas Last Week, But Only 1 On TV</td>\n",
              "      <td>Melissa Jeltsen</td>\n",
              "      <td>https://www.huffingtonpost.com/entry/texas-amanda-painter-mass-shooting_us_5b081ab4e4b0802d69caad89</td>\n",
              "      <td>She left her husband. He killed their children. Just another day in America.</td>\n",
              "      <td>2018-05-26</td>\n",
              "    </tr>\n",
              "    <tr>\n",
              "      <th>1</th>\n",
              "      <td>1</td>\n",
              "      <td>ENTERTAINMENT</td>\n",
              "      <td>Will Smith Joins Diplo And Nicky Jam For The 2018 World Cup's Official Song</td>\n",
              "      <td>Andy McDonald</td>\n",
              "      <td>https://www.huffingtonpost.com/entry/will-smith-joins-diplo-and-nicky-jam-for-the-official-2018-world-cup-song_us_5b09726fe4b0fdb2aa541201</td>\n",
              "      <td>Of course it has a song.</td>\n",
              "      <td>2018-05-26</td>\n",
              "    </tr>\n",
              "    <tr>\n",
              "      <th>2</th>\n",
              "      <td>2</td>\n",
              "      <td>ENTERTAINMENT</td>\n",
              "      <td>Hugh Grant Marries For The First Time At Age 57</td>\n",
              "      <td>Ron Dicker</td>\n",
              "      <td>https://www.huffingtonpost.com/entry/hugh-grant-marries_us_5b09212ce4b0568a880b9a8c</td>\n",
              "      <td>The actor and his longtime girlfriend Anna Eberstein tied the knot in a civil ceremony.</td>\n",
              "      <td>2018-05-26</td>\n",
              "    </tr>\n",
              "    <tr>\n",
              "      <th>3</th>\n",
              "      <td>3</td>\n",
              "      <td>ENTERTAINMENT</td>\n",
              "      <td>Jim Carrey Blasts 'Castrato' Adam Schiff And Democrats In New Artwork</td>\n",
              "      <td>Ron Dicker</td>\n",
              "      <td>https://www.huffingtonpost.com/entry/jim-carrey-adam-schiff-democrats_us_5b0950e8e4b0fdb2aa53e675</td>\n",
              "      <td>The actor gives Dems an ass-kicking for not fighting hard enough against Donald Trump.</td>\n",
              "      <td>2018-05-26</td>\n",
              "    </tr>\n",
              "    <tr>\n",
              "      <th>4</th>\n",
              "      <td>4</td>\n",
              "      <td>ENTERTAINMENT</td>\n",
              "      <td>Julianna Margulies Uses Donald Trump Poop Bags To Pick Up After Her Dog</td>\n",
              "      <td>Ron Dicker</td>\n",
              "      <td>https://www.huffingtonpost.com/entry/julianna-margulies-trump-poop-bag_us_5b093ec2e4b0fdb2aa53df70</td>\n",
              "      <td>The \"Dietland\" actress said using the bags is a \"really cathartic, therapeutic moment.\"</td>\n",
              "      <td>2018-05-26</td>\n",
              "    </tr>\n",
              "  </tbody>\n",
              "</table>\n",
              "</div>"
            ],
            "text/plain": [
              "   id  ...       date\n",
              "0   0  ... 2018-05-26\n",
              "1   1  ... 2018-05-26\n",
              "2   2  ... 2018-05-26\n",
              "3   3  ... 2018-05-26\n",
              "4   4  ... 2018-05-26\n",
              "\n",
              "[5 rows x 7 columns]"
            ]
          },
          "metadata": {
            "tags": []
          },
          "execution_count": 5
        }
      ]
    },
    {
      "cell_type": "code",
      "metadata": {
        "colab": {
          "base_uri": "https://localhost:8080/"
        },
        "id": "0LwR36C1AJ6j",
        "outputId": "eb509d8e-bbb3-43b4-9775-ad0f502cea13"
      },
      "source": [
        "train_val_idx, test_idx = train_test_split(range(len(df)), test_size=0.1, random_state=42, shuffle=True)\r\n",
        "test = df.iloc[test_idx]\r\n",
        "train_validation = df.iloc[train_val_idx]\r\n",
        "print(f\"Number of training: {len(train_val_idx)}, Number of testing: {len(test_idx)}\")"
      ],
      "execution_count": 6,
      "outputs": [
        {
          "output_type": "stream",
          "text": [
            "Number of training: 180767, Number of testing: 20086\n"
          ],
          "name": "stdout"
        }
      ]
    },
    {
      "cell_type": "code",
      "metadata": {
        "colab": {
          "base_uri": "https://localhost:8080/"
        },
        "id": "8WCjdRwPA2BL",
        "outputId": "378f26df-7932-48f4-8590-8fb209170b82"
      },
      "source": [
        "train_idx, val_idx = train_test_split(train_val_idx, test_size=0.1, random_state=42, shuffle=True)\r\n",
        "train_validation['is_valid'] = False\r\n",
        "train_validation.loc[train_validation.id.isin(val_idx), 'is_valid'] = True\r\n",
        "train_validation.groupby('is_valid').size()"
      ],
      "execution_count": 7,
      "outputs": [
        {
          "output_type": "stream",
          "text": [
            "/usr/local/lib/python3.6/dist-packages/ipykernel_launcher.py:2: SettingWithCopyWarning: \n",
            "A value is trying to be set on a copy of a slice from a DataFrame.\n",
            "Try using .loc[row_indexer,col_indexer] = value instead\n",
            "\n",
            "See the caveats in the documentation: https://pandas.pydata.org/pandas-docs/stable/user_guide/indexing.html#returning-a-view-versus-a-copy\n",
            "  \n",
            "/usr/local/lib/python3.6/dist-packages/pandas/core/indexing.py:1763: SettingWithCopyWarning: \n",
            "A value is trying to be set on a copy of a slice from a DataFrame.\n",
            "Try using .loc[row_indexer,col_indexer] = value instead\n",
            "\n",
            "See the caveats in the documentation: https://pandas.pydata.org/pandas-docs/stable/user_guide/indexing.html#returning-a-view-versus-a-copy\n",
            "  isetter(loc, value)\n"
          ],
          "name": "stderr"
        },
        {
          "output_type": "execute_result",
          "data": {
            "text/plain": [
              "is_valid\n",
              "False    162690\n",
              "True      18077\n",
              "dtype: int64"
            ]
          },
          "metadata": {
            "tags": []
          },
          "execution_count": 7
        }
      ]
    },
    {
      "cell_type": "code",
      "metadata": {
        "colab": {
          "base_uri": "https://localhost:8080/",
          "height": 442
        },
        "id": "1JoGhXomGoGb",
        "outputId": "e2c6bef2-64fe-43fa-ab91-dff87c682790"
      },
      "source": [
        "train_validation.sample(5)"
      ],
      "execution_count": null,
      "outputs": [
        {
          "output_type": "execute_result",
          "data": {
            "text/html": [
              "<div>\n",
              "<style scoped>\n",
              "    .dataframe tbody tr th:only-of-type {\n",
              "        vertical-align: middle;\n",
              "    }\n",
              "\n",
              "    .dataframe tbody tr th {\n",
              "        vertical-align: top;\n",
              "    }\n",
              "\n",
              "    .dataframe thead th {\n",
              "        text-align: right;\n",
              "    }\n",
              "</style>\n",
              "<table border=\"1\" class=\"dataframe\">\n",
              "  <thead>\n",
              "    <tr style=\"text-align: right;\">\n",
              "      <th></th>\n",
              "      <th>id</th>\n",
              "      <th>category</th>\n",
              "      <th>text</th>\n",
              "      <th>authors</th>\n",
              "      <th>link</th>\n",
              "      <th>short_description</th>\n",
              "      <th>date</th>\n",
              "      <th>is_valid</th>\n",
              "    </tr>\n",
              "  </thead>\n",
              "  <tbody>\n",
              "    <tr>\n",
              "      <th>146610</th>\n",
              "      <td>146610</td>\n",
              "      <td>STYLE &amp; BEAUTY</td>\n",
              "      <td>On Cate Blanchett and Why She Should Win Another Oscar</td>\n",
              "      <td>Prabal Gurung, Contributor\\nFashion designer</td>\n",
              "      <td>https://www.huffingtonpost.com/entry/monday-muse-on-cate-blanc_us_5b9d77d3e4b03a1dcc885d81</td>\n",
              "      <td>Last weekend, I went to see Woody Allen's Blue Jasmine featuring Cate Blanchett and I walked out instantly knowing who our next Muse would be. Cate's performance stayed with me for days. It got me thinking about talent, pure, raw talent.</td>\n",
              "      <td>2013-08-30</td>\n",
              "      <td>False</td>\n",
              "    </tr>\n",
              "    <tr>\n",
              "      <th>40332</th>\n",
              "      <td>40332</td>\n",
              "      <td>POLITICS</td>\n",
              "      <td>Friday's Morning Email: Trump's Labor Pick Opposes Significantly Raising Minimum Wage</td>\n",
              "      <td>Lauren Weber</td>\n",
              "      <td>https://www.huffingtonpost.com/entry/fridays-morning-email-trumps-labor-pick-opposes-significantly-raising-minimum-wage_us_584aaa76e4b04c8e2baf4cf0</td>\n",
              "      <td>Meet Andrew Puzder.</td>\n",
              "      <td>2016-12-09</td>\n",
              "      <td>False</td>\n",
              "    </tr>\n",
              "    <tr>\n",
              "      <th>82552</th>\n",
              "      <td>82552</td>\n",
              "      <td>CRIME</td>\n",
              "      <td>Police Kill Armed Black Man In St. Louis On Anniversary Of Another Officer-Involved Shooting</td>\n",
              "      <td>Sebastian Murdock and Mariah Stewart</td>\n",
              "      <td>https://www.huffingtonpost.com/entry/police-kill-armed-man-in-st-louis-other-suspect-flees_us_55d4db82e4b0ab468d9f8a8c</td>\n",
              "      <td>Protests later broke out at the scene of the shooting.</td>\n",
              "      <td>2015-08-19</td>\n",
              "      <td>False</td>\n",
              "    </tr>\n",
              "    <tr>\n",
              "      <th>114792</th>\n",
              "      <td>114792</td>\n",
              "      <td>COLLEGE</td>\n",
              "      <td>How Would You Redefine Study Abroad?</td>\n",
              "      <td>Amelia Friedman, ContributorCo-Founder at Hatch</td>\n",
              "      <td>https://www.huffingtonpost.com/entry/how-would-you-redefine-st_b_5675588.html</td>\n",
              "      <td>A new initiative at the International Institute of Education is sparking conversation, asking us how we can increase the cultural awareness in our students and encourage them to learn in environments outside of their comfort zone.</td>\n",
              "      <td>2014-08-14</td>\n",
              "      <td>False</td>\n",
              "    </tr>\n",
              "    <tr>\n",
              "      <th>199154</th>\n",
              "      <td>199154</td>\n",
              "      <td>HOME &amp; LIVING</td>\n",
              "      <td>It Makes All the Difference in the World How Art Is Viewed</td>\n",
              "      <td>Christina Craemer, Contributor\\nInterior designer</td>\n",
              "      <td>https://www.huffingtonpost.com/entry/it-makes-all-the-difference_us_5b9b551ce4b03a1dcc76b331</td>\n",
              "      <td>As I was leaving I realized what a wonderful evening this had been and how it reminded me of just how important the holistic relationship of art to space, time and surroundings really is.</td>\n",
              "      <td>2012-02-15</td>\n",
              "      <td>False</td>\n",
              "    </tr>\n",
              "  </tbody>\n",
              "</table>\n",
              "</div>"
            ],
            "text/plain": [
              "            id        category  ...       date is_valid\n",
              "146610  146610  STYLE & BEAUTY  ... 2013-08-30    False\n",
              "40332    40332        POLITICS  ... 2016-12-09    False\n",
              "82552    82552           CRIME  ... 2015-08-19    False\n",
              "114792  114792         COLLEGE  ... 2014-08-14    False\n",
              "199154  199154   HOME & LIVING  ... 2012-02-15    False\n",
              "\n",
              "[5 rows x 8 columns]"
            ]
          },
          "metadata": {
            "tags": []
          },
          "execution_count": 8
        }
      ]
    },
    {
      "cell_type": "markdown",
      "metadata": {
        "id": "ekpiC3GEaxA8"
      },
      "source": [
        "## Finetunning Model"
      ]
    },
    {
      "cell_type": "code",
      "metadata": {
        "id": "8ENb3QA59iqr"
      },
      "source": [
        "huffpost = DataBlock(blocks=(TextBlock.from_df('text'), CategoryBlock),\r\n",
        "                     get_x=ColReader('text'),\r\n",
        "                     get_y=ColReader('category'),\r\n",
        "                     splitter=ColSplitter())"
      ],
      "execution_count": 8,
      "outputs": []
    },
    {
      "cell_type": "code",
      "metadata": {
        "colab": {
          "base_uri": "https://localhost:8080/",
          "height": 71
        },
        "id": "ThSrmjag97c1",
        "outputId": "2cbed1af-5645-4d27-daf8-0ca26afbb497"
      },
      "source": [
        "dls = huffpost.dataloaders(train_validation, bs=64, seq_len=50)"
      ],
      "execution_count": 9,
      "outputs": [
        {
          "output_type": "display_data",
          "data": {
            "text/html": [
              ""
            ],
            "text/plain": [
              "<IPython.core.display.HTML object>"
            ]
          },
          "metadata": {
            "tags": []
          }
        },
        {
          "output_type": "stream",
          "text": [
            "/usr/local/lib/python3.6/dist-packages/numpy/core/_asarray.py:83: VisibleDeprecationWarning: Creating an ndarray from ragged nested sequences (which is a list-or-tuple of lists-or-tuples-or ndarrays with different lengths or shapes) is deprecated. If you meant to do this, you must specify 'dtype=object' when creating the ndarray\n",
            "  return array(a, dtype, copy=False, order=order)\n"
          ],
          "name": "stderr"
        }
      ]
    },
    {
      "cell_type": "code",
      "metadata": {
        "colab": {
          "base_uri": "https://localhost:8080/",
          "height": 354
        },
        "id": "YdcPYajWhY5W",
        "outputId": "4c8a7ba0-e400-43ff-d01e-f5e98a6ca6f8"
      },
      "source": [
        "dls.show_batch(max_n=6)"
      ],
      "execution_count": 10,
      "outputs": [
        {
          "output_type": "display_data",
          "data": {
            "text/html": [
              "<table border=\"1\" class=\"dataframe\">\n",
              "  <thead>\n",
              "    <tr style=\"text-align: right;\">\n",
              "      <th></th>\n",
              "      <th>text</th>\n",
              "      <th>category</th>\n",
              "    </tr>\n",
              "  </thead>\n",
              "  <tbody>\n",
              "    <tr>\n",
              "      <th>0</th>\n",
              "      <td>xxbos xxmaj chats with xxmaj xxunk xxmaj xxunk , xxmaj michelle xxmaj phillips , xxmaj lee xxmaj xxunk , xxmaj ian xxmaj thomas and xxmaj young xxmaj gun xxmaj silver xxmaj fox 's xxmaj shawn xxmaj lee , xxmaj plus xxmaj joey xxmaj alexander , xxmaj xxunk , xxmaj xxunk xxmaj xxunk , m xxmaj ross xxmaj perkins , xxmaj morgan 's xxmaj road , xxmaj xxunk , xxmaj dave mcgraw &amp; xxmaj mandy xxmaj xxunk , xxmaj unconscious xxmaj xxunk , i xxmaj the xxmaj mighty , and xxmaj the xxmaj junior xxmaj league xxmaj exclusives</td>\n",
              "      <td>ENTERTAINMENT</td>\n",
              "    </tr>\n",
              "    <tr>\n",
              "      <th>1</th>\n",
              "      <td>xxbos ' how xxmaj do xxmaj we xxmaj treat the xxmaj little xxmaj people , xxmaj joan ? ' i xxmaj asked . xxmaj and xxmaj she xxmaj said , ' why , xxmaj we xxmaj treat xxmaj them xxmaj better . xxmaj we xxmaj only xxmaj s -- t on xxmaj people at xxmaj our xxmaj level or xxmaj higher . '</td>\n",
              "      <td>ENTERTAINMENT</td>\n",
              "    </tr>\n",
              "    <tr>\n",
              "      <th>2</th>\n",
              "      <td>xxbos a - sides xxmaj with xxmaj jon xxmaj chattman : xxmaj the xxup walk xxup the xxup moon \" dance xxmaj off \" : xxmaj eli xxmaj xxunk xxmaj talks xxmaj hard xxmaj about xxmaj recreating ' 80s \" nuggets of xxmaj nerdy xxmaj goodness \"</td>\n",
              "      <td>ENTERTAINMENT</td>\n",
              "    </tr>\n",
              "    <tr>\n",
              "      <th>3</th>\n",
              "      <td>xxbos xxmaj real xxmaj stories xxmaj of xxmaj americans xxmaj who xxmaj will xxmaj be xxmaj affected xxmaj by xxmaj the xxmaj proposed xxmaj changes xxmaj to xxmaj the xxup aca — xxmaj and xxmaj what xxup you xxmaj can xxmaj do xxmaj to xxmaj fight</td>\n",
              "      <td>POLITICS</td>\n",
              "    </tr>\n",
              "    <tr>\n",
              "      <th>4</th>\n",
              "      <td>xxbos xxmaj greece 's xxmaj xxunk xxmaj railway , xxmaj one of the xxmaj world 's xxmaj most xxmaj spectacular xxmaj train xxmaj rides : xxmaj spring xxmaj break 2016 , xxmaj breaking xxmaj bad on the xxmaj looney xxmaj front - xxmaj part 4</td>\n",
              "      <td>TRAVEL</td>\n",
              "    </tr>\n",
              "    <tr>\n",
              "      <th>5</th>\n",
              "      <td>xxbos xxmaj trevor xxmaj noah 's xxmaj interview xxmaj with xxmaj tomi xxmaj lahren xxmaj is a xxmaj perfect xxmaj example xxmaj of xxmaj why xxmaj the xxmaj white xxmaj liberal ' discourse ' xxmaj fetish xxmaj is xxmaj so xxmaj damn xxmaj absurd .</td>\n",
              "      <td>POLITICS</td>\n",
              "    </tr>\n",
              "  </tbody>\n",
              "</table>"
            ],
            "text/plain": [
              "<IPython.core.display.HTML object>"
            ]
          },
          "metadata": {
            "tags": []
          }
        }
      ]
    },
    {
      "cell_type": "code",
      "metadata": {
        "colab": {
          "base_uri": "https://localhost:8080/",
          "height": 17
        },
        "id": "zFtIbpXti4hE",
        "outputId": "524614dd-4918-49ad-ff49-4d3ad7067118"
      },
      "source": [
        "learn = text_classifier_learner(dls, AWD_LSTM, drop_mult=0.5, metrics=accuracy)"
      ],
      "execution_count": 11,
      "outputs": [
        {
          "output_type": "display_data",
          "data": {
            "text/html": [
              ""
            ],
            "text/plain": [
              "<IPython.core.display.HTML object>"
            ]
          },
          "metadata": {
            "tags": []
          }
        }
      ]
    },
    {
      "cell_type": "code",
      "metadata": {
        "colab": {
          "base_uri": "https://localhost:8080/",
          "height": 236
        },
        "id": "N77Pd8Z5i_yq",
        "outputId": "0565dbbd-db00-49b9-aaf4-0d4a2467a69f"
      },
      "source": [
        "learn.fine_tune(4, 1e-2)"
      ],
      "execution_count": null,
      "outputs": [
        {
          "output_type": "display_data",
          "data": {
            "text/html": [
              "<table border=\"1\" class=\"dataframe\">\n",
              "  <thead>\n",
              "    <tr style=\"text-align: left;\">\n",
              "      <th>epoch</th>\n",
              "      <th>train_loss</th>\n",
              "      <th>valid_loss</th>\n",
              "      <th>accuracy</th>\n",
              "      <th>time</th>\n",
              "    </tr>\n",
              "  </thead>\n",
              "  <tbody>\n",
              "    <tr>\n",
              "      <td>0</td>\n",
              "      <td>2.453103</td>\n",
              "      <td>2.130135</td>\n",
              "      <td>0.424573</td>\n",
              "      <td>03:46</td>\n",
              "    </tr>\n",
              "  </tbody>\n",
              "</table>"
            ],
            "text/plain": [
              "<IPython.core.display.HTML object>"
            ]
          },
          "metadata": {
            "tags": []
          }
        },
        {
          "output_type": "display_data",
          "data": {
            "text/html": [
              "<table border=\"1\" class=\"dataframe\">\n",
              "  <thead>\n",
              "    <tr style=\"text-align: left;\">\n",
              "      <th>epoch</th>\n",
              "      <th>train_loss</th>\n",
              "      <th>valid_loss</th>\n",
              "      <th>accuracy</th>\n",
              "      <th>time</th>\n",
              "    </tr>\n",
              "  </thead>\n",
              "  <tbody>\n",
              "    <tr>\n",
              "      <td>0</td>\n",
              "      <td>1.800438</td>\n",
              "      <td>1.551368</td>\n",
              "      <td>0.563921</td>\n",
              "      <td>04:21</td>\n",
              "    </tr>\n",
              "    <tr>\n",
              "      <td>1</td>\n",
              "      <td>1.559305</td>\n",
              "      <td>1.418899</td>\n",
              "      <td>0.599602</td>\n",
              "      <td>04:20</td>\n",
              "    </tr>\n",
              "    <tr>\n",
              "      <td>2</td>\n",
              "      <td>1.398875</td>\n",
              "      <td>1.323755</td>\n",
              "      <td>0.621287</td>\n",
              "      <td>04:20</td>\n",
              "    </tr>\n",
              "    <tr>\n",
              "      <td>3</td>\n",
              "      <td>1.228384</td>\n",
              "      <td>1.310966</td>\n",
              "      <td>0.624219</td>\n",
              "      <td>04:20</td>\n",
              "    </tr>\n",
              "  </tbody>\n",
              "</table>"
            ],
            "text/plain": [
              "<IPython.core.display.HTML object>"
            ]
          },
          "metadata": {
            "tags": []
          }
        }
      ]
    },
    {
      "cell_type": "code",
      "metadata": {
        "colab": {
          "base_uri": "https://localhost:8080/",
          "height": 481
        },
        "id": "aXW6f5KSjFsK",
        "outputId": "9063c7f6-fe6d-4d05-b10c-b6237ec11e92"
      },
      "source": [
        "learn.show_results()"
      ],
      "execution_count": null,
      "outputs": [
        {
          "output_type": "display_data",
          "data": {
            "text/html": [
              ""
            ],
            "text/plain": [
              "<IPython.core.display.HTML object>"
            ]
          },
          "metadata": {
            "tags": []
          }
        },
        {
          "output_type": "display_data",
          "data": {
            "text/html": [
              "<table border=\"1\" class=\"dataframe\">\n",
              "  <thead>\n",
              "    <tr style=\"text-align: right;\">\n",
              "      <th></th>\n",
              "      <th>text</th>\n",
              "      <th>category</th>\n",
              "      <th>category_</th>\n",
              "    </tr>\n",
              "  </thead>\n",
              "  <tbody>\n",
              "    <tr>\n",
              "      <th>0</th>\n",
              "      <td>xxbos xxmaj masters xxmaj live xxmaj blog , xxmaj final xxmaj round xxmaj saturday : xxmaj masters xxmaj tracker xxmaj for xxmaj the xxmaj final xxmaj round xxmaj sunday xxmaj at xxmaj augusta xxmaj national xxmaj as xxmaj bubba xxmaj watson xxmaj and xxmaj jordan xxmaj spieth xxmaj start xxmaj with xxmaj the xxmaj lead</td>\n",
              "      <td>SPORTS</td>\n",
              "      <td>SPORTS</td>\n",
              "    </tr>\n",
              "    <tr>\n",
              "      <th>1</th>\n",
              "      <td>xxbos xxmaj the xxmaj election xxmaj of a so - called xxmaj moderate xxmaj president xxmaj of xxmaj the xxmaj xxunk xxmaj state xxmaj has xxmaj only xxmaj resulted xxmaj to xxunk xxmaj increase xxmaj in xxmaj the xxmaj number xxmaj of xxmaj executions xxmaj carried xxmaj out xxmaj against xxmaj iranian</td>\n",
              "      <td>POLITICS</td>\n",
              "      <td>POLITICS</td>\n",
              "    </tr>\n",
              "    <tr>\n",
              "      <th>2</th>\n",
              "      <td>xxbos xxmaj the xxmaj best xxmaj political xxmaj jokes xxmaj of xxmaj the xxmaj week : xxmaj fallon xxmaj on xxmaj paul xxmaj ryan , xxmaj letterman xxmaj on xxmaj chris xxmaj christie , xxmaj stewart xxmaj on xxmaj voter xxup i d xxmaj laws &amp; xxmaj more ( video )</td>\n",
              "      <td>COMEDY</td>\n",
              "      <td>COMEDY</td>\n",
              "    </tr>\n",
              "    <tr>\n",
              "      <th>3</th>\n",
              "      <td>xxbos xxmaj how the xxmaj world xxmaj has xxmaj changed : xxmaj it xxmaj is xxmaj now xxmaj one . xxmaj how the xxmaj fashion xxmaj world xxmaj has xxmaj changed : xxmaj it , xxmaj too , xxmaj is xxmaj now xxmaj one .</td>\n",
              "      <td>STYLE &amp; BEAUTY</td>\n",
              "      <td>STYLE &amp; BEAUTY</td>\n",
              "    </tr>\n",
              "    <tr>\n",
              "      <th>4</th>\n",
              "      <td>xxbos xxmaj xxunk xxmaj xxunk , xxmaj orphan xxmaj turned xxmaj model , xxmaj on xxmaj her xxmaj first xxmaj fashion xxmaj week xxmaj and xxmaj why xxmaj she 's xxmaj the xxmaj next xxmaj tyra xxmaj banks ( photos )</td>\n",
              "      <td>STYLE &amp; BEAUTY</td>\n",
              "      <td>STYLE &amp; BEAUTY</td>\n",
              "    </tr>\n",
              "    <tr>\n",
              "      <th>5</th>\n",
              "      <td>xxbos xxmaj the xxmaj best xxmaj political xxmaj jokes xxmaj of xxmaj the xxmaj week : xxmaj letterman xxmaj on xxup gop xxmaj convention xxmaj hurricane , xxmaj leno xxmaj on xxmaj todd xxmaj akin &amp; xxmaj more ( video )</td>\n",
              "      <td>COMEDY</td>\n",
              "      <td>COMEDY</td>\n",
              "    </tr>\n",
              "    <tr>\n",
              "      <th>6</th>\n",
              "      <td>xxbos xxmaj jimmy xxmaj fallon 's xxmaj thank xxmaj you xxmaj notes xxmaj for xxup ll xxmaj cool xxup j , xxmaj here xxmaj comes xxmaj honey xxmaj boo xxmaj boo &amp; xxmaj no xxmaj smoking xxmaj signs ( video )</td>\n",
              "      <td>COMEDY</td>\n",
              "      <td>COMEDY</td>\n",
              "    </tr>\n",
              "    <tr>\n",
              "      <th>7</th>\n",
              "      <td>xxbos xxmaj gwen xxmaj tan , xxmaj writer &amp; xxmaj surface xxmaj mag xxmaj intern , xxmaj on xxmaj the xxmaj one xxmaj thing xxmaj you xxmaj must xxmaj do xxmaj before xxmaj you xxmaj go xxmaj to xxmaj bed</td>\n",
              "      <td>STYLE &amp; BEAUTY</td>\n",
              "      <td>STYLE &amp; BEAUTY</td>\n",
              "    </tr>\n",
              "    <tr>\n",
              "      <th>8</th>\n",
              "      <td>xxbos xxmaj this xxmaj retired xxmaj coal xxmaj miner xxmaj has xxmaj black xxmaj lung xxmaj disease . xxmaj he 's xxmaj fighting xxmaj to xxmaj make xxmaj sure xxmaj no xxmaj one xxmaj else xxmaj gets xxmaj it .</td>\n",
              "      <td>POLITICS</td>\n",
              "      <td>POLITICS</td>\n",
              "    </tr>\n",
              "  </tbody>\n",
              "</table>"
            ],
            "text/plain": [
              "<IPython.core.display.HTML object>"
            ]
          },
          "metadata": {
            "tags": []
          }
        }
      ]
    },
    {
      "cell_type": "code",
      "metadata": {
        "id": "3_ZGg0pJnb60",
        "colab": {
          "base_uri": "https://localhost:8080/",
          "height": 17
        },
        "outputId": "f4c9109e-71b0-4184-d834-c9a3f75c9c79"
      },
      "source": [
        "interp = ClassificationInterpretation.from_learner(learn)"
      ],
      "execution_count": null,
      "outputs": [
        {
          "output_type": "display_data",
          "data": {
            "text/html": [
              ""
            ],
            "text/plain": [
              "<IPython.core.display.HTML object>"
            ]
          },
          "metadata": {
            "tags": []
          }
        }
      ]
    },
    {
      "cell_type": "code",
      "metadata": {
        "colab": {
          "base_uri": "https://localhost:8080/",
          "height": 743
        },
        "id": "HRk6eylDnlFa",
        "outputId": "2f960359-369c-4ace-8bc3-f93ed51271f7"
      },
      "source": [
        "interp.plot_confusion_matrix(figsize=(12,12), dpi=60)"
      ],
      "execution_count": null,
      "outputs": [
        {
          "output_type": "display_data",
          "data": {
            "image/png": "[encoded data removed]",
            "text/plain": [
              "<Figure size 720x720 with 1 Axes>"
            ]
          },
          "metadata": {
            "tags": [],
            "needs_background": "light"
          }
        }
      ]
    },
    {
      "cell_type": "code",
      "metadata": {
        "colab": {
          "base_uri": "https://localhost:8080/"
        },
        "id": "Gs9TtKrwqZIB",
        "outputId": "16a9f001-6466-4339-da47-8135e7def651"
      },
      "source": [
        "interp.most_confused(min_val=10)"
      ],
      "execution_count": null,
      "outputs": [
        {
          "output_type": "execute_result",
          "data": {
            "text/plain": [
              "[('HEALTHY LIVING', 'WELLNESS', 284),\n",
              " ('PARENTS', 'PARENTING', 123),\n",
              " ('WORLD NEWS', 'THE WORLDPOST', 102),\n",
              " ('PARENTING', 'WELLNESS', 100),\n",
              " ('TASTE', 'FOOD & DRINK', 84),\n",
              " ('WELLNESS', 'HEALTHY LIVING', 79),\n",
              " ('PARENTING', 'PARENTS', 68),\n",
              " ('COMEDY', 'ENTERTAINMENT', 67),\n",
              " ('BUSINESS', 'POLITICS', 66),\n",
              " ('MEDIA', 'POLITICS', 66),\n",
              " ('IMPACT', 'WELLNESS', 65),\n",
              " ('BLACK VOICES', 'ENTERTAINMENT', 64),\n",
              " ('WORLDPOST', 'THE WORLDPOST', 60),\n",
              " ('BLACK VOICES', 'POLITICS', 56),\n",
              " ('ENTERTAINMENT', 'POLITICS', 56),\n",
              " ('POLITICS', 'WELLNESS', 53),\n",
              " ('STYLE', 'STYLE & BEAUTY', 50),\n",
              " ('GREEN', 'POLITICS', 46),\n",
              " ('FOOD & DRINK', 'WELLNESS', 45),\n",
              " ('ENTERTAINMENT', 'COMEDY', 44),\n",
              " ('WELLNESS', 'PARENTING', 44),\n",
              " ('POLITICS', 'MEDIA', 42),\n",
              " ('CRIME', 'POLITICS', 41),\n",
              " ('POLITICS', 'WORLDPOST', 39),\n",
              " ('COMEDY', 'POLITICS', 37),\n",
              " ('POLITICS', 'BUSINESS', 37),\n",
              " ('FOOD & DRINK', 'TASTE', 36),\n",
              " ('QUEER VOICES', 'ENTERTAINMENT', 36),\n",
              " ('BUSINESS', 'WELLNESS', 35),\n",
              " ('IMPACT', 'POLITICS', 34),\n",
              " ('POLITICS', 'BLACK VOICES', 34),\n",
              " ('WOMEN', 'ENTERTAINMENT', 34),\n",
              " ('HEALTHY LIVING', 'POLITICS', 33),\n",
              " ('WOMEN', 'POLITICS', 33),\n",
              " ('POLITICS', 'GREEN', 32),\n",
              " ('STYLE & BEAUTY', 'STYLE', 32),\n",
              " ('TRAVEL', 'WELLNESS', 32),\n",
              " ('WOMEN', 'WELLNESS', 32),\n",
              " ('DIVORCE', 'WELLNESS', 31),\n",
              " ('WELLNESS', 'FOOD & DRINK', 31),\n",
              " ('THE WORLDPOST', 'POLITICS', 30),\n",
              " ('ARTS & CULTURE', 'ENTERTAINMENT', 29),\n",
              " ('STYLE & BEAUTY', 'WELLNESS', 29),\n",
              " ('WORLDPOST', 'POLITICS', 29),\n",
              " ('ENTERTAINMENT', 'BLACK VOICES', 28),\n",
              " ('POLITICS', 'ENTERTAINMENT', 28),\n",
              " ('RELIGION', 'POLITICS', 28),\n",
              " ('POLITICS', 'WOMEN', 27),\n",
              " ('BLACK VOICES', 'CRIME', 26),\n",
              " ('MONEY', 'BUSINESS', 26),\n",
              " ('QUEER VOICES', 'POLITICS', 26),\n",
              " ('TRAVEL', 'FOOD & DRINK', 26),\n",
              " ('ENVIRONMENT', 'GREEN', 25),\n",
              " ('FIFTY', 'WELLNESS', 25),\n",
              " ('POLITICS', 'CRIME', 25),\n",
              " ('HEALTHY LIVING', 'PARENTING', 24),\n",
              " ('IMPACT', 'BUSINESS', 24),\n",
              " ('POLITICS', 'THE WORLDPOST', 24),\n",
              " ('SCIENCE', 'WELLNESS', 24),\n",
              " ('STYLE & BEAUTY', 'ENTERTAINMENT', 24),\n",
              " ('WEIRD NEWS', 'CRIME', 24),\n",
              " ('WELLNESS', 'POLITICS', 24),\n",
              " ('COMEDY', 'WELLNESS', 23),\n",
              " ('LATINO VOICES', 'POLITICS', 23),\n",
              " ('PARENTS', 'WELLNESS', 23),\n",
              " ('POLITICS', 'RELIGION', 23),\n",
              " ('SPORTS', 'ENTERTAINMENT', 23),\n",
              " ('SPORTS', 'POLITICS', 23),\n",
              " ('STYLE', 'ENTERTAINMENT', 23),\n",
              " ('WELLNESS', 'STYLE & BEAUTY', 22),\n",
              " ('BUSINESS', 'MONEY', 21),\n",
              " ('PARENTS', 'ENTERTAINMENT', 21),\n",
              " ('ENTERTAINMENT', 'WELLNESS', 20),\n",
              " ('FIFTY', 'HEALTHY LIVING', 20),\n",
              " ('WELLNESS', 'TRAVEL', 20),\n",
              " ('CULTURE & ARTS', 'ARTS', 19),\n",
              " ('QUEER VOICES', 'WELLNESS', 19),\n",
              " ('WEDDINGS', 'WELLNESS', 19),\n",
              " ('WELLNESS', 'IMPACT', 19),\n",
              " ('WOMEN', 'PARENTING', 19),\n",
              " ('WORLD NEWS', 'POLITICS', 19),\n",
              " ('ARTS', 'ENTERTAINMENT', 18),\n",
              " ('CRIME', 'WEIRD NEWS', 18),\n",
              " ('POLITICS', 'HEALTHY LIVING', 18),\n",
              " ('EDUCATION', 'WELLNESS', 17),\n",
              " ('POLITICS', 'QUEER VOICES', 17),\n",
              " ('RELIGION', 'WELLNESS', 17),\n",
              " ('BUSINESS', 'TECH', 16),\n",
              " ('DIVORCE', 'WEDDINGS', 16),\n",
              " ('FOOD & DRINK', 'TRAVEL', 16),\n",
              " ('HOME & LIVING', 'STYLE & BEAUTY', 16),\n",
              " ('IMPACT', 'PARENTING', 16),\n",
              " ('POLITICS', 'IMPACT', 16),\n",
              " ('STYLE & BEAUTY', 'HOME & LIVING', 16),\n",
              " ('MEDIA', 'ENTERTAINMENT', 15),\n",
              " ('MONEY', 'WELLNESS', 15),\n",
              " ('POLITICS', 'SPORTS', 15),\n",
              " ('SCIENCE', 'GREEN', 15),\n",
              " ('THE WORLDPOST', 'WORLDPOST', 15),\n",
              " ('ARTS', 'WELLNESS', 14),\n",
              " ('BLACK VOICES', 'SPORTS', 14),\n",
              " ('DIVORCE', 'PARENTING', 14),\n",
              " ('ENVIRONMENT', 'WELLNESS', 14),\n",
              " ('FOOD & DRINK', 'HOME & LIVING', 14),\n",
              " ('HOME & LIVING', 'WELLNESS', 14),\n",
              " ('PARENTING', 'POLITICS', 14),\n",
              " ('POLITICS', 'COMEDY', 14),\n",
              " ('POLITICS', 'TRAVEL', 14),\n",
              " ('WEIRD NEWS', 'POLITICS', 14),\n",
              " ('ARTS', 'ARTS & CULTURE', 13),\n",
              " ('BLACK VOICES', 'WELLNESS', 13),\n",
              " ('ENTERTAINMENT', 'STYLE', 13),\n",
              " ('ENTERTAINMENT', 'STYLE & BEAUTY', 13),\n",
              " ('GREEN', 'WELLNESS', 13),\n",
              " ('POLITICS', 'PARENTING', 13),\n",
              " ('TECH', 'POLITICS', 13),\n",
              " ('WEDDINGS', 'DIVORCE', 13),\n",
              " ('WEIRD NEWS', 'COMEDY', 13),\n",
              " ('WEIRD NEWS', 'ENTERTAINMENT', 13),\n",
              " ('WEIRD NEWS', 'GOOD NEWS', 13),\n",
              " ('WELLNESS', 'ENTERTAINMENT', 13),\n",
              " ('ARTS', 'TRAVEL', 12),\n",
              " ('ARTS & CULTURE', 'POLITICS', 12),\n",
              " ('COLLEGE', 'POLITICS', 12),\n",
              " ('ENTERTAINMENT', 'QUEER VOICES', 12),\n",
              " ('PARENTING', 'DIVORCE', 12),\n",
              " ('PARENTING', 'ENTERTAINMENT', 12),\n",
              " ('TRAVEL', 'BUSINESS', 12),\n",
              " ('TRAVEL', 'ENTERTAINMENT', 12),\n",
              " ('WELLNESS', 'BUSINESS', 12),\n",
              " ('BLACK VOICES', 'STYLE & BEAUTY', 11),\n",
              " ('BUSINESS', 'GREEN', 11),\n",
              " ('EDUCATION', 'POLITICS', 11),\n",
              " ('ENTERTAINMENT', 'ARTS', 11),\n",
              " ('ENTERTAINMENT', 'SPORTS', 11),\n",
              " ('ENTERTAINMENT', 'WOMEN', 11),\n",
              " ('HEALTHY LIVING', 'BUSINESS', 11),\n",
              " ('POLITICS', 'WORLD NEWS', 11),\n",
              " ('STYLE & BEAUTY', 'PARENTING', 11),\n",
              " ('TECH', 'ENTERTAINMENT', 11),\n",
              " ('TRAVEL', 'PARENTING', 11),\n",
              " ('TRAVEL', 'POLITICS', 11),\n",
              " ('TRAVEL', 'STYLE & BEAUTY', 11),\n",
              " ('WORLDPOST', 'TRAVEL', 11),\n",
              " ('WORLDPOST', 'WELLNESS', 11),\n",
              " ('ARTS & CULTURE', 'ARTS', 10),\n",
              " ('COMEDY', 'PARENTING', 10),\n",
              " ('COMEDY', 'WEIRD NEWS', 10),\n",
              " ('EDUCATION', 'PARENTING', 10),\n",
              " ('GOOD NEWS', 'PARENTS', 10),\n",
              " ('GREEN', 'ENVIRONMENT', 10),\n",
              " ('POLITICS', 'TECH', 10),\n",
              " ('QUEER VOICES', 'PARENTING', 10),\n",
              " ('TECH', 'BUSINESS', 10),\n",
              " ('WEIRD NEWS', 'GREEN', 10),\n",
              " ('WEIRD NEWS', 'SPORTS', 10),\n",
              " ('WELLNESS', 'HOME & LIVING', 10),\n",
              " ('WELLNESS', 'QUEER VOICES', 10),\n",
              " ('WOMEN', 'HEALTHY LIVING', 10)]"
            ]
          },
          "metadata": {
            "tags": []
          },
          "execution_count": 23
        }
      ]
    },
    {
      "cell_type": "code",
      "metadata": {
        "colab": {
          "base_uri": "https://localhost:8080/",
          "height": 283
        },
        "id": "lKNPhtibq3-n",
        "outputId": "6e1d09a6-e6d4-4fd4-cce9-bb84b46b5274"
      },
      "source": [
        "lr_min,lr_steep = learn.lr_find()"
      ],
      "execution_count": null,
      "outputs": [
        {
          "output_type": "display_data",
          "data": {
            "text/html": [
              ""
            ],
            "text/plain": [
              "<IPython.core.display.HTML object>"
            ]
          },
          "metadata": {
            "tags": []
          }
        },
        {
          "output_type": "display_data",
          "data": {
            "image/png": "[encoded data removed]",
            "text/plain": [
              "<Figure size 432x288 with 1 Axes>"
            ]
          },
          "metadata": {
            "tags": [],
            "needs_background": "light"
          }
        }
      ]
    },
    {
      "cell_type": "code",
      "metadata": {
        "colab": {
          "base_uri": "https://localhost:8080/"
        },
        "id": "0T1ryEDvrCao",
        "outputId": "3b15eaca-8a2a-4cb2-8c33-6f432b48030a"
      },
      "source": [
        "print((lr_min,lr_steep))"
      ],
      "execution_count": null,
      "outputs": [
        {
          "output_type": "stream",
          "text": [
            "(6.309573450380412e-08, 1.3182567499825382e-06)\n"
          ],
          "name": "stdout"
        }
      ]
    },
    {
      "cell_type": "code",
      "metadata": {
        "colab": {
          "base_uri": "https://localhost:8080/",
          "height": 265
        },
        "id": "266mC_G_ri4T",
        "outputId": "d4767a87-505f-4a75-d442-68309dc2f9f5"
      },
      "source": [
        "learn.recorder.plot_loss()"
      ],
      "execution_count": null,
      "outputs": [
        {
          "output_type": "display_data",
          "data": {
            "image/png": "[encoded data removed]",
            "text/plain": [
              "<Figure size 432x288 with 1 Axes>"
            ]
          },
          "metadata": {
            "tags": [],
            "needs_background": "light"
          }
        }
      ]
    },
    {
      "cell_type": "code",
      "metadata": {
        "colab": {
          "base_uri": "https://localhost:8080/"
        },
        "id": "b6Vsa-7wUWx8",
        "outputId": "7213b7fd-ecb8-4078-9f65-43eee3d1dd4a"
      },
      "source": [
        "learn.save('/content/gdrive/My Drive/fastai/4epoch-finetune')"
      ],
      "execution_count": null,
      "outputs": [
        {
          "output_type": "execute_result",
          "data": {
            "text/plain": [
              "Path('/content/gdrive/My Drive/fastai/4epoch-finetune.pth')"
            ]
          },
          "metadata": {
            "tags": []
          },
          "execution_count": 22
        }
      ]
    },
    {
      "cell_type": "code",
      "metadata": {
        "colab": {
          "base_uri": "https://localhost:8080/",
          "height": 283
        },
        "id": "M8yNM-AFsZZr",
        "outputId": "5ef5fa96-1432-46a3-afd6-5406beb58250"
      },
      "source": [
        "lr_min,lr_steep = learn.lr_find()"
      ],
      "execution_count": null,
      "outputs": [
        {
          "output_type": "display_data",
          "data": {
            "text/html": [
              ""
            ],
            "text/plain": [
              "<IPython.core.display.HTML object>"
            ]
          },
          "metadata": {
            "tags": []
          }
        },
        {
          "output_type": "display_data",
          "data": {
            "image/png": "[encoded data removed]",
            "text/plain": [
              "<Figure size 432x288 with 1 Axes>"
            ]
          },
          "metadata": {
            "tags": [],
            "needs_background": "light"
          }
        }
      ]
    },
    {
      "cell_type": "markdown",
      "metadata": {
        "id": "OMYyIzO2a--8"
      },
      "source": [
        "## Fine Tunning Language Model before Classsification"
      ]
    },
    {
      "cell_type": "code",
      "metadata": {
        "id": "XQuuhpkqzdjb"
      },
      "source": [
        "huffpost_lm = DataBlock(blocks=TextBlock.from_df('text', is_lm=True),\r\n",
        "                        get_x=ColReader('text'),\r\n",
        "                        splitter=ColSplitter())"
      ],
      "execution_count": null,
      "outputs": []
    },
    {
      "cell_type": "code",
      "metadata": {
        "colab": {
          "base_uri": "https://localhost:8080/",
          "height": 901
        },
        "id": "WZ5te8Ds2S1U",
        "outputId": "fdfc6989-0b0f-42f6-dd48-46c3df3ca2fa"
      },
      "source": [
        "dls_lm = huffpost_lm.dataloaders(train_validation, bs=64, seq_len=72)\r\n",
        "dls_lm.show_batch(max_n=6)"
      ],
      "execution_count": null,
      "outputs": [
        {
          "output_type": "display_data",
          "data": {
            "text/html": [
              ""
            ],
            "text/plain": [
              "<IPython.core.display.HTML object>"
            ]
          },
          "metadata": {
            "tags": []
          }
        },
        {
          "output_type": "stream",
          "text": [
            "/usr/local/lib/python3.6/dist-packages/numpy/core/_asarray.py:83: VisibleDeprecationWarning: Creating an ndarray from ragged nested sequences (which is a list-or-tuple of lists-or-tuples-or ndarrays with different lengths or shapes) is deprecated. If you meant to do this, you must specify 'dtype=object' when creating the ndarray\n",
            "  return array(a, dtype, copy=False, order=order)\n"
          ],
          "name": "stderr"
        },
        {
          "output_type": "display_data",
          "data": {
            "text/html": [
              "<table border=\"1\" class=\"dataframe\">\n",
              "  <thead>\n",
              "    <tr style=\"text-align: right;\">\n",
              "      <th></th>\n",
              "      <th>text</th>\n",
              "      <th>text_</th>\n",
              "    </tr>\n",
              "  </thead>\n",
              "  <tbody>\n",
              "    <tr>\n",
              "      <th>0</th>\n",
              "      <td>xxbos xxmaj how xxmaj practice xxmaj xxunk xxmaj the xxmaj brain xxbos 8 xxmaj tips on xxmaj telling xxmaj your xxmaj kids xxmaj you 're xxmaj getting a xxmaj divorce xxbos ' groundbreaking ' xxmaj trial xxmaj will xxmaj test cancer - sniffing xxmaj dogs xxbos xxmaj legionnaires ' xxmaj disease xxmaj is xxmaj back xxmaj in xxup nyc xxmaj with xxmaj new xxmaj cluster xxbos xxmaj amber mcdonald xxmaj of xxmaj</td>\n",
              "      <td>xxmaj how xxmaj practice xxmaj xxunk xxmaj the xxmaj brain xxbos 8 xxmaj tips on xxmaj telling xxmaj your xxmaj kids xxmaj you 're xxmaj getting a xxmaj divorce xxbos ' groundbreaking ' xxmaj trial xxmaj will xxmaj test cancer - sniffing xxmaj dogs xxbos xxmaj legionnaires ' xxmaj disease xxmaj is xxmaj back xxmaj in xxup nyc xxmaj with xxmaj new xxmaj cluster xxbos xxmaj amber mcdonald xxmaj of xxmaj the</td>\n",
              "    </tr>\n",
              "    <tr>\n",
              "      <th>1</th>\n",
              "      <td>xxbos xxmaj remove xxmaj water xxmaj marks xxmaj from xxmaj wood xxmaj with a xxmaj hair xxmaj dryer xxbos xxmaj aly xxmaj raisman : ' this xxmaj is xxmaj bigger xxmaj than xxmaj larry xxmaj nassar ' xxbos xxmaj how xxmaj xxunk xxmaj the xxup gop xxmaj debates xxmaj could xxmaj solve xxmaj our xxmaj nation 's xxmaj energy xxmaj needs xxbos xxmaj at the xxmaj top of xxmaj my xxmaj lungs</td>\n",
              "      <td>xxmaj remove xxmaj water xxmaj marks xxmaj from xxmaj wood xxmaj with a xxmaj hair xxmaj dryer xxbos xxmaj aly xxmaj raisman : ' this xxmaj is xxmaj bigger xxmaj than xxmaj larry xxmaj nassar ' xxbos xxmaj how xxmaj xxunk xxmaj the xxup gop xxmaj debates xxmaj could xxmaj solve xxmaj our xxmaj nation 's xxmaj energy xxmaj needs xxbos xxmaj at the xxmaj top of xxmaj my xxmaj lungs :</td>\n",
              "    </tr>\n",
              "    <tr>\n",
              "      <th>2</th>\n",
              "      <td>xxmaj foundation xxmaj donates $ 10 xxmaj million xxmaj to xxup usc xxmaj film xxmaj school xxbos xxmaj xxunk xxmaj xxunk xxmaj becomes xxmaj first xxup u.s . xxmaj woman xxmaj to xxmaj win xxup nyc xxmaj marathon xxmaj in 40 xxmaj years xxbos 17 xxmaj suggestions for xxmaj choosing xxmaj classes in xxmaj college xxbos ' if xxmaj the xxmaj right xxmaj people xxmaj pay xxmaj attention , xxmaj anything xxmaj</td>\n",
              "      <td>foundation xxmaj donates $ 10 xxmaj million xxmaj to xxup usc xxmaj film xxmaj school xxbos xxmaj xxunk xxmaj xxunk xxmaj becomes xxmaj first xxup u.s . xxmaj woman xxmaj to xxmaj win xxup nyc xxmaj marathon xxmaj in 40 xxmaj years xxbos 17 xxmaj suggestions for xxmaj choosing xxmaj classes in xxmaj college xxbos ' if xxmaj the xxmaj right xxmaj people xxmaj pay xxmaj attention , xxmaj anything xxmaj can</td>\n",
              "    </tr>\n",
              "    <tr>\n",
              "      <th>3</th>\n",
              "      <td>xxmaj prep xxmaj skin for xxmaj winter xxbos xxmaj celebs xxmaj reveal xxmaj trump 's ' alternative xxmaj constitution ' xxmaj in xxmaj funny xxmaj or xxmaj die xxmaj bit xxbos xxmaj sandra xxmaj valls : a xxmaj xxunk xxmaj with xxmaj comedy , xxmaj music in xxmaj her xxmaj heart xxbos xxmaj how xxmaj to xxmaj avoid xxmaj school xxmaj choice xxmaj accountability xxbos xxmaj now xxmaj that 's xxmaj what</td>\n",
              "      <td>prep xxmaj skin for xxmaj winter xxbos xxmaj celebs xxmaj reveal xxmaj trump 's ' alternative xxmaj constitution ' xxmaj in xxmaj funny xxmaj or xxmaj die xxmaj bit xxbos xxmaj sandra xxmaj valls : a xxmaj xxunk xxmaj with xxmaj comedy , xxmaj music in xxmaj her xxmaj heart xxbos xxmaj how xxmaj to xxmaj avoid xxmaj school xxmaj choice xxmaj accountability xxbos xxmaj now xxmaj that 's xxmaj what i</td>\n",
              "    </tr>\n",
              "    <tr>\n",
              "      <th>4</th>\n",
              "      <td>xxmaj readers xxmaj share xxmaj photos xxmaj of xxmaj their xxmaj pets xxmaj celebrating xxmaj their xxmaj big xxmaj days ( photos ) xxbos xxmaj drawing for the xxmaj soul xxbos ' coal 101 , ' xxmaj sierra xxmaj club xxmaj video , xxmaj targets xxmaj controversial xxmaj energy xxmaj source xxbos xxmaj why ' getting xxmaj over xxmaj it ' xxmaj is a xxmaj myth xxmaj you xxmaj should xxmaj ignore</td>\n",
              "      <td>readers xxmaj share xxmaj photos xxmaj of xxmaj their xxmaj pets xxmaj celebrating xxmaj their xxmaj big xxmaj days ( photos ) xxbos xxmaj drawing for the xxmaj soul xxbos ' coal 101 , ' xxmaj sierra xxmaj club xxmaj video , xxmaj targets xxmaj controversial xxmaj energy xxmaj source xxbos xxmaj why ' getting xxmaj over xxmaj it ' xxmaj is a xxmaj myth xxmaj you xxmaj should xxmaj ignore xxbos</td>\n",
              "    </tr>\n",
              "    <tr>\n",
              "      <th>5</th>\n",
              "      <td>do n't xxmaj violate xxmaj my xxmaj human xxmaj rights xxbos xxmaj on xxmaj surviving a xxmaj brain xxmaj cancer xxmaj death xxmaj sentence xxbos xxmaj the xxmaj xxunk xxmaj of xxmaj black xxmaj children : xxmaj tamir xxmaj rice , xxmaj kalief xxmaj browder xxmaj and xxmaj xxunk xxmaj xxunk xxbos xxmaj online xxmaj therapy xxmaj for xxmaj insomnia xxmaj could xxmaj help xxmaj you xxmaj sleep xxmaj better xxbos xxmaj</td>\n",
              "      <td>n't xxmaj violate xxmaj my xxmaj human xxmaj rights xxbos xxmaj on xxmaj surviving a xxmaj brain xxmaj cancer xxmaj death xxmaj sentence xxbos xxmaj the xxmaj xxunk xxmaj of xxmaj black xxmaj children : xxmaj tamir xxmaj rice , xxmaj kalief xxmaj browder xxmaj and xxmaj xxunk xxmaj xxunk xxbos xxmaj online xxmaj therapy xxmaj for xxmaj insomnia xxmaj could xxmaj help xxmaj you xxmaj sleep xxmaj better xxbos xxmaj harry</td>\n",
              "    </tr>\n",
              "  </tbody>\n",
              "</table>"
            ],
            "text/plain": [
              "<IPython.core.display.HTML object>"
            ]
          },
          "metadata": {
            "tags": []
          }
        }
      ]
    },
    {
      "cell_type": "code",
      "metadata": {
        "id": "XGlOwAxt2hwP",
        "colab": {
          "base_uri": "https://localhost:8080/",
          "height": 17
        },
        "outputId": "f49d54bc-ec00-4568-fe7d-ec445fbed1cc"
      },
      "source": [
        "learn_lm = language_model_learner(\r\n",
        "    dls_lm, AWD_LSTM, drop_mult=0.3, \r\n",
        "    metrics=[accuracy, Perplexity()]).to_fp16()"
      ],
      "execution_count": null,
      "outputs": [
        {
          "output_type": "display_data",
          "data": {
            "text/html": [
              ""
            ],
            "text/plain": [
              "<IPython.core.display.HTML object>"
            ]
          },
          "metadata": {
            "tags": []
          }
        }
      ]
    },
    {
      "cell_type": "code",
      "metadata": {
        "colab": {
          "base_uri": "https://localhost:8080/",
          "height": 283
        },
        "id": "sUGu6gbwbSON",
        "outputId": "ff53bd3d-8633-43a9-8a4c-6ffe93f6b9f6"
      },
      "source": [
        "lr_min,lr_steep = learn_lm.lr_find()"
      ],
      "execution_count": null,
      "outputs": [
        {
          "output_type": "display_data",
          "data": {
            "text/html": [
              ""
            ],
            "text/plain": [
              "<IPython.core.display.HTML object>"
            ]
          },
          "metadata": {
            "tags": []
          }
        },
        {
          "output_type": "display_data",
          "data": {
            "image/png": "[encoded data removed]",
            "text/plain": [
              "<Figure size 432x288 with 1 Axes>"
            ]
          },
          "metadata": {
            "tags": [],
            "needs_background": "light"
          }
        }
      ]
    },
    {
      "cell_type": "code",
      "metadata": {
        "colab": {
          "base_uri": "https://localhost:8080/"
        },
        "id": "eKhEXoCMcoFw",
        "outputId": "3360b029-6290-477e-9284-beb2e7a571ab"
      },
      "source": [
        "print((lr_min,lr_steep))"
      ],
      "execution_count": null,
      "outputs": [
        {
          "output_type": "stream",
          "text": [
            "(0.05248074531555176, 0.033113110810518265)\n"
          ],
          "name": "stdout"
        }
      ]
    },
    {
      "cell_type": "code",
      "metadata": {
        "colab": {
          "base_uri": "https://localhost:8080/",
          "height": 80
        },
        "id": "e0pXdlcZ4Fhs",
        "outputId": "75c5ce04-ddad-466c-edca-b9a1aa37bd79"
      },
      "source": [
        "learn_lm.fit_one_cycle(1, 0.044)"
      ],
      "execution_count": null,
      "outputs": [
        {
          "output_type": "display_data",
          "data": {
            "text/html": [
              "<table border=\"1\" class=\"dataframe\">\n",
              "  <thead>\n",
              "    <tr style=\"text-align: left;\">\n",
              "      <th>epoch</th>\n",
              "      <th>train_loss</th>\n",
              "      <th>valid_loss</th>\n",
              "      <th>accuracy</th>\n",
              "      <th>perplexity</th>\n",
              "      <th>time</th>\n",
              "    </tr>\n",
              "  </thead>\n",
              "  <tbody>\n",
              "    <tr>\n",
              "      <td>0</td>\n",
              "      <td>3.123488</td>\n",
              "      <td>3.005589</td>\n",
              "      <td>0.523635</td>\n",
              "      <td>20.198118</td>\n",
              "      <td>03:54</td>\n",
              "    </tr>\n",
              "  </tbody>\n",
              "</table>"
            ],
            "text/plain": [
              "<IPython.core.display.HTML object>"
            ]
          },
          "metadata": {
            "tags": []
          }
        }
      ]
    },
    {
      "cell_type": "code",
      "metadata": {
        "colab": {
          "base_uri": "https://localhost:8080/"
        },
        "id": "GSeepLc45ZHA",
        "outputId": "83b9e47d-fd8b-4d8b-a2d4-f869e09e0965"
      },
      "source": [
        "learn_lm.save('/content/gdrive/My Drive/fastai/1epoch_new')"
      ],
      "execution_count": null,
      "outputs": [
        {
          "output_type": "execute_result",
          "data": {
            "text/plain": [
              "Path('/content/gdrive/My Drive/fastai/1epoch_new.pth')"
            ]
          },
          "metadata": {
            "tags": []
          },
          "execution_count": 30
        }
      ]
    },
    {
      "cell_type": "code",
      "metadata": {
        "colab": {
          "base_uri": "https://localhost:8080/",
          "height": 359
        },
        "id": "0_ngnFDH6iYb",
        "outputId": "821e9967-0472-4b2b-a66e-76bfeae4176d"
      },
      "source": [
        "learn_lm = learn_lm.load('/content/gdrive/My Drive/fastai/1epoch_new')\r\n",
        "learn_lm.unfreeze()\r\n",
        "learn_lm.fit_one_cycle(10, 2e-5)"
      ],
      "execution_count": null,
      "outputs": [
        {
          "output_type": "display_data",
          "data": {
            "text/html": [
              "<table border=\"1\" class=\"dataframe\">\n",
              "  <thead>\n",
              "    <tr style=\"text-align: left;\">\n",
              "      <th>epoch</th>\n",
              "      <th>train_loss</th>\n",
              "      <th>valid_loss</th>\n",
              "      <th>accuracy</th>\n",
              "      <th>perplexity</th>\n",
              "      <th>time</th>\n",
              "    </tr>\n",
              "  </thead>\n",
              "  <tbody>\n",
              "    <tr>\n",
              "      <td>0</td>\n",
              "      <td>2.882330</td>\n",
              "      <td>2.995535</td>\n",
              "      <td>0.525793</td>\n",
              "      <td>19.996054</td>\n",
              "      <td>14:03</td>\n",
              "    </tr>\n",
              "    <tr>\n",
              "      <td>1</td>\n",
              "      <td>2.835341</td>\n",
              "      <td>2.967003</td>\n",
              "      <td>0.529167</td>\n",
              "      <td>19.433588</td>\n",
              "      <td>14:02</td>\n",
              "    </tr>\n",
              "    <tr>\n",
              "      <td>2</td>\n",
              "      <td>2.803826</td>\n",
              "      <td>2.944815</td>\n",
              "      <td>0.531793</td>\n",
              "      <td>19.007149</td>\n",
              "      <td>14:02</td>\n",
              "    </tr>\n",
              "    <tr>\n",
              "      <td>3</td>\n",
              "      <td>2.784666</td>\n",
              "      <td>2.929408</td>\n",
              "      <td>0.533563</td>\n",
              "      <td>18.716549</td>\n",
              "      <td>14:00</td>\n",
              "    </tr>\n",
              "    <tr>\n",
              "      <td>4</td>\n",
              "      <td>2.772893</td>\n",
              "      <td>2.919303</td>\n",
              "      <td>0.534686</td>\n",
              "      <td>18.528362</td>\n",
              "      <td>13:49</td>\n",
              "    </tr>\n",
              "    <tr>\n",
              "      <td>5</td>\n",
              "      <td>2.762440</td>\n",
              "      <td>2.912461</td>\n",
              "      <td>0.535240</td>\n",
              "      <td>18.402021</td>\n",
              "      <td>13:46</td>\n",
              "    </tr>\n",
              "    <tr>\n",
              "      <td>6</td>\n",
              "      <td>2.751006</td>\n",
              "      <td>2.908089</td>\n",
              "      <td>0.535916</td>\n",
              "      <td>18.321747</td>\n",
              "      <td>13:44</td>\n",
              "    </tr>\n",
              "    <tr>\n",
              "      <td>7</td>\n",
              "      <td>2.756729</td>\n",
              "      <td>2.906188</td>\n",
              "      <td>0.536213</td>\n",
              "      <td>18.286951</td>\n",
              "      <td>13:44</td>\n",
              "    </tr>\n",
              "    <tr>\n",
              "      <td>8</td>\n",
              "      <td>2.749248</td>\n",
              "      <td>2.905162</td>\n",
              "      <td>0.536299</td>\n",
              "      <td>18.268209</td>\n",
              "      <td>13:43</td>\n",
              "    </tr>\n",
              "    <tr>\n",
              "      <td>9</td>\n",
              "      <td>2.755079</td>\n",
              "      <td>2.905041</td>\n",
              "      <td>0.536304</td>\n",
              "      <td>18.265997</td>\n",
              "      <td>13:41</td>\n",
              "    </tr>\n",
              "  </tbody>\n",
              "</table>"
            ],
            "text/plain": [
              "<IPython.core.display.HTML object>"
            ]
          },
          "metadata": {
            "tags": []
          }
        }
      ]
    },
    {
      "cell_type": "code",
      "metadata": {
        "id": "IgK4z_jbigrd"
      },
      "source": [
        "learn_lm.save_encoder('/content/gdrive/My Drive/fastai/finetuned_new2')"
      ],
      "execution_count": null,
      "outputs": []
    },
    {
      "cell_type": "code",
      "metadata": {
        "colab": {
          "base_uri": "https://localhost:8080/",
          "height": 35
        },
        "id": "eggxXpPeeivK",
        "outputId": "1392921d-1a0f-409c-e939-5168341464a9"
      },
      "source": [
        "TEXT = \"President Trump said yesterday: \"\r\n",
        "N_WORDS = 20\r\n",
        "learn_lm.predict(TEXT, N_WORDS, temperature=0.4)"
      ],
      "execution_count": null,
      "outputs": [
        {
          "output_type": "display_data",
          "data": {
            "text/html": [
              ""
            ],
            "text/plain": [
              "<IPython.core.display.HTML object>"
            ]
          },
          "metadata": {
            "tags": []
          }
        },
        {
          "output_type": "execute_result",
          "data": {
            "application/vnd.google.colaboratory.intrinsic+json": {
              "type": "string"
            },
            "text/plain": [
              "\"President Trump said yesterday : There 's a Lot Of The Way To Be President\""
            ]
          },
          "metadata": {
            "tags": []
          },
          "execution_count": 35
        }
      ]
    },
    {
      "cell_type": "code",
      "metadata": {
        "colab": {
          "base_uri": "https://localhost:8080/",
          "height": 71
        },
        "id": "jFHnqKgIe6Sw",
        "outputId": "937def56-80eb-4a78-d5d3-4d7853ad0a2a"
      },
      "source": [
        "dls_clas = huffpost.dataloaders(train_validation, bs=64, seq_len=50, vocab=dls_lm.vocab)"
      ],
      "execution_count": null,
      "outputs": [
        {
          "output_type": "display_data",
          "data": {
            "text/html": [
              ""
            ],
            "text/plain": [
              "<IPython.core.display.HTML object>"
            ]
          },
          "metadata": {
            "tags": []
          }
        },
        {
          "output_type": "stream",
          "text": [
            "/usr/local/lib/python3.6/dist-packages/numpy/core/_asarray.py:83: VisibleDeprecationWarning: Creating an ndarray from ragged nested sequences (which is a list-or-tuple of lists-or-tuples-or ndarrays with different lengths or shapes) is deprecated. If you meant to do this, you must specify 'dtype=object' when creating the ndarray\n",
            "  return array(a, dtype, copy=False, order=order)\n"
          ],
          "name": "stderr"
        }
      ]
    },
    {
      "cell_type": "code",
      "metadata": {
        "colab": {
          "base_uri": "https://localhost:8080/",
          "height": 278
        },
        "id": "JQ4bk1Loft1k",
        "outputId": "7137d1e1-bd3a-4096-b1ed-7d979cc21c64"
      },
      "source": [
        "dls_clas.show_batch(max_n=3)"
      ],
      "execution_count": null,
      "outputs": [
        {
          "output_type": "display_data",
          "data": {
            "text/html": [
              "<table border=\"1\" class=\"dataframe\">\n",
              "  <thead>\n",
              "    <tr style=\"text-align: right;\">\n",
              "      <th></th>\n",
              "      <th>text</th>\n",
              "      <th>category</th>\n",
              "    </tr>\n",
              "  </thead>\n",
              "  <tbody>\n",
              "    <tr>\n",
              "      <th>0</th>\n",
              "      <td>xxbos xxmaj chats with xxmaj xxunk xxmaj xxunk , xxmaj michelle xxmaj phillips , xxmaj lee xxmaj xxunk , xxmaj ian xxmaj thomas and xxmaj young xxmaj gun xxmaj silver xxmaj fox 's xxmaj shawn xxmaj lee , xxmaj plus xxmaj joey xxmaj alexander , xxmaj xxunk , xxmaj xxunk xxmaj xxunk , m xxmaj ross xxmaj perkins , xxmaj morgan 's xxmaj road , xxmaj xxunk , xxmaj dave mcgraw &amp; xxmaj mandy xxmaj xxunk , xxmaj unconscious xxmaj xxunk , i xxmaj the xxmaj mighty , and xxmaj the xxmaj junior xxmaj league xxmaj exclusives</td>\n",
              "      <td>ENTERTAINMENT</td>\n",
              "    </tr>\n",
              "    <tr>\n",
              "      <th>1</th>\n",
              "      <td>xxbos xxmaj mommy xxmaj confidential : xxmaj soleil xxmaj moon xxmaj frye xxmaj reveals xxmaj her ' aha ' xxmaj mom xxmaj moment , the xxmaj one xxmaj item xxmaj always in xxmaj her xxmaj bag and the xxmaj art of xxmaj imperfect xxmaj parenting</td>\n",
              "      <td>PARENTING</td>\n",
              "    </tr>\n",
              "    <tr>\n",
              "      <th>2</th>\n",
              "      <td>xxbos xxmaj julie xxmaj xxunk xxmaj and xxmaj james xxmaj xxunk , xxmaj owners xxmaj of xxmaj the xxmaj exposed xxmaj glass xxmaj shower xxmaj in xxmaj xxunk xxmaj hill , xxmaj brooklyn xxmaj respond xxmaj with xxmaj giant xxmaj letter ( photos )</td>\n",
              "      <td>HOME &amp; LIVING</td>\n",
              "    </tr>\n",
              "  </tbody>\n",
              "</table>"
            ],
            "text/plain": [
              "<IPython.core.display.HTML object>"
            ]
          },
          "metadata": {
            "tags": []
          }
        }
      ]
    },
    {
      "cell_type": "code",
      "metadata": {
        "id": "HKkzUGYCg54m"
      },
      "source": [
        "learn_clas = text_classifier_learner(dls_clas, AWD_LSTM, drop_mult=0.5, metrics=accuracy).to_fp16()"
      ],
      "execution_count": null,
      "outputs": []
    },
    {
      "cell_type": "code",
      "metadata": {
        "id": "v9T7dOvLhBRe"
      },
      "source": [
        "learn_clas = learn_clas.load_encoder('/content/gdrive/My Drive/fastai/finetuned_new2')"
      ],
      "execution_count": null,
      "outputs": []
    },
    {
      "cell_type": "code",
      "metadata": {
        "colab": {
          "base_uri": "https://localhost:8080/",
          "height": 300
        },
        "id": "Kfl12RSMOcCD",
        "outputId": "d1c0c106-243f-4bfc-e799-5bf284c074e8"
      },
      "source": [
        "lr_min,lr_steep = learn_clas.lr_find()\r\n",
        "print((lr_min,lr_steep))"
      ],
      "execution_count": null,
      "outputs": [
        {
          "output_type": "display_data",
          "data": {
            "text/html": [
              ""
            ],
            "text/plain": [
              "<IPython.core.display.HTML object>"
            ]
          },
          "metadata": {
            "tags": []
          }
        },
        {
          "output_type": "stream",
          "text": [
            "(0.03019951581954956, 0.019054606556892395)\n"
          ],
          "name": "stdout"
        },
        {
          "output_type": "display_data",
          "data": {
            "image/png": "[encoded data removed]",
            "text/plain": [
              "<Figure size 432x288 with 1 Axes>"
            ]
          },
          "metadata": {
            "tags": [],
            "needs_background": "light"
          }
        }
      ]
    },
    {
      "cell_type": "code",
      "metadata": {
        "colab": {
          "base_uri": "https://localhost:8080/",
          "height": 80
        },
        "id": "PzJr1p3-hfxy",
        "outputId": "52262acc-934d-45b3-e90f-30a8d6e8c929"
      },
      "source": [
        "learn_clas.fit_one_cycle(1, 2e-2)"
      ],
      "execution_count": null,
      "outputs": [
        {
          "output_type": "display_data",
          "data": {
            "text/html": [
              "<table border=\"1\" class=\"dataframe\">\n",
              "  <thead>\n",
              "    <tr style=\"text-align: left;\">\n",
              "      <th>epoch</th>\n",
              "      <th>train_loss</th>\n",
              "      <th>valid_loss</th>\n",
              "      <th>accuracy</th>\n",
              "      <th>time</th>\n",
              "    </tr>\n",
              "  </thead>\n",
              "  <tbody>\n",
              "    <tr>\n",
              "      <td>0</td>\n",
              "      <td>2.063632</td>\n",
              "      <td>1.814316</td>\n",
              "      <td>0.495160</td>\n",
              "      <td>05:47</td>\n",
              "    </tr>\n",
              "  </tbody>\n",
              "</table>"
            ],
            "text/plain": [
              "<IPython.core.display.HTML object>"
            ]
          },
          "metadata": {
            "tags": []
          }
        }
      ]
    },
    {
      "cell_type": "code",
      "metadata": {
        "colab": {
          "base_uri": "https://localhost:8080/",
          "height": 80
        },
        "id": "o1lfX11thsnm",
        "outputId": "f2bd57dd-5b6f-4be9-91cf-bd46dfd21f41"
      },
      "source": [
        "learn_clas.freeze_to(-2)\r\n",
        "learn_clas.fit_one_cycle(1, slice(1e-2/(2.6**4),1e-2))"
      ],
      "execution_count": null,
      "outputs": [
        {
          "output_type": "display_data",
          "data": {
            "text/html": [
              "<table border=\"1\" class=\"dataframe\">\n",
              "  <thead>\n",
              "    <tr style=\"text-align: left;\">\n",
              "      <th>epoch</th>\n",
              "      <th>train_loss</th>\n",
              "      <th>valid_loss</th>\n",
              "      <th>accuracy</th>\n",
              "      <th>time</th>\n",
              "    </tr>\n",
              "  </thead>\n",
              "  <tbody>\n",
              "    <tr>\n",
              "      <td>0</td>\n",
              "      <td>1.758300</td>\n",
              "      <td>1.602449</td>\n",
              "      <td>0.557670</td>\n",
              "      <td>06:06</td>\n",
              "    </tr>\n",
              "  </tbody>\n",
              "</table>"
            ],
            "text/plain": [
              "<IPython.core.display.HTML object>"
            ]
          },
          "metadata": {
            "tags": []
          }
        }
      ]
    },
    {
      "cell_type": "code",
      "metadata": {
        "colab": {
          "base_uri": "https://localhost:8080/",
          "height": 80
        },
        "id": "SnHZYoxYipEv",
        "outputId": "4e6ac463-8024-4476-e5e1-edcb25fb4385"
      },
      "source": [
        "learn_clas.freeze_to(-3)\r\n",
        "learn_clas.fit_one_cycle(1, slice(5e-3/(2.6**4),5e-3))"
      ],
      "execution_count": null,
      "outputs": [
        {
          "output_type": "display_data",
          "data": {
            "text/html": [
              "<table border=\"1\" class=\"dataframe\">\n",
              "  <thead>\n",
              "    <tr style=\"text-align: left;\">\n",
              "      <th>epoch</th>\n",
              "      <th>train_loss</th>\n",
              "      <th>valid_loss</th>\n",
              "      <th>accuracy</th>\n",
              "      <th>time</th>\n",
              "    </tr>\n",
              "  </thead>\n",
              "  <tbody>\n",
              "    <tr>\n",
              "      <td>0</td>\n",
              "      <td>1.583106</td>\n",
              "      <td>1.432207</td>\n",
              "      <td>0.596227</td>\n",
              "      <td>07:12</td>\n",
              "    </tr>\n",
              "  </tbody>\n",
              "</table>"
            ],
            "text/plain": [
              "<IPython.core.display.HTML object>"
            ]
          },
          "metadata": {
            "tags": []
          }
        }
      ]
    },
    {
      "cell_type": "code",
      "metadata": {
        "colab": {
          "base_uri": "https://localhost:8080/",
          "height": 111
        },
        "id": "3fQobK0okqu_",
        "outputId": "596aaada-2367-4c0a-fac0-f710413d39ca"
      },
      "source": [
        "learn_clas.unfreeze()\r\n",
        "learn_clas.fit_one_cycle(2, slice(1e-3/(2.6**4),1e-3))"
      ],
      "execution_count": null,
      "outputs": [
        {
          "output_type": "display_data",
          "data": {
            "text/html": [
              "<table border=\"1\" class=\"dataframe\">\n",
              "  <thead>\n",
              "    <tr style=\"text-align: left;\">\n",
              "      <th>epoch</th>\n",
              "      <th>train_loss</th>\n",
              "      <th>valid_loss</th>\n",
              "      <th>accuracy</th>\n",
              "      <th>time</th>\n",
              "    </tr>\n",
              "  </thead>\n",
              "  <tbody>\n",
              "    <tr>\n",
              "      <td>0</td>\n",
              "      <td>1.528085</td>\n",
              "      <td>1.387734</td>\n",
              "      <td>0.604470</td>\n",
              "      <td>09:06</td>\n",
              "    </tr>\n",
              "    <tr>\n",
              "      <td>1</td>\n",
              "      <td>1.407262</td>\n",
              "      <td>1.372689</td>\n",
              "      <td>0.609227</td>\n",
              "      <td>09:07</td>\n",
              "    </tr>\n",
              "  </tbody>\n",
              "</table>"
            ],
            "text/plain": [
              "<IPython.core.display.HTML object>"
            ]
          },
          "metadata": {
            "tags": []
          }
        }
      ]
    },
    {
      "cell_type": "code",
      "metadata": {
        "colab": {
          "base_uri": "https://localhost:8080/",
          "height": 111
        },
        "id": "N5YDs73Qpm_Z",
        "outputId": "b2caabd4-1129-43cf-9f74-5136849c7c88"
      },
      "source": [
        "learn_clas.fit_one_cycle(2, slice(1e-3/(2.6**4),1e-3))"
      ],
      "execution_count": null,
      "outputs": [
        {
          "output_type": "display_data",
          "data": {
            "text/html": [
              "<table border=\"1\" class=\"dataframe\">\n",
              "  <thead>\n",
              "    <tr style=\"text-align: left;\">\n",
              "      <th>epoch</th>\n",
              "      <th>train_loss</th>\n",
              "      <th>valid_loss</th>\n",
              "      <th>accuracy</th>\n",
              "      <th>time</th>\n",
              "    </tr>\n",
              "  </thead>\n",
              "  <tbody>\n",
              "    <tr>\n",
              "      <td>0</td>\n",
              "      <td>1.438617</td>\n",
              "      <td>1.355775</td>\n",
              "      <td>0.614095</td>\n",
              "      <td>09:06</td>\n",
              "    </tr>\n",
              "    <tr>\n",
              "      <td>1</td>\n",
              "      <td>1.306016</td>\n",
              "      <td>1.343824</td>\n",
              "      <td>0.617470</td>\n",
              "      <td>09:07</td>\n",
              "    </tr>\n",
              "  </tbody>\n",
              "</table>"
            ],
            "text/plain": [
              "<IPython.core.display.HTML object>"
            ]
          },
          "metadata": {
            "tags": []
          }
        }
      ]
    },
    {
      "cell_type": "code",
      "metadata": {
        "colab": {
          "base_uri": "https://localhost:8080/",
          "height": 111
        },
        "id": "smPqkExWrX8S",
        "outputId": "718c546c-0c6d-466c-8505-2c53a01bf59a"
      },
      "source": [
        "learn_clas.fit_one_cycle(2, slice(1e-3/(2.6**4),1e-3))"
      ],
      "execution_count": null,
      "outputs": [
        {
          "output_type": "display_data",
          "data": {
            "text/html": [
              "<table border=\"1\" class=\"dataframe\">\n",
              "  <thead>\n",
              "    <tr style=\"text-align: left;\">\n",
              "      <th>epoch</th>\n",
              "      <th>train_loss</th>\n",
              "      <th>valid_loss</th>\n",
              "      <th>accuracy</th>\n",
              "      <th>time</th>\n",
              "    </tr>\n",
              "  </thead>\n",
              "  <tbody>\n",
              "    <tr>\n",
              "      <td>0</td>\n",
              "      <td>1.285581</td>\n",
              "      <td>1.334261</td>\n",
              "      <td>0.617857</td>\n",
              "      <td>09:06</td>\n",
              "    </tr>\n",
              "    <tr>\n",
              "      <td>1</td>\n",
              "      <td>1.290238</td>\n",
              "      <td>1.326815</td>\n",
              "      <td>0.621397</td>\n",
              "      <td>09:07</td>\n",
              "    </tr>\n",
              "  </tbody>\n",
              "</table>"
            ],
            "text/plain": [
              "<IPython.core.display.HTML object>"
            ]
          },
          "metadata": {
            "tags": []
          }
        }
      ]
    },
    {
      "cell_type": "code",
      "metadata": {
        "colab": {
          "base_uri": "https://localhost:8080/"
        },
        "id": "-EnIddwq4QY5",
        "outputId": "7b3a57ca-e3bc-44fb-bbf6-5e440fbab222"
      },
      "source": [
        "learn_clas.save('/content/gdrive/My Drive/fastai/encoderretrained-many-epochs_new2')"
      ],
      "execution_count": null,
      "outputs": [
        {
          "output_type": "execute_result",
          "data": {
            "text/plain": [
              "Path('/content/gdrive/My Drive/fastai/encoderretrained-many-epochs_new2.pth')"
            ]
          },
          "metadata": {
            "tags": []
          },
          "execution_count": 39
        }
      ]
    },
    {
      "cell_type": "code",
      "metadata": {
        "colab": {
          "base_uri": "https://localhost:8080/"
        },
        "id": "3Zc5oLfgZi9A",
        "outputId": "cd9547bd-d723-483a-d5f7-9fcd7cf746b3"
      },
      "source": [
        "learn_clas.save('/content/gdrive/My Drive/fastai/encoderretrained-many-epochs_new3')"
      ],
      "execution_count": null,
      "outputs": [
        {
          "output_type": "execute_result",
          "data": {
            "text/plain": [
              "Path('/content/gdrive/My Drive/fastai/encoderretrained-many-epochs_new3.pth')"
            ]
          },
          "metadata": {
            "tags": []
          },
          "execution_count": 41
        }
      ]
    },
    {
      "cell_type": "markdown",
      "metadata": {
        "id": "Tk9zSeWQnEQK"
      },
      "source": [
        "## Testing Model"
      ]
    },
    {
      "cell_type": "code",
      "metadata": {
        "id": "FTkD9En4nHl5"
      },
      "source": [
        "learn = learn.load('/content/gdrive/My Drive/fastai/4epoch-finetune')"
      ],
      "execution_count": 12,
      "outputs": []
    },
    {
      "cell_type": "code",
      "metadata": {
        "id": "zrx7iABro8Tt"
      },
      "source": [
        "dls_test = dls.test_dl(test, with_labels=True, bs=1024)"
      ],
      "execution_count": 14,
      "outputs": []
    },
    {
      "cell_type": "code",
      "metadata": {
        "colab": {
          "base_uri": "https://localhost:8080/",
          "height": 34
        },
        "id": "esblDFffrpQs",
        "outputId": "e4376ca8-d33e-42db-fd72-e57e5c9297e3"
      },
      "source": [
        "preds = learn.get_preds(dl=dls_test)\r\n",
        "learn.validate(dl=dls_test)"
      ],
      "execution_count": 15,
      "outputs": [
        {
          "output_type": "display_data",
          "data": {
            "text/html": [
              ""
            ],
            "text/plain": [
              "<IPython.core.display.HTML object>"
            ]
          },
          "metadata": {
            "tags": []
          }
        },
        {
          "output_type": "display_data",
          "data": {
            "text/html": [
              ""
            ],
            "text/plain": [
              "<IPython.core.display.HTML object>"
            ]
          },
          "metadata": {
            "tags": []
          }
        },
        {
          "output_type": "execute_result",
          "data": {
            "text/plain": [
              "(#2) [1.3095282316207886,0.6284974813461304]"
            ]
          },
          "metadata": {
            "tags": []
          },
          "execution_count": 15
        }
      ]
    },
    {
      "cell_type": "code",
      "metadata": {
        "id": "rFRklVBj3tvq"
      },
      "source": [
        "import os\r\n",
        "import numpy as np\r\n",
        "import pandas as pd\r\n",
        "import matplotlib.pyplot as plt\r\n",
        "from joblib import load, dump\r\n",
        "\r\n",
        "from sklearn.metrics import classification_report\r\n",
        "\r\n",
        "def get_model_filename(model_name, folder_path='Data', model_name_prefix='model_'):\r\n",
        "    return(os.path.join(folder_path,f\"{model_name_prefix}{model_name}.joblib\"))\r\n",
        "\r\n",
        "def save_model(model_dict):\r\n",
        "    filename = get_model_filename(model_dict['model_name'])\r\n",
        "    dump(model_dict,filename)\r\n",
        "\r\n",
        "def create_model_dict(model_name, model_description, search, test, predicted_test, rewrite=False):\r\n",
        "    \"\"\"\r\n",
        "    Function that creates and saves all information related to a model run\r\n",
        "    \"\"\"\r\n",
        "    filename = get_model_filename(model_name)\r\n",
        "    if not os.path.exists(filename) or rewrite:\r\n",
        "        test_copy = test.copy()\r\n",
        "        test_copy['pred'] = predicted_test\r\n",
        "        model_dict = {\r\n",
        "            'model_name': model_name,\r\n",
        "            'model_description': model_description,\r\n",
        "            'model_CV': search,\r\n",
        "            'model_results': test_copy\r\n",
        "        }\r\n",
        "        save_model(model_dict)\r\n",
        "        \r\n",
        "def consolidate_results(path='./Data'):\r\n",
        "    \"\"\"\r\n",
        "    Function that loads model result files from given path and\r\n",
        "    creates a Pandas dataframe with relevant information\r\n",
        "    \"\"\"\r\n",
        "    model_files = [load(os.path.join(path, f)) \r\n",
        "                   for f in os.listdir(path) if os.path.isfile(os.path.join(path, f)) and f.startswith('model_')]\r\n",
        "    df_final = pd.DataFrame(columns=['model_name','train_accuracy','test_accuracy',\r\n",
        "                                     'macro_avg_precision','macro_avg_recall',\r\n",
        "                                     'macro_avg_f1-score','weighted_avg_precision',\r\n",
        "                                     'weighted_avg_recall','weighted_avg_f1-score'])\r\n",
        "    for model_file in model_files:\r\n",
        "        results = model_file['model_results']\r\n",
        "        class_report = classification_report(results.category, results.pred, output_dict=True)\r\n",
        "        df_final = df_final.append({'model_name':model_file['model_name'],\r\n",
        "                                    'train_accuracy':'{0:.2f}'.format(model_file['model_CV'].best_score_),\r\n",
        "                                    'test_accuracy':'{0:.2f}'.format(class_report['accuracy']),\r\n",
        "                                    'macro_avg_precision':class_report['macro avg']['precision'],\r\n",
        "                                    'macro_avg_recall':class_report['macro avg']['recall'],\r\n",
        "                                    'macro_avg_f1-score':class_report['macro avg']['f1-score'],\r\n",
        "                                    'weighted_avg_precision':class_report['weighted avg']['precision'],\r\n",
        "                                    'weighted_avg_recall':class_report['weighted avg']['recall'],\r\n",
        "                                    'weighted_avg_f1-score':class_report['weighted avg']['f1-score']\r\n",
        "                                   },ignore_index=True)\r\n",
        "    return(df_final)\r\n",
        "\r\n",
        "class GridSearchSimulation(object):\r\n",
        "    # Class to include parameter best_score_\r\n",
        "    # so that it does not break the code.\r\n",
        "    def __init__(self,train_score):\r\n",
        "        self.best_score_ = train_score"
      ],
      "execution_count": 16,
      "outputs": []
    },
    {
      "cell_type": "code",
      "metadata": {
        "colab": {
          "base_uri": "https://localhost:8080/"
        },
        "id": "iAjEG7Aw4Qp4",
        "outputId": "0f8990a2-5528-4408-dd3b-f894ffa97ea0"
      },
      "source": [
        "predictions = np.array(preds[0].argmax(dim=1).tolist())\r\n",
        "predictions[:10]"
      ],
      "execution_count": 52,
      "outputs": [
        {
          "output_type": "execute_result",
          "data": {
            "text/plain": [
              "array([25, 20, 30,  8, 24, 24, 10, 28, 25, 15])"
            ]
          },
          "metadata": {
            "tags": []
          },
          "execution_count": 52
        }
      ]
    },
    {
      "cell_type": "code",
      "metadata": {
        "id": "HbKVeAXJ4cGG"
      },
      "source": [
        "model_name = 'headlines_pytorch_pretrained_NN'\r\n",
        "model_description = 'Pytorch Pretrained Neural Network Model on headlines only'"
      ],
      "execution_count": 60,
      "outputs": []
    },
    {
      "cell_type": "code",
      "metadata": {
        "id": "RezkODh14f9Z"
      },
      "source": [
        "trainning_score = 0.624219\r\n",
        "gssim = GridSearchSimulation(trainning_score)"
      ],
      "execution_count": 20,
      "outputs": []
    },
    {
      "cell_type": "code",
      "metadata": {
        "colab": {
          "base_uri": "https://localhost:8080/"
        },
        "id": "lTefOjJB47hr",
        "outputId": "626752b8-7671-4fca-e0b9-42c38906f139"
      },
      "source": [
        "pred_classes = [dls.vocab[1][idx] for idx in predictions]\r\n",
        "pred_classes[:10]"
      ],
      "execution_count": 53,
      "outputs": [
        {
          "output_type": "execute_result",
          "data": {
            "text/plain": [
              "['QUEER VOICES',\n",
              " 'MEDIA',\n",
              " 'STYLE & BEAUTY',\n",
              " 'DIVORCE',\n",
              " 'POLITICS',\n",
              " 'POLITICS',\n",
              " 'ENTERTAINMENT',\n",
              " 'SPORTS',\n",
              " 'QUEER VOICES',\n",
              " 'GREEN']"
            ]
          },
          "metadata": {
            "tags": []
          },
          "execution_count": 53
        }
      ]
    },
    {
      "cell_type": "code",
      "metadata": {
        "colab": {
          "base_uri": "https://localhost:8080/"
        },
        "id": "RtgV7VBB4sLL",
        "outputId": "bd8ca017-a5fa-44c3-aa3c-c8d841964d4c"
      },
      "source": [
        "np.mean(pred_classes == test.category)"
      ],
      "execution_count": 55,
      "outputs": [
        {
          "output_type": "execute_result",
          "data": {
            "text/plain": [
              "0.6284974609180524"
            ]
          },
          "metadata": {
            "tags": []
          },
          "execution_count": 55
        }
      ]
    },
    {
      "cell_type": "code",
      "metadata": {
        "id": "uLX7J2cJ8Omy"
      },
      "source": [
        "create_model_dict(model_name, model_description, gssim, test, pred_classes, False)"
      ],
      "execution_count": 61,
      "outputs": []
    }
  ]
}